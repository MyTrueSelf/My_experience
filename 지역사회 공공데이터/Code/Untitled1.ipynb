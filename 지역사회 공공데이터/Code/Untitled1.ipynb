{
 "cells": [
  {
   "cell_type": "code",
   "execution_count": 3,
   "metadata": {},
   "outputs": [
    {
     "data": {
      "text/plain": [
       "['.ipynb_checkpoints',\n",
       " '7.13.ipynb',\n",
       " 'COLOR.txt',\n",
       " 'Data exploration.ipynb',\n",
       " 'hangulExtraction.ipynb',\n",
       " 'parsed.xlsx',\n",
       " 'Size dataUNDERWEARE.csv',\n",
       " 'SIZE.txt',\n",
       " 'specialCharacter.ipynb',\n",
       " 'Untitled.ipynb',\n",
       " 'Untitled1.ipynb',\n",
       " '사이즈 분석.ipynb',\n",
       " '색 분류.ipynb',\n",
       " '표기법 수정기.ipynb',\n",
       " '푸리에.ipynb']"
      ]
     },
     "execution_count": 3,
     "metadata": {},
     "output_type": "execute_result"
    }
   ],
   "source": [
    "import os\n",
    "import pandas as pd\n",
    "\n",
    "os.chdir(r\"C:\\Users\\74857\\삼성물산\")\n",
    "os.listdir()"
   ]
  },
  {
   "cell_type": "code",
   "execution_count": 5,
   "metadata": {},
   "outputs": [],
   "source": [
    "rawSize = pd.read_csv(\"Size dataUNDERWEARE.csv\", encoding = \"euc-kr\")"
   ]
  },
  {
   "cell_type": "code",
   "execution_count": 6,
   "metadata": {},
   "outputs": [
    {
     "data": {
      "text/html": [
       "<div>\n",
       "<style scoped>\n",
       "    .dataframe tbody tr th:only-of-type {\n",
       "        vertical-align: middle;\n",
       "    }\n",
       "\n",
       "    .dataframe tbody tr th {\n",
       "        vertical-align: top;\n",
       "    }\n",
       "\n",
       "    .dataframe thead th {\n",
       "        text-align: right;\n",
       "    }\n",
       "</style>\n",
       "<table border=\"1\" class=\"dataframe\">\n",
       "  <thead>\n",
       "    <tr style=\"text-align: right;\">\n",
       "      <th></th>\n",
       "      <th>ID</th>\n",
       "      <th>COLLECT_SITE_CODE</th>\n",
       "      <th>ITEM_CLASS_CODE_VIEW</th>\n",
       "      <th>TYPE_CODE_VIEW</th>\n",
       "      <th>GROUP_CODE_VIEW</th>\n",
       "      <th>ITEM_CODE_VIEW</th>\n",
       "      <th>GOODS_CODE</th>\n",
       "      <th>GOODS_NAME</th>\n",
       "      <th>SIZE</th>\n",
       "    </tr>\n",
       "  </thead>\n",
       "  <tbody>\n",
       "    <tr>\n",
       "      <th>0</th>\n",
       "      <td>2508</td>\n",
       "      <td>DEF_SSG</td>\n",
       "      <td>ACC</td>\n",
       "      <td>WOMEN</td>\n",
       "      <td>UNDERWEARE</td>\n",
       "      <td>UNCLASSIFIED</td>\n",
       "      <td>KWA17824P</td>\n",
       "      <td>여성 FLYWALK WIDE 브라_KWA17824</td>\n",
       "      <td>1000026047297:S사이즈</td>\n",
       "    </tr>\n",
       "    <tr>\n",
       "      <th>1</th>\n",
       "      <td>2509</td>\n",
       "      <td>DEF_SSG</td>\n",
       "      <td>ACC</td>\n",
       "      <td>WOMEN</td>\n",
       "      <td>UNDERWEARE</td>\n",
       "      <td>UNCLASSIFIED</td>\n",
       "      <td>KWA17824P</td>\n",
       "      <td>여성 FLYWALK WIDE 브라_KWA17824</td>\n",
       "      <td>1000026047297:M사이즈</td>\n",
       "    </tr>\n",
       "    <tr>\n",
       "      <th>2</th>\n",
       "      <td>2510</td>\n",
       "      <td>DEF_SSG</td>\n",
       "      <td>ACC</td>\n",
       "      <td>WOMEN</td>\n",
       "      <td>UNDERWEARE</td>\n",
       "      <td>UNCLASSIFIED</td>\n",
       "      <td>KWA17824P</td>\n",
       "      <td>여성 FLYWALK WIDE 브라_KWA17824</td>\n",
       "      <td>1000026047297:L사이즈</td>\n",
       "    </tr>\n",
       "    <tr>\n",
       "      <th>3</th>\n",
       "      <td>3931</td>\n",
       "      <td>DEF_SSG</td>\n",
       "      <td>ACC</td>\n",
       "      <td>WOMEN</td>\n",
       "      <td>UNDERWEARE</td>\n",
       "      <td>UNCLASSIFIED</td>\n",
       "      <td>JKICX18152MMLSG</td>\n",
       "      <td>여성 노라인 SPORTY 브라 JKICX18152MML</td>\n",
       "      <td>1000028768582:90</td>\n",
       "    </tr>\n",
       "    <tr>\n",
       "      <th>4</th>\n",
       "      <td>3932</td>\n",
       "      <td>DEF_SSG</td>\n",
       "      <td>ACC</td>\n",
       "      <td>WOMEN</td>\n",
       "      <td>UNDERWEARE</td>\n",
       "      <td>UNCLASSIFIED</td>\n",
       "      <td>JKICX18152MMLSG</td>\n",
       "      <td>여성 노라인 SPORTY 브라 JKICX18152MML</td>\n",
       "      <td>1000028768582:95</td>\n",
       "    </tr>\n",
       "  </tbody>\n",
       "</table>\n",
       "</div>"
      ],
      "text/plain": [
       "     ID COLLECT_SITE_CODE ITEM_CLASS_CODE_VIEW TYPE_CODE_VIEW GROUP_CODE_VIEW  \\\n",
       "0  2508           DEF_SSG                  ACC          WOMEN      UNDERWEARE   \n",
       "1  2509           DEF_SSG                  ACC          WOMEN      UNDERWEARE   \n",
       "2  2510           DEF_SSG                  ACC          WOMEN      UNDERWEARE   \n",
       "3  3931           DEF_SSG                  ACC          WOMEN      UNDERWEARE   \n",
       "4  3932           DEF_SSG                  ACC          WOMEN      UNDERWEARE   \n",
       "\n",
       "  ITEM_CODE_VIEW       GOODS_CODE                      GOODS_NAME  \\\n",
       "0   UNCLASSIFIED        KWA17824P     여성 FLYWALK WIDE 브라_KWA17824   \n",
       "1   UNCLASSIFIED        KWA17824P     여성 FLYWALK WIDE 브라_KWA17824   \n",
       "2   UNCLASSIFIED        KWA17824P     여성 FLYWALK WIDE 브라_KWA17824   \n",
       "3   UNCLASSIFIED  JKICX18152MMLSG  여성 노라인 SPORTY 브라 JKICX18152MML   \n",
       "4   UNCLASSIFIED  JKICX18152MMLSG  여성 노라인 SPORTY 브라 JKICX18152MML   \n",
       "\n",
       "                 SIZE  \n",
       "0  1000026047297:S사이즈  \n",
       "1  1000026047297:M사이즈  \n",
       "2  1000026047297:L사이즈  \n",
       "3    1000028768582:90  \n",
       "4    1000028768582:95  "
      ]
     },
     "execution_count": 6,
     "metadata": {},
     "output_type": "execute_result"
    }
   ],
   "source": [
    "rawSize.head()"
   ]
  }
 ],
 "metadata": {
  "kernelspec": {
   "display_name": "Python 3",
   "language": "python",
   "name": "python3"
  },
  "language_info": {
   "codemirror_mode": {
    "name": "ipython",
    "version": 3
   },
   "file_extension": ".py",
   "mimetype": "text/x-python",
   "name": "python",
   "nbconvert_exporter": "python",
   "pygments_lexer": "ipython3",
   "version": "3.6.4"
  }
 },
 "nbformat": 4,
 "nbformat_minor": 2
}
