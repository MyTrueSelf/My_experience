{
 "cells": [
  {
   "cell_type": "code",
   "execution_count": 1,
   "metadata": {},
   "outputs": [],
   "source": [
    "import pandas as pd\n",
    "import numpy as np\n",
    "import matplotlib.pyplot as plt\n",
    "import random as rd"
   ]
  },
  {
   "cell_type": "code",
   "execution_count": 115,
   "metadata": {},
   "outputs": [],
   "source": [
    "BIGdata = pd.read_csv(r'C:\\Users\\74857\\데이콘야구\\동국대\\회원성적자료_복사본.txt',engine='python')"
   ]
  },
  {
   "cell_type": "code",
   "execution_count": 116,
   "metadata": {
    "scrolled": true
   },
   "outputs": [
    {
     "data": {
      "text/html": [
       "<div>\n",
       "<style scoped>\n",
       "    .dataframe tbody tr th:only-of-type {\n",
       "        vertical-align: middle;\n",
       "    }\n",
       "\n",
       "    .dataframe tbody tr th {\n",
       "        vertical-align: top;\n",
       "    }\n",
       "\n",
       "    .dataframe thead th {\n",
       "        text-align: right;\n",
       "    }\n",
       "</style>\n",
       "<table border=\"1\" class=\"dataframe\">\n",
       "  <thead>\n",
       "    <tr style=\"text-align: right;\">\n",
       "      <th></th>\n",
       "      <th>EXAMTYPE</th>\n",
       "      <th>MEM_NO</th>\n",
       "      <th>SUB_CD</th>\n",
       "      <th>EXAMNO</th>\n",
       "      <th>SCORE</th>\n",
       "      <th>AC_STD</th>\n",
       "      <th>AC_PCT</th>\n",
       "      <th>RATING</th>\n",
       "      <th>CHEONGSOL_YN</th>\n",
       "    </tr>\n",
       "  </thead>\n",
       "  <tbody>\n",
       "    <tr>\n",
       "      <th>0</th>\n",
       "      <td>1</td>\n",
       "      <td>13907</td>\n",
       "      <td>2000</td>\n",
       "      <td>210</td>\n",
       "      <td>0</td>\n",
       "      <td>54.0</td>\n",
       "      <td>0.0</td>\n",
       "      <td>9</td>\n",
       "      <td>0</td>\n",
       "    </tr>\n",
       "    <tr>\n",
       "      <th>1</th>\n",
       "      <td>1</td>\n",
       "      <td>363741</td>\n",
       "      <td>1000</td>\n",
       "      <td>210</td>\n",
       "      <td>0</td>\n",
       "      <td>42.0</td>\n",
       "      <td>0.0</td>\n",
       "      <td>9</td>\n",
       "      <td>0</td>\n",
       "    </tr>\n",
       "    <tr>\n",
       "      <th>2</th>\n",
       "      <td>1</td>\n",
       "      <td>363741</td>\n",
       "      <td>2000</td>\n",
       "      <td>210</td>\n",
       "      <td>0</td>\n",
       "      <td>54.0</td>\n",
       "      <td>0.0</td>\n",
       "      <td>9</td>\n",
       "      <td>0</td>\n",
       "    </tr>\n",
       "    <tr>\n",
       "      <th>3</th>\n",
       "      <td>1</td>\n",
       "      <td>363741</td>\n",
       "      <td>3000</td>\n",
       "      <td>210</td>\n",
       "      <td>0</td>\n",
       "      <td>57.0</td>\n",
       "      <td>1.0</td>\n",
       "      <td>9</td>\n",
       "      <td>0</td>\n",
       "    </tr>\n",
       "    <tr>\n",
       "      <th>4</th>\n",
       "      <td>1</td>\n",
       "      <td>363741</td>\n",
       "      <td>4112</td>\n",
       "      <td>210</td>\n",
       "      <td>0</td>\n",
       "      <td>17.0</td>\n",
       "      <td>0.0</td>\n",
       "      <td>9</td>\n",
       "      <td>0</td>\n",
       "    </tr>\n",
       "  </tbody>\n",
       "</table>\n",
       "</div>"
      ],
      "text/plain": [
       "   EXAMTYPE  MEM_NO  SUB_CD  EXAMNO  SCORE  AC_STD  AC_PCT  RATING  \\\n",
       "0         1   13907    2000     210      0    54.0     0.0       9   \n",
       "1         1  363741    1000     210      0    42.0     0.0       9   \n",
       "2         1  363741    2000     210      0    54.0     0.0       9   \n",
       "3         1  363741    3000     210      0    57.0     1.0       9   \n",
       "4         1  363741    4112     210      0    17.0     0.0       9   \n",
       "\n",
       "   CHEONGSOL_YN  \n",
       "0             0  \n",
       "1             0  \n",
       "2             0  \n",
       "3             0  \n",
       "4             0  "
      ]
     },
     "execution_count": 116,
     "metadata": {},
     "output_type": "execute_result"
    }
   ],
   "source": [
    "BIGdata.head()"
   ]
  },
  {
   "cell_type": "code",
   "execution_count": 161,
   "metadata": {},
   "outputs": [
    {
     "data": {
      "text/html": [
       "<div>\n",
       "<style scoped>\n",
       "    .dataframe tbody tr th:only-of-type {\n",
       "        vertical-align: middle;\n",
       "    }\n",
       "\n",
       "    .dataframe tbody tr th {\n",
       "        vertical-align: top;\n",
       "    }\n",
       "\n",
       "    .dataframe thead th {\n",
       "        text-align: right;\n",
       "    }\n",
       "</style>\n",
       "<table border=\"1\" class=\"dataframe\">\n",
       "  <thead>\n",
       "    <tr style=\"text-align: right;\">\n",
       "      <th></th>\n",
       "      <th></th>\n",
       "      <th>count</th>\n",
       "      <th>mean</th>\n",
       "      <th>std</th>\n",
       "      <th>min</th>\n",
       "      <th>25%</th>\n",
       "      <th>50%</th>\n",
       "      <th>75%</th>\n",
       "      <th>max</th>\n",
       "    </tr>\n",
       "    <tr>\n",
       "      <th>EXAMTYPE</th>\n",
       "      <th>CHEONGSOL_YN</th>\n",
       "      <th></th>\n",
       "      <th></th>\n",
       "      <th></th>\n",
       "      <th></th>\n",
       "      <th></th>\n",
       "      <th></th>\n",
       "      <th></th>\n",
       "      <th></th>\n",
       "    </tr>\n",
       "  </thead>\n",
       "  <tbody>\n",
       "    <tr>\n",
       "      <th>1</th>\n",
       "      <th>0</th>\n",
       "      <td>1635501.0</td>\n",
       "      <td>29.553236</td>\n",
       "      <td>31.515063</td>\n",
       "      <td>0.0</td>\n",
       "      <td>0.0</td>\n",
       "      <td>24.0</td>\n",
       "      <td>48.0</td>\n",
       "      <td>100.0</td>\n",
       "    </tr>\n",
       "    <tr>\n",
       "      <th rowspan=\"2\" valign=\"top\">2</th>\n",
       "      <th>0</th>\n",
       "      <td>2074565.0</td>\n",
       "      <td>49.350199</td>\n",
       "      <td>25.621772</td>\n",
       "      <td>0.0</td>\n",
       "      <td>28.0</td>\n",
       "      <td>46.0</td>\n",
       "      <td>72.0</td>\n",
       "      <td>100.0</td>\n",
       "    </tr>\n",
       "    <tr>\n",
       "      <th>1</th>\n",
       "      <td>28771.0</td>\n",
       "      <td>61.278579</td>\n",
       "      <td>22.551487</td>\n",
       "      <td>2.0</td>\n",
       "      <td>42.0</td>\n",
       "      <td>65.0</td>\n",
       "      <td>82.0</td>\n",
       "      <td>100.0</td>\n",
       "    </tr>\n",
       "  </tbody>\n",
       "</table>\n",
       "</div>"
      ],
      "text/plain": [
       "                           count       mean        std  min   25%   50%   75%  \\\n",
       "EXAMTYPE CHEONGSOL_YN                                                           \n",
       "1        0             1635501.0  29.553236  31.515063  0.0   0.0  24.0  48.0   \n",
       "2        0             2074565.0  49.350199  25.621772  0.0  28.0  46.0  72.0   \n",
       "         1               28771.0  61.278579  22.551487  2.0  42.0  65.0  82.0   \n",
       "\n",
       "                         max  \n",
       "EXAMTYPE CHEONGSOL_YN         \n",
       "1        0             100.0  \n",
       "2        0             100.0  \n",
       "         1             100.0  "
      ]
     },
     "execution_count": 161,
     "metadata": {},
     "output_type": "execute_result"
    }
   ],
   "source": [
    "BIGdata['SCORE'].groupby([BIGdata['EXAMTYPE'],BIGdata['CHEONGSOL_YN']]).describe()"
   ]
  },
  {
   "cell_type": "code",
   "execution_count": 11,
   "metadata": {},
   "outputs": [],
   "source": [
    "SUB_CD_LIST=list(BIGdata['SUB_CD'].unique())"
   ]
  },
  {
   "cell_type": "code",
   "execution_count": 117,
   "metadata": {},
   "outputs": [
    {
     "data": {
      "text/html": [
       "<div>\n",
       "<style scoped>\n",
       "    .dataframe tbody tr th:only-of-type {\n",
       "        vertical-align: middle;\n",
       "    }\n",
       "\n",
       "    .dataframe tbody tr th {\n",
       "        vertical-align: top;\n",
       "    }\n",
       "\n",
       "    .dataframe thead th {\n",
       "        text-align: right;\n",
       "    }\n",
       "</style>\n",
       "<table border=\"1\" class=\"dataframe\">\n",
       "  <thead>\n",
       "    <tr style=\"text-align: right;\">\n",
       "      <th></th>\n",
       "      <th>EXAMTYPE</th>\n",
       "      <th>MEM_NO</th>\n",
       "      <th>SUB_CD</th>\n",
       "      <th>EXAMNO</th>\n",
       "      <th>SCORE</th>\n",
       "      <th>AC_STD</th>\n",
       "      <th>AC_PCT</th>\n",
       "      <th>RATING</th>\n",
       "      <th>CHEONGSOL_YN</th>\n",
       "    </tr>\n",
       "  </thead>\n",
       "  <tbody>\n",
       "  </tbody>\n",
       "</table>\n",
       "</div>"
      ],
      "text/plain": [
       "Empty DataFrame\n",
       "Columns: [EXAMTYPE, MEM_NO, SUB_CD, EXAMNO, SCORE, AC_STD, AC_PCT, RATING, CHEONGSOL_YN]\n",
       "Index: []"
      ]
     },
     "execution_count": 117,
     "metadata": {},
     "output_type": "execute_result"
    }
   ],
   "source": [
    "BIGdata[:0]"
   ]
  },
  {
   "cell_type": "code",
   "execution_count": 2,
   "metadata": {},
   "outputs": [],
   "source": [
    "SUB_EXAMNO_LIST=[212,213,216,217,220,221,222,223,228,229,232,233,236,237,238,239,3002,3004,3005,3008,3009,3011,3013,3014,3021,3022,3023,3024\n",
    ",3025,3026,3027,3028]"
   ]
  },
  {
   "cell_type": "markdown",
   "metadata": {},
   "source": [
    "212~239는 모의고사. EXAMTYPE==1"
   ]
  },
  {
   "cell_type": "code",
   "execution_count": 19,
   "metadata": {},
   "outputs": [],
   "source": [
    "## 데이터 과목별로 저장하는 방법\n",
    "#for i in SUB_CD_LIST:\n",
    "#    Alist= BIGdata[BIGdata['SUB_CD']==i]\n",
    "#    Alist.to_csv(r'C:\\Users\\74857\\데이콘야구\\동국대\\DATA_'+str(i)+'.csv',header=True,index=False)"
   ]
  },
  {
   "cell_type": "code",
   "execution_count": 119,
   "metadata": {},
   "outputs": [
    {
     "data": {
      "text/html": [
       "<div>\n",
       "<style scoped>\n",
       "    .dataframe tbody tr th:only-of-type {\n",
       "        vertical-align: middle;\n",
       "    }\n",
       "\n",
       "    .dataframe tbody tr th {\n",
       "        vertical-align: top;\n",
       "    }\n",
       "\n",
       "    .dataframe thead th {\n",
       "        text-align: right;\n",
       "    }\n",
       "</style>\n",
       "<table border=\"1\" class=\"dataframe\">\n",
       "  <thead>\n",
       "    <tr style=\"text-align: right;\">\n",
       "      <th></th>\n",
       "      <th>EXAMTYPE</th>\n",
       "      <th>MEM_NO</th>\n",
       "      <th>SUB_CD</th>\n",
       "      <th>EXAMNO</th>\n",
       "      <th>SCORE</th>\n",
       "      <th>AC_STD</th>\n",
       "      <th>AC_PCT</th>\n",
       "      <th>RATING</th>\n",
       "      <th>CHEONGSOL_YN</th>\n",
       "    </tr>\n",
       "  </thead>\n",
       "  <tbody>\n",
       "    <tr>\n",
       "      <th>29792</th>\n",
       "      <td>1</td>\n",
       "      <td>14402</td>\n",
       "      <td>1000</td>\n",
       "      <td>212</td>\n",
       "      <td>47</td>\n",
       "      <td>90.0</td>\n",
       "      <td>31.0</td>\n",
       "      <td>6</td>\n",
       "      <td>0</td>\n",
       "    </tr>\n",
       "    <tr>\n",
       "      <th>29793</th>\n",
       "      <td>1</td>\n",
       "      <td>14402</td>\n",
       "      <td>2100</td>\n",
       "      <td>212</td>\n",
       "      <td>30</td>\n",
       "      <td>87.0</td>\n",
       "      <td>32.0</td>\n",
       "      <td>6</td>\n",
       "      <td>0</td>\n",
       "    </tr>\n",
       "    <tr>\n",
       "      <th>29794</th>\n",
       "      <td>1</td>\n",
       "      <td>14402</td>\n",
       "      <td>3000</td>\n",
       "      <td>212</td>\n",
       "      <td>50</td>\n",
       "      <td>94.0</td>\n",
       "      <td>38.0</td>\n",
       "      <td>5</td>\n",
       "      <td>0</td>\n",
       "    </tr>\n",
       "    <tr>\n",
       "      <th>29795</th>\n",
       "      <td>1</td>\n",
       "      <td>14402</td>\n",
       "      <td>4207</td>\n",
       "      <td>212</td>\n",
       "      <td>21</td>\n",
       "      <td>47.0</td>\n",
       "      <td>44.0</td>\n",
       "      <td>5</td>\n",
       "      <td>0</td>\n",
       "    </tr>\n",
       "    <tr>\n",
       "      <th>29796</th>\n",
       "      <td>1</td>\n",
       "      <td>14402</td>\n",
       "      <td>4213</td>\n",
       "      <td>212</td>\n",
       "      <td>15</td>\n",
       "      <td>47.0</td>\n",
       "      <td>44.0</td>\n",
       "      <td>5</td>\n",
       "      <td>0</td>\n",
       "    </tr>\n",
       "  </tbody>\n",
       "</table>\n",
       "</div>"
      ],
      "text/plain": [
       "       EXAMTYPE  MEM_NO  SUB_CD  EXAMNO  SCORE  AC_STD  AC_PCT  RATING  \\\n",
       "29792         1   14402    1000     212     47    90.0    31.0       6   \n",
       "29793         1   14402    2100     212     30    87.0    32.0       6   \n",
       "29794         1   14402    3000     212     50    94.0    38.0       5   \n",
       "29795         1   14402    4207     212     21    47.0    44.0       5   \n",
       "29796         1   14402    4213     212     15    47.0    44.0       5   \n",
       "\n",
       "       CHEONGSOL_YN  \n",
       "29792             0  \n",
       "29793             0  \n",
       "29794             0  \n",
       "29795             0  \n",
       "29796             0  "
      ]
     },
     "execution_count": 119,
     "metadata": {},
     "output_type": "execute_result"
    }
   ],
   "source": [
    "#고 3데이터의 집합\n",
    "#BIG3data=BIGdata[:0]\n",
    "#for i in SUB_EXAMNO_LIST:\n",
    "#    BIG3data= pd.concat([BIG3data,BIGdata[BIGdata['EXAMNO']==i]])\n",
    "BIG3data.head()"
   ]
  },
  {
   "cell_type": "code",
   "execution_count": 128,
   "metadata": {
    "scrolled": true
   },
   "outputs": [
    {
     "data": {
      "text/plain": [
       "2979319"
      ]
     },
     "execution_count": 128,
     "metadata": {},
     "output_type": "execute_result"
    }
   ],
   "source": [
    "len(BIG3data) "
   ]
  },
  {
   "cell_type": "markdown",
   "metadata": {},
   "source": [
    "# 고3 데이터 = 312만개의 데이터"
   ]
  },
  {
   "cell_type": "code",
   "execution_count": 20,
   "metadata": {
    "collapsed": true
   },
   "outputs": [
    {
     "data": {
      "text/html": [
       "<div>\n",
       "<style scoped>\n",
       "    .dataframe tbody tr th:only-of-type {\n",
       "        vertical-align: middle;\n",
       "    }\n",
       "\n",
       "    .dataframe tbody tr th {\n",
       "        vertical-align: top;\n",
       "    }\n",
       "\n",
       "    .dataframe thead th {\n",
       "        text-align: right;\n",
       "    }\n",
       "</style>\n",
       "<table border=\"1\" class=\"dataframe\">\n",
       "  <thead>\n",
       "    <tr style=\"text-align: right;\">\n",
       "      <th></th>\n",
       "      <th>EXAMTYPE</th>\n",
       "      <th>MEM_NO</th>\n",
       "      <th>SUB_CD</th>\n",
       "      <th>EXAMNO</th>\n",
       "      <th>SCORE</th>\n",
       "      <th>AC_STD</th>\n",
       "      <th>AC_PCT</th>\n",
       "      <th>RATING</th>\n",
       "    </tr>\n",
       "  </thead>\n",
       "  <tbody>\n",
       "    <tr>\n",
       "      <th>count</th>\n",
       "      <td>3.125213e+06</td>\n",
       "      <td>3.125213e+06</td>\n",
       "      <td>3.125213e+06</td>\n",
       "      <td>3.125213e+06</td>\n",
       "      <td>3.125213e+06</td>\n",
       "      <td>3.125213e+06</td>\n",
       "      <td>3.125213e+06</td>\n",
       "      <td>3.125213e+06</td>\n",
       "    </tr>\n",
       "    <tr>\n",
       "      <th>mean</th>\n",
       "      <td>1.546868e+00</td>\n",
       "      <td>9.628403e+11</td>\n",
       "      <td>3.324312e+03</td>\n",
       "      <td>1.751455e+03</td>\n",
       "      <td>4.218625e+01</td>\n",
       "      <td>7.403589e+01</td>\n",
       "      <td>4.887278e+01</td>\n",
       "      <td>5.046101e+00</td>\n",
       "    </tr>\n",
       "    <tr>\n",
       "      <th>std</th>\n",
       "      <td>4.977986e-01</td>\n",
       "      <td>8.939357e+11</td>\n",
       "      <td>1.715644e+03</td>\n",
       "      <td>1.388821e+03</td>\n",
       "      <td>3.039567e+01</td>\n",
       "      <td>3.403655e+01</td>\n",
       "      <td>3.518490e+01</td>\n",
       "      <td>2.677018e+00</td>\n",
       "    </tr>\n",
       "    <tr>\n",
       "      <th>min</th>\n",
       "      <td>1.000000e+00</td>\n",
       "      <td>1.095100e+04</td>\n",
       "      <td>1.000000e+03</td>\n",
       "      <td>2.120000e+02</td>\n",
       "      <td>0.000000e+00</td>\n",
       "      <td>0.000000e+00</td>\n",
       "      <td>0.000000e+00</td>\n",
       "      <td>1.000000e+00</td>\n",
       "    </tr>\n",
       "    <tr>\n",
       "      <th>25%</th>\n",
       "      <td>1.000000e+00</td>\n",
       "      <td>5.197901e+06</td>\n",
       "      <td>2.100000e+03</td>\n",
       "      <td>2.280000e+02</td>\n",
       "      <td>1.600000e+01</td>\n",
       "      <td>4.800000e+01</td>\n",
       "      <td>1.200000e+01</td>\n",
       "      <td>3.000000e+00</td>\n",
       "    </tr>\n",
       "    <tr>\n",
       "      <th>50%</th>\n",
       "      <td>2.000000e+00</td>\n",
       "      <td>1.711821e+12</td>\n",
       "      <td>3.000000e+03</td>\n",
       "      <td>3.002000e+03</td>\n",
       "      <td>4.000000e+01</td>\n",
       "      <td>6.300000e+01</td>\n",
       "      <td>5.300000e+01</td>\n",
       "      <td>5.000000e+00</td>\n",
       "    </tr>\n",
       "    <tr>\n",
       "      <th>75%</th>\n",
       "      <td>2.000000e+00</td>\n",
       "      <td>1.811809e+12</td>\n",
       "      <td>4.207000e+03</td>\n",
       "      <td>3.021000e+03</td>\n",
       "      <td>7.000000e+01</td>\n",
       "      <td>1.090000e+02</td>\n",
       "      <td>8.100000e+01</td>\n",
       "      <td>7.000000e+00</td>\n",
       "    </tr>\n",
       "    <tr>\n",
       "      <th>max</th>\n",
       "      <td>2.000000e+00</td>\n",
       "      <td>1.886815e+12</td>\n",
       "      <td>7.000000e+03</td>\n",
       "      <td>3.028000e+03</td>\n",
       "      <td>1.000000e+02</td>\n",
       "      <td>1.560000e+02</td>\n",
       "      <td>1.000000e+02</td>\n",
       "      <td>9.000000e+00</td>\n",
       "    </tr>\n",
       "  </tbody>\n",
       "</table>\n",
       "</div>"
      ],
      "text/plain": [
       "           EXAMTYPE        MEM_NO        SUB_CD        EXAMNO         SCORE  \\\n",
       "count  3.125213e+06  3.125213e+06  3.125213e+06  3.125213e+06  3.125213e+06   \n",
       "mean   1.546868e+00  9.628403e+11  3.324312e+03  1.751455e+03  4.218625e+01   \n",
       "std    4.977986e-01  8.939357e+11  1.715644e+03  1.388821e+03  3.039567e+01   \n",
       "min    1.000000e+00  1.095100e+04  1.000000e+03  2.120000e+02  0.000000e+00   \n",
       "25%    1.000000e+00  5.197901e+06  2.100000e+03  2.280000e+02  1.600000e+01   \n",
       "50%    2.000000e+00  1.711821e+12  3.000000e+03  3.002000e+03  4.000000e+01   \n",
       "75%    2.000000e+00  1.811809e+12  4.207000e+03  3.021000e+03  7.000000e+01   \n",
       "max    2.000000e+00  1.886815e+12  7.000000e+03  3.028000e+03  1.000000e+02   \n",
       "\n",
       "             AC_STD        AC_PCT        RATING  \n",
       "count  3.125213e+06  3.125213e+06  3.125213e+06  \n",
       "mean   7.403589e+01  4.887278e+01  5.046101e+00  \n",
       "std    3.403655e+01  3.518490e+01  2.677018e+00  \n",
       "min    0.000000e+00  0.000000e+00  1.000000e+00  \n",
       "25%    4.800000e+01  1.200000e+01  3.000000e+00  \n",
       "50%    6.300000e+01  5.300000e+01  5.000000e+00  \n",
       "75%    1.090000e+02  8.100000e+01  7.000000e+00  \n",
       "max    1.560000e+02  1.000000e+02  9.000000e+00  "
      ]
     },
     "execution_count": 20,
     "metadata": {},
     "output_type": "execute_result"
    }
   ],
   "source": [
    "BIG3data.describe() #의미가 없음"
   ]
  },
  {
   "cell_type": "markdown",
   "metadata": {},
   "source": [
    "## 결측치 전혀 없음"
   ]
  },
  {
   "cell_type": "code",
   "execution_count": 121,
   "metadata": {},
   "outputs": [
    {
     "data": {
      "text/plain": [
       "EXAMTYPE        0\n",
       "MEM_NO          0\n",
       "SUB_CD          0\n",
       "EXAMNO          0\n",
       "SCORE           0\n",
       "AC_STD          0\n",
       "AC_PCT          0\n",
       "RATING          0\n",
       "CHEONGSOL_YN    0\n",
       "dtype: int64"
      ]
     },
     "execution_count": 121,
     "metadata": {},
     "output_type": "execute_result"
    }
   ],
   "source": [
    "BIG3data.isnull().sum() "
   ]
  },
  {
   "cell_type": "code",
   "execution_count": 44,
   "metadata": {
    "scrolled": true
   },
   "outputs": [
    {
     "data": {
      "image/png": "[encoded data removed]",
      "text/plain": [
       "<Figure size 432x288 with 1 Axes>"
      ]
     },
     "metadata": {
      "needs_background": "light"
     },
     "output_type": "display_data"
    }
   ],
   "source": [
    "plt.plot(BIG3data[(BIG3data['SUB_CD']==1000) & (BIG3data['EXAMNO']==212)]['MEM_NO'],\n",
    "         BIG3data[(BIG3data['SUB_CD']==1000) & (BIG3data['EXAMNO']==212)]['SCORE'],'.')\n",
    "plt.xlabel('MEM_NO')\n",
    "plt.ylabel('each SCORE')\n",
    "plt.show()"
   ]
  },
  {
   "cell_type": "markdown",
   "metadata": {},
   "source": [
    "## 모의고사의 경우 0점이 매우 많음"
   ]
  },
  {
   "cell_type": "markdown",
   "metadata": {},
   "source": [
    "## 모의고사 별로, MEM_NO마다 sum(SCORE)==0인 사람들 수색해서 제거하기(이중 95%는 제거)"
   ]
  },
  {
   "cell_type": "code",
   "execution_count": 127,
   "metadata": {},
   "outputs": [
    {
     "data": {
      "text/plain": [
       "2097356"
      ]
     },
     "execution_count": 127,
     "metadata": {},
     "output_type": "execute_result"
    }
   ],
   "source": [
    "BIG3data = BIG3data.drop_duplicates()\n",
    "len(BIG3data)"
   ]
  },
  {
   "cell_type": "code",
   "execution_count": 123,
   "metadata": {},
   "outputs": [],
   "source": [
    "SC_33=BIG3data['SCORE'].groupby([BIG3data['EXAMNO'],BIG3data['MEM_NO']]).sum()"
   ]
  },
  {
   "cell_type": "code",
   "execution_count": 124,
   "metadata": {},
   "outputs": [
    {
     "data": {
      "text/html": [
       "<div>\n",
       "<style scoped>\n",
       "    .dataframe tbody tr th:only-of-type {\n",
       "        vertical-align: middle;\n",
       "    }\n",
       "\n",
       "    .dataframe tbody tr th {\n",
       "        vertical-align: top;\n",
       "    }\n",
       "\n",
       "    .dataframe thead th {\n",
       "        text-align: right;\n",
       "    }\n",
       "</style>\n",
       "<table border=\"1\" class=\"dataframe\">\n",
       "  <thead>\n",
       "    <tr style=\"text-align: right;\">\n",
       "      <th></th>\n",
       "      <th>EXAMNO</th>\n",
       "      <th>MEM_NO</th>\n",
       "      <th>SCORE</th>\n",
       "    </tr>\n",
       "  </thead>\n",
       "  <tbody>\n",
       "    <tr>\n",
       "      <th>0</th>\n",
       "      <td>212</td>\n",
       "      <td>14402</td>\n",
       "      <td>189</td>\n",
       "    </tr>\n",
       "    <tr>\n",
       "      <th>1</th>\n",
       "      <td>212</td>\n",
       "      <td>69420</td>\n",
       "      <td>169</td>\n",
       "    </tr>\n",
       "    <tr>\n",
       "      <th>2</th>\n",
       "      <td>212</td>\n",
       "      <td>77385</td>\n",
       "      <td>274</td>\n",
       "    </tr>\n",
       "    <tr>\n",
       "      <th>3</th>\n",
       "      <td>212</td>\n",
       "      <td>83920</td>\n",
       "      <td>100</td>\n",
       "    </tr>\n",
       "    <tr>\n",
       "      <th>4</th>\n",
       "      <td>212</td>\n",
       "      <td>101936</td>\n",
       "      <td>404</td>\n",
       "    </tr>\n",
       "  </tbody>\n",
       "</table>\n",
       "</div>"
      ],
      "text/plain": [
       "  EXAMNO  MEM_NO  SCORE\n",
       "0    212   14402    189\n",
       "1    212   69420    169\n",
       "2    212   77385    274\n",
       "3    212   83920    100\n",
       "4    212  101936    404"
      ]
     },
     "execution_count": 124,
     "metadata": {},
     "output_type": "execute_result"
    }
   ],
   "source": [
    "SC_33=SC_33.add_suffix('').reset_index()\n",
    "SC_33.head()"
   ]
  },
  {
   "cell_type": "code",
   "execution_count": 125,
   "metadata": {},
   "outputs": [
    {
     "data": {
      "text/html": [
       "<div>\n",
       "<style scoped>\n",
       "    .dataframe tbody tr th:only-of-type {\n",
       "        vertical-align: middle;\n",
       "    }\n",
       "\n",
       "    .dataframe tbody tr th {\n",
       "        vertical-align: top;\n",
       "    }\n",
       "\n",
       "    .dataframe thead th {\n",
       "        text-align: right;\n",
       "    }\n",
       "</style>\n",
       "<table border=\"1\" class=\"dataframe\">\n",
       "  <thead>\n",
       "    <tr style=\"text-align: right;\">\n",
       "      <th></th>\n",
       "      <th>EXAMNO</th>\n",
       "      <th>MEM_NO</th>\n",
       "    </tr>\n",
       "  </thead>\n",
       "  <tbody>\n",
       "    <tr>\n",
       "      <th>7</th>\n",
       "      <td>212</td>\n",
       "      <td>237672</td>\n",
       "    </tr>\n",
       "    <tr>\n",
       "      <th>8</th>\n",
       "      <td>212</td>\n",
       "      <td>321512</td>\n",
       "    </tr>\n",
       "    <tr>\n",
       "      <th>9</th>\n",
       "      <td>212</td>\n",
       "      <td>353627</td>\n",
       "    </tr>\n",
       "    <tr>\n",
       "      <th>10</th>\n",
       "      <td>212</td>\n",
       "      <td>370644</td>\n",
       "    </tr>\n",
       "    <tr>\n",
       "      <th>11</th>\n",
       "      <td>212</td>\n",
       "      <td>388415</td>\n",
       "    </tr>\n",
       "  </tbody>\n",
       "</table>\n",
       "</div>"
      ],
      "text/plain": [
       "   EXAMNO  MEM_NO\n",
       "7     212  237672\n",
       "8     212  321512\n",
       "9     212  353627\n",
       "10    212  370644\n",
       "11    212  388415"
      ]
     },
     "execution_count": 125,
     "metadata": {},
     "output_type": "execute_result"
    }
   ],
   "source": [
    "#https://stackoverflow.com/questions/10373660/converting-a-pandas-groupby-object-to-dataframe/32307259\n",
    "elimitlist = SC_33[SC_33['SCORE']==0][['EXAMNO','MEM_NO']]\n",
    "elimitlist.head()"
   ]
  },
  {
   "cell_type": "markdown",
   "metadata": {},
   "source": [
    "## elimitlist에 있는 모든 학생은 제거를 추천(모든 입력 점수가 0인 학생들.)"
   ]
  },
  {
   "cell_type": "code",
   "execution_count": 130,
   "metadata": {},
   "outputs": [
    {
     "data": {
      "text/plain": [
       "2112524"
      ]
     },
     "execution_count": 130,
     "metadata": {},
     "output_type": "execute_result"
    }
   ],
   "source": [
    "BIG3data[~(BIG3data['EXAMNO'].isin(elimitlist['EXAMNO'])) | ~(BIG3data['MEM_NO'].isin(elimitlist['MEM_NO'])) ].head()"
   ]
  },
  {
   "cell_type": "code",
   "execution_count": 134,
   "metadata": {},
   "outputs": [],
   "source": [
    "BIG3_elidata = BIG3data[~(BIG3data['EXAMNO'].isin(elimitlist['EXAMNO'])) | ~(BIG3data['MEM_NO'].isin(elimitlist['MEM_NO']))]"
   ]
  },
  {
   "cell_type": "code",
   "execution_count": 136,
   "metadata": {},
   "outputs": [
    {
     "data": {
      "text/html": [
       "<div>\n",
       "<style scoped>\n",
       "    .dataframe tbody tr th:only-of-type {\n",
       "        vertical-align: middle;\n",
       "    }\n",
       "\n",
       "    .dataframe tbody tr th {\n",
       "        vertical-align: top;\n",
       "    }\n",
       "\n",
       "    .dataframe thead th {\n",
       "        text-align: right;\n",
       "    }\n",
       "</style>\n",
       "<table border=\"1\" class=\"dataframe\">\n",
       "  <thead>\n",
       "    <tr style=\"text-align: right;\">\n",
       "      <th></th>\n",
       "      <th>EXAMTYPE</th>\n",
       "      <th>MEM_NO</th>\n",
       "      <th>SUB_CD</th>\n",
       "      <th>EXAMNO</th>\n",
       "      <th>SCORE</th>\n",
       "      <th>AC_STD</th>\n",
       "      <th>AC_PCT</th>\n",
       "      <th>RATING</th>\n",
       "      <th>CHEONGSOL_YN</th>\n",
       "    </tr>\n",
       "  </thead>\n",
       "  <tbody>\n",
       "  </tbody>\n",
       "</table>\n",
       "</div>"
      ],
      "text/plain": [
       "Empty DataFrame\n",
       "Columns: [EXAMTYPE, MEM_NO, SUB_CD, EXAMNO, SCORE, AC_STD, AC_PCT, RATING, CHEONGSOL_YN]\n",
       "Index: []"
      ]
     },
     "execution_count": 136,
     "metadata": {},
     "output_type": "execute_result"
    }
   ],
   "source": [
    "BIG3_elidata[BIG3_elidata['MEM_NO']==237672] #없어진 것을 확인."
   ]
  },
  {
   "cell_type": "code",
   "execution_count": 137,
   "metadata": {},
   "outputs": [],
   "source": [
    "#BIG3_elidata=BIG3_elidata[BIG3_elidata['MEM_NO']!=5483777]"
   ]
  },
  {
   "cell_type": "code",
   "execution_count": 138,
   "metadata": {},
   "outputs": [
    {
     "data": {
      "text/plain": [
       "2112494"
      ]
     },
     "execution_count": 138,
     "metadata": {},
     "output_type": "execute_result"
    }
   ],
   "source": [
    "len(BIG3_elidata)"
   ]
  },
  {
   "cell_type": "markdown",
   "metadata": {},
   "source": [
    "## 만든 데이터를 불러오는 곳"
   ]
  },
  {
   "cell_type": "code",
   "execution_count": 3,
   "metadata": {},
   "outputs": [],
   "source": [
    "#BIG3_elidata.to_csv(r'C:\\Users\\74857\\데이콘야구\\동국대\\DATA_eli.txt',header=False,index=False,sep=',')\n",
    "#BIG3_elidata = pd.read_csv(r'C:\\Users\\74857\\데이콘야구\\동국대\\DATA(revised).txt',engine='python')\n",
    "#BIG3_elidata = pd.read_csv(r'C:\\Users\\74857\\데이콘야구\\동국대\\DATA_eli.txt',engine='python')"
   ]
  },
  {
   "cell_type": "markdown",
   "metadata": {},
   "source": [
    "## 위에서 #을 빼고 데이터를 불러오면 된다"
   ]
  },
  {
   "cell_type": "code",
   "execution_count": 134,
   "metadata": {},
   "outputs": [
    {
     "name": "stderr",
     "output_type": "stream",
     "text": [
      "C:\\Users\\74857\\Anaconda3\\lib\\site-packages\\ipykernel_launcher.py:1: UserWarning: Boolean Series key will be reindexed to match DataFrame index.\n",
      "  \"\"\"Entry point for launching an IPython kernel.\n",
      "C:\\Users\\74857\\Anaconda3\\lib\\site-packages\\ipykernel_launcher.py:2: UserWarning: Boolean Series key will be reindexed to match DataFrame index.\n",
      "  \n"
     ]
    },
    {
     "data": {
      "image/png": "[encoded data removed]",
      "text/plain": [
       "<Figure size 432x288 with 1 Axes>"
      ]
     },
     "metadata": {
      "needs_background": "light"
     },
     "output_type": "display_data"
    }
   ],
   "source": [
    "plt.plot(BIG3_elidata[(BIG3data['SUB_CD']==1000) & (BIG3_elidata['EXAMNO']==212)]['MEM_NO'],\n",
    "         BIG3_elidata[(BIG3data['SUB_CD']==1000) & (BIG3_elidata['EXAMNO']==212)]['SCORE'],'.')\n",
    "plt.xlabel('MEM_NO')\n",
    "plt.ylabel('each SCORE')\n",
    "plt.show()"
   ]
  },
  {
   "cell_type": "markdown",
   "metadata": {},
   "source": [
    "## 원점수만 따진 표"
   ]
  },
  {
   "cell_type": "code",
   "execution_count": 140,
   "metadata": {},
   "outputs": [
    {
     "data": {
      "text/html": [
       "<div>\n",
       "<style scoped>\n",
       "    .dataframe tbody tr th:only-of-type {\n",
       "        vertical-align: middle;\n",
       "    }\n",
       "\n",
       "    .dataframe tbody tr th {\n",
       "        vertical-align: top;\n",
       "    }\n",
       "\n",
       "    .dataframe thead th {\n",
       "        text-align: right;\n",
       "    }\n",
       "</style>\n",
       "<table border=\"1\" class=\"dataframe\">\n",
       "  <thead>\n",
       "    <tr style=\"text-align: right;\">\n",
       "      <th></th>\n",
       "      <th></th>\n",
       "      <th>count</th>\n",
       "      <th>mean</th>\n",
       "      <th>std</th>\n",
       "      <th>min</th>\n",
       "      <th>25%</th>\n",
       "      <th>50%</th>\n",
       "      <th>75%</th>\n",
       "      <th>max</th>\n",
       "    </tr>\n",
       "    <tr>\n",
       "      <th>EXAMTYPE</th>\n",
       "      <th>EXAMNO</th>\n",
       "      <th></th>\n",
       "      <th></th>\n",
       "      <th></th>\n",
       "      <th></th>\n",
       "      <th></th>\n",
       "      <th></th>\n",
       "      <th></th>\n",
       "      <th></th>\n",
       "    </tr>\n",
       "  </thead>\n",
       "  <tbody>\n",
       "    <tr>\n",
       "      <th rowspan=\"16\" valign=\"top\">1</th>\n",
       "      <th>212</th>\n",
       "      <td>24266.0</td>\n",
       "      <td>50.475439</td>\n",
       "      <td>27.397855</td>\n",
       "      <td>0.0</td>\n",
       "      <td>28.0</td>\n",
       "      <td>45.0</td>\n",
       "      <td>76.0</td>\n",
       "      <td>100.0</td>\n",
       "    </tr>\n",
       "    <tr>\n",
       "      <th>213</th>\n",
       "      <td>15081.0</td>\n",
       "      <td>53.171474</td>\n",
       "      <td>27.456796</td>\n",
       "      <td>0.0</td>\n",
       "      <td>31.0</td>\n",
       "      <td>47.0</td>\n",
       "      <td>80.0</td>\n",
       "      <td>100.0</td>\n",
       "    </tr>\n",
       "    <tr>\n",
       "      <th>216</th>\n",
       "      <td>44606.0</td>\n",
       "      <td>50.689414</td>\n",
       "      <td>25.159465</td>\n",
       "      <td>0.0</td>\n",
       "      <td>32.0</td>\n",
       "      <td>45.0</td>\n",
       "      <td>74.0</td>\n",
       "      <td>100.0</td>\n",
       "    </tr>\n",
       "    <tr>\n",
       "      <th>217</th>\n",
       "      <td>12310.0</td>\n",
       "      <td>54.088221</td>\n",
       "      <td>28.653354</td>\n",
       "      <td>0.0</td>\n",
       "      <td>31.0</td>\n",
       "      <td>47.0</td>\n",
       "      <td>83.0</td>\n",
       "      <td>100.0</td>\n",
       "    </tr>\n",
       "    <tr>\n",
       "      <th>220</th>\n",
       "      <td>47981.0</td>\n",
       "      <td>52.333507</td>\n",
       "      <td>24.376802</td>\n",
       "      <td>0.0</td>\n",
       "      <td>35.0</td>\n",
       "      <td>47.0</td>\n",
       "      <td>75.0</td>\n",
       "      <td>100.0</td>\n",
       "    </tr>\n",
       "    <tr>\n",
       "      <th>221</th>\n",
       "      <td>9717.0</td>\n",
       "      <td>49.532057</td>\n",
       "      <td>25.387587</td>\n",
       "      <td>0.0</td>\n",
       "      <td>30.0</td>\n",
       "      <td>45.0</td>\n",
       "      <td>72.0</td>\n",
       "      <td>100.0</td>\n",
       "    </tr>\n",
       "    <tr>\n",
       "      <th>222</th>\n",
       "      <td>44878.0</td>\n",
       "      <td>54.082624</td>\n",
       "      <td>26.011960</td>\n",
       "      <td>0.0</td>\n",
       "      <td>34.0</td>\n",
       "      <td>47.0</td>\n",
       "      <td>80.0</td>\n",
       "      <td>100.0</td>\n",
       "    </tr>\n",
       "    <tr>\n",
       "      <th>223</th>\n",
       "      <td>33028.0</td>\n",
       "      <td>57.019741</td>\n",
       "      <td>25.558989</td>\n",
       "      <td>0.0</td>\n",
       "      <td>37.0</td>\n",
       "      <td>57.0</td>\n",
       "      <td>80.0</td>\n",
       "      <td>100.0</td>\n",
       "    </tr>\n",
       "    <tr>\n",
       "      <th>228</th>\n",
       "      <td>18390.0</td>\n",
       "      <td>46.400653</td>\n",
       "      <td>26.472747</td>\n",
       "      <td>0.0</td>\n",
       "      <td>24.0</td>\n",
       "      <td>42.0</td>\n",
       "      <td>70.0</td>\n",
       "      <td>100.0</td>\n",
       "    </tr>\n",
       "    <tr>\n",
       "      <th>229</th>\n",
       "      <td>13628.0</td>\n",
       "      <td>47.725492</td>\n",
       "      <td>26.330667</td>\n",
       "      <td>0.0</td>\n",
       "      <td>26.0</td>\n",
       "      <td>44.0</td>\n",
       "      <td>72.0</td>\n",
       "      <td>100.0</td>\n",
       "    </tr>\n",
       "    <tr>\n",
       "      <th>232</th>\n",
       "      <td>37231.0</td>\n",
       "      <td>49.789423</td>\n",
       "      <td>24.479643</td>\n",
       "      <td>0.0</td>\n",
       "      <td>30.0</td>\n",
       "      <td>45.0</td>\n",
       "      <td>72.0</td>\n",
       "      <td>100.0</td>\n",
       "    </tr>\n",
       "    <tr>\n",
       "      <th>233</th>\n",
       "      <td>7708.0</td>\n",
       "      <td>52.206798</td>\n",
       "      <td>26.493932</td>\n",
       "      <td>0.0</td>\n",
       "      <td>31.0</td>\n",
       "      <td>47.0</td>\n",
       "      <td>77.0</td>\n",
       "      <td>100.0</td>\n",
       "    </tr>\n",
       "    <tr>\n",
       "      <th>236</th>\n",
       "      <td>31433.0</td>\n",
       "      <td>53.644959</td>\n",
       "      <td>26.307700</td>\n",
       "      <td>0.0</td>\n",
       "      <td>33.0</td>\n",
       "      <td>47.0</td>\n",
       "      <td>80.0</td>\n",
       "      <td>100.0</td>\n",
       "    </tr>\n",
       "    <tr>\n",
       "      <th>237</th>\n",
       "      <td>9852.0</td>\n",
       "      <td>47.640276</td>\n",
       "      <td>25.943332</td>\n",
       "      <td>0.0</td>\n",
       "      <td>26.0</td>\n",
       "      <td>44.0</td>\n",
       "      <td>72.0</td>\n",
       "      <td>100.0</td>\n",
       "    </tr>\n",
       "    <tr>\n",
       "      <th>238</th>\n",
       "      <td>30496.0</td>\n",
       "      <td>51.335946</td>\n",
       "      <td>22.744739</td>\n",
       "      <td>0.0</td>\n",
       "      <td>36.0</td>\n",
       "      <td>48.0</td>\n",
       "      <td>71.0</td>\n",
       "      <td>100.0</td>\n",
       "    </tr>\n",
       "    <tr>\n",
       "      <th>239</th>\n",
       "      <td>25449.0</td>\n",
       "      <td>50.237888</td>\n",
       "      <td>22.310761</td>\n",
       "      <td>0.0</td>\n",
       "      <td>35.0</td>\n",
       "      <td>47.0</td>\n",
       "      <td>69.0</td>\n",
       "      <td>100.0</td>\n",
       "    </tr>\n",
       "    <tr>\n",
       "      <th rowspan=\"15\" valign=\"top\">2</th>\n",
       "      <th>3002</th>\n",
       "      <td>187960.0</td>\n",
       "      <td>45.892940</td>\n",
       "      <td>26.948897</td>\n",
       "      <td>0.0</td>\n",
       "      <td>22.0</td>\n",
       "      <td>41.0</td>\n",
       "      <td>70.0</td>\n",
       "      <td>100.0</td>\n",
       "    </tr>\n",
       "    <tr>\n",
       "      <th>3004</th>\n",
       "      <td>62558.0</td>\n",
       "      <td>56.580933</td>\n",
       "      <td>25.483742</td>\n",
       "      <td>0.0</td>\n",
       "      <td>34.0</td>\n",
       "      <td>58.0</td>\n",
       "      <td>80.0</td>\n",
       "      <td>100.0</td>\n",
       "    </tr>\n",
       "    <tr>\n",
       "      <th>3005</th>\n",
       "      <td>182951.0</td>\n",
       "      <td>49.497439</td>\n",
       "      <td>27.369420</td>\n",
       "      <td>0.0</td>\n",
       "      <td>25.0</td>\n",
       "      <td>45.0</td>\n",
       "      <td>75.0</td>\n",
       "      <td>100.0</td>\n",
       "    </tr>\n",
       "    <tr>\n",
       "      <th>3008</th>\n",
       "      <td>73456.0</td>\n",
       "      <td>57.886490</td>\n",
       "      <td>23.611976</td>\n",
       "      <td>0.0</td>\n",
       "      <td>38.0</td>\n",
       "      <td>59.0</td>\n",
       "      <td>80.0</td>\n",
       "      <td>100.0</td>\n",
       "    </tr>\n",
       "    <tr>\n",
       "      <th>3009</th>\n",
       "      <td>131819.0</td>\n",
       "      <td>55.675229</td>\n",
       "      <td>26.264119</td>\n",
       "      <td>0.0</td>\n",
       "      <td>35.0</td>\n",
       "      <td>51.0</td>\n",
       "      <td>80.0</td>\n",
       "      <td>100.0</td>\n",
       "    </tr>\n",
       "    <tr>\n",
       "      <th>3011</th>\n",
       "      <td>116142.0</td>\n",
       "      <td>56.000344</td>\n",
       "      <td>25.879692</td>\n",
       "      <td>0.0</td>\n",
       "      <td>35.0</td>\n",
       "      <td>50.0</td>\n",
       "      <td>81.0</td>\n",
       "      <td>100.0</td>\n",
       "    </tr>\n",
       "    <tr>\n",
       "      <th>3013</th>\n",
       "      <td>83786.0</td>\n",
       "      <td>57.511744</td>\n",
       "      <td>23.790863</td>\n",
       "      <td>0.0</td>\n",
       "      <td>40.0</td>\n",
       "      <td>55.0</td>\n",
       "      <td>79.0</td>\n",
       "      <td>100.0</td>\n",
       "    </tr>\n",
       "    <tr>\n",
       "      <th>3021</th>\n",
       "      <td>195156.0</td>\n",
       "      <td>45.754878</td>\n",
       "      <td>25.475725</td>\n",
       "      <td>0.0</td>\n",
       "      <td>23.0</td>\n",
       "      <td>42.0</td>\n",
       "      <td>69.0</td>\n",
       "      <td>100.0</td>\n",
       "    </tr>\n",
       "    <tr>\n",
       "      <th>3022</th>\n",
       "      <td>68248.0</td>\n",
       "      <td>50.254410</td>\n",
       "      <td>23.378223</td>\n",
       "      <td>0.0</td>\n",
       "      <td>31.0</td>\n",
       "      <td>50.0</td>\n",
       "      <td>71.0</td>\n",
       "      <td>100.0</td>\n",
       "    </tr>\n",
       "    <tr>\n",
       "      <th>3023</th>\n",
       "      <td>119802.0</td>\n",
       "      <td>49.925026</td>\n",
       "      <td>25.311615</td>\n",
       "      <td>0.0</td>\n",
       "      <td>28.0</td>\n",
       "      <td>48.0</td>\n",
       "      <td>73.0</td>\n",
       "      <td>100.0</td>\n",
       "    </tr>\n",
       "    <tr>\n",
       "      <th>3024</th>\n",
       "      <td>92495.0</td>\n",
       "      <td>54.261690</td>\n",
       "      <td>22.963293</td>\n",
       "      <td>0.0</td>\n",
       "      <td>36.0</td>\n",
       "      <td>53.0</td>\n",
       "      <td>74.0</td>\n",
       "      <td>100.0</td>\n",
       "    </tr>\n",
       "    <tr>\n",
       "      <th>3025</th>\n",
       "      <td>68870.0</td>\n",
       "      <td>54.817729</td>\n",
       "      <td>23.739264</td>\n",
       "      <td>0.0</td>\n",
       "      <td>34.0</td>\n",
       "      <td>55.0</td>\n",
       "      <td>76.0</td>\n",
       "      <td>100.0</td>\n",
       "    </tr>\n",
       "    <tr>\n",
       "      <th>3026</th>\n",
       "      <td>121377.0</td>\n",
       "      <td>50.723514</td>\n",
       "      <td>25.572832</td>\n",
       "      <td>0.0</td>\n",
       "      <td>29.0</td>\n",
       "      <td>48.0</td>\n",
       "      <td>74.0</td>\n",
       "      <td>100.0</td>\n",
       "    </tr>\n",
       "    <tr>\n",
       "      <th>3027</th>\n",
       "      <td>132066.0</td>\n",
       "      <td>53.114185</td>\n",
       "      <td>23.078526</td>\n",
       "      <td>0.0</td>\n",
       "      <td>36.0</td>\n",
       "      <td>51.0</td>\n",
       "      <td>73.0</td>\n",
       "      <td>100.0</td>\n",
       "    </tr>\n",
       "    <tr>\n",
       "      <th>3028</th>\n",
       "      <td>69754.0</td>\n",
       "      <td>56.610259</td>\n",
       "      <td>24.274924</td>\n",
       "      <td>0.0</td>\n",
       "      <td>38.0</td>\n",
       "      <td>57.0</td>\n",
       "      <td>79.0</td>\n",
       "      <td>100.0</td>\n",
       "    </tr>\n",
       "  </tbody>\n",
       "</table>\n",
       "</div>"
      ],
      "text/plain": [
       "                    count       mean        std  min   25%   50%   75%    max\n",
       "EXAMTYPE EXAMNO                                                              \n",
       "1        212      24266.0  50.475439  27.397855  0.0  28.0  45.0  76.0  100.0\n",
       "         213      15081.0  53.171474  27.456796  0.0  31.0  47.0  80.0  100.0\n",
       "         216      44606.0  50.689414  25.159465  0.0  32.0  45.0  74.0  100.0\n",
       "         217      12310.0  54.088221  28.653354  0.0  31.0  47.0  83.0  100.0\n",
       "         220      47981.0  52.333507  24.376802  0.0  35.0  47.0  75.0  100.0\n",
       "         221       9717.0  49.532057  25.387587  0.0  30.0  45.0  72.0  100.0\n",
       "         222      44878.0  54.082624  26.011960  0.0  34.0  47.0  80.0  100.0\n",
       "         223      33028.0  57.019741  25.558989  0.0  37.0  57.0  80.0  100.0\n",
       "         228      18390.0  46.400653  26.472747  0.0  24.0  42.0  70.0  100.0\n",
       "         229      13628.0  47.725492  26.330667  0.0  26.0  44.0  72.0  100.0\n",
       "         232      37231.0  49.789423  24.479643  0.0  30.0  45.0  72.0  100.0\n",
       "         233       7708.0  52.206798  26.493932  0.0  31.0  47.0  77.0  100.0\n",
       "         236      31433.0  53.644959  26.307700  0.0  33.0  47.0  80.0  100.0\n",
       "         237       9852.0  47.640276  25.943332  0.0  26.0  44.0  72.0  100.0\n",
       "         238      30496.0  51.335946  22.744739  0.0  36.0  48.0  71.0  100.0\n",
       "         239      25449.0  50.237888  22.310761  0.0  35.0  47.0  69.0  100.0\n",
       "2        3002    187960.0  45.892940  26.948897  0.0  22.0  41.0  70.0  100.0\n",
       "         3004     62558.0  56.580933  25.483742  0.0  34.0  58.0  80.0  100.0\n",
       "         3005    182951.0  49.497439  27.369420  0.0  25.0  45.0  75.0  100.0\n",
       "         3008     73456.0  57.886490  23.611976  0.0  38.0  59.0  80.0  100.0\n",
       "         3009    131819.0  55.675229  26.264119  0.0  35.0  51.0  80.0  100.0\n",
       "         3011    116142.0  56.000344  25.879692  0.0  35.0  50.0  81.0  100.0\n",
       "         3013     83786.0  57.511744  23.790863  0.0  40.0  55.0  79.0  100.0\n",
       "         3021    195156.0  45.754878  25.475725  0.0  23.0  42.0  69.0  100.0\n",
       "         3022     68248.0  50.254410  23.378223  0.0  31.0  50.0  71.0  100.0\n",
       "         3023    119802.0  49.925026  25.311615  0.0  28.0  48.0  73.0  100.0\n",
       "         3024     92495.0  54.261690  22.963293  0.0  36.0  53.0  74.0  100.0\n",
       "         3025     68870.0  54.817729  23.739264  0.0  34.0  55.0  76.0  100.0\n",
       "         3026    121377.0  50.723514  25.572832  0.0  29.0  48.0  74.0  100.0\n",
       "         3027    132066.0  53.114185  23.078526  0.0  36.0  51.0  73.0  100.0\n",
       "         3028     69754.0  56.610259  24.274924  0.0  38.0  57.0  79.0  100.0"
      ]
     },
     "execution_count": 140,
     "metadata": {},
     "output_type": "execute_result"
    }
   ],
   "source": [
    "BIG3_elidata['SCORE'].groupby([BIG3_elidata['EXAMTYPE'],BIG3_elidata['EXAMNO']]).describe()"
   ]
  },
  {
   "cell_type": "code",
   "execution_count": 141,
   "metadata": {
    "collapsed": true
   },
   "outputs": [
    {
     "data": {
      "text/html": [
       "<div>\n",
       "<style scoped>\n",
       "    .dataframe tbody tr th:only-of-type {\n",
       "        vertical-align: middle;\n",
       "    }\n",
       "\n",
       "    .dataframe tbody tr th {\n",
       "        vertical-align: top;\n",
       "    }\n",
       "\n",
       "    .dataframe thead th {\n",
       "        text-align: right;\n",
       "    }\n",
       "</style>\n",
       "<table border=\"1\" class=\"dataframe\">\n",
       "  <thead>\n",
       "    <tr style=\"text-align: right;\">\n",
       "      <th></th>\n",
       "      <th></th>\n",
       "      <th></th>\n",
       "      <th>count</th>\n",
       "      <th>mean</th>\n",
       "      <th>std</th>\n",
       "      <th>min</th>\n",
       "      <th>25%</th>\n",
       "      <th>50%</th>\n",
       "      <th>75%</th>\n",
       "      <th>max</th>\n",
       "    </tr>\n",
       "    <tr>\n",
       "      <th>EXAMTYPE</th>\n",
       "      <th>EXAMNO</th>\n",
       "      <th>SUB_CD</th>\n",
       "      <th></th>\n",
       "      <th></th>\n",
       "      <th></th>\n",
       "      <th></th>\n",
       "      <th></th>\n",
       "      <th></th>\n",
       "      <th></th>\n",
       "      <th></th>\n",
       "    </tr>\n",
       "  </thead>\n",
       "  <tbody>\n",
       "    <tr>\n",
       "      <th rowspan=\"30\" valign=\"top\">1</th>\n",
       "      <th rowspan=\"18\" valign=\"top\">212</th>\n",
       "      <th>1000</th>\n",
       "      <td>4545.0</td>\n",
       "      <td>73.053465</td>\n",
       "      <td>22.728399</td>\n",
       "      <td>2.0</td>\n",
       "      <td>64.00</td>\n",
       "      <td>79.0</td>\n",
       "      <td>90.00</td>\n",
       "      <td>100.0</td>\n",
       "    </tr>\n",
       "    <tr>\n",
       "      <th>2100</th>\n",
       "      <td>2404.0</td>\n",
       "      <td>61.522463</td>\n",
       "      <td>24.858616</td>\n",
       "      <td>0.0</td>\n",
       "      <td>48.00</td>\n",
       "      <td>68.0</td>\n",
       "      <td>80.00</td>\n",
       "      <td>100.0</td>\n",
       "    </tr>\n",
       "    <tr>\n",
       "      <th>2200</th>\n",
       "      <td>1773.0</td>\n",
       "      <td>58.402143</td>\n",
       "      <td>26.687138</td>\n",
       "      <td>0.0</td>\n",
       "      <td>39.00</td>\n",
       "      <td>61.0</td>\n",
       "      <td>81.00</td>\n",
       "      <td>100.0</td>\n",
       "    </tr>\n",
       "    <tr>\n",
       "      <th>3000</th>\n",
       "      <td>4113.0</td>\n",
       "      <td>70.969122</td>\n",
       "      <td>23.695699</td>\n",
       "      <td>0.0</td>\n",
       "      <td>60.00</td>\n",
       "      <td>78.0</td>\n",
       "      <td>89.00</td>\n",
       "      <td>100.0</td>\n",
       "    </tr>\n",
       "    <tr>\n",
       "      <th>4102</th>\n",
       "      <td>462.0</td>\n",
       "      <td>30.753247</td>\n",
       "      <td>12.525191</td>\n",
       "      <td>0.0</td>\n",
       "      <td>22.00</td>\n",
       "      <td>32.0</td>\n",
       "      <td>41.00</td>\n",
       "      <td>50.0</td>\n",
       "    </tr>\n",
       "    <tr>\n",
       "      <th>4103</th>\n",
       "      <td>272.0</td>\n",
       "      <td>36.121324</td>\n",
       "      <td>12.686832</td>\n",
       "      <td>0.0</td>\n",
       "      <td>28.00</td>\n",
       "      <td>40.0</td>\n",
       "      <td>47.00</td>\n",
       "      <td>50.0</td>\n",
       "    </tr>\n",
       "    <tr>\n",
       "      <th>4107</th>\n",
       "      <td>91.0</td>\n",
       "      <td>34.351648</td>\n",
       "      <td>13.950208</td>\n",
       "      <td>6.0</td>\n",
       "      <td>22.00</td>\n",
       "      <td>38.0</td>\n",
       "      <td>46.00</td>\n",
       "      <td>50.0</td>\n",
       "    </tr>\n",
       "    <tr>\n",
       "      <th>4110</th>\n",
       "      <td>56.0</td>\n",
       "      <td>32.053571</td>\n",
       "      <td>14.632988</td>\n",
       "      <td>5.0</td>\n",
       "      <td>17.75</td>\n",
       "      <td>36.0</td>\n",
       "      <td>43.25</td>\n",
       "      <td>50.0</td>\n",
       "    </tr>\n",
       "    <tr>\n",
       "      <th>4111</th>\n",
       "      <td>881.0</td>\n",
       "      <td>36.323496</td>\n",
       "      <td>12.063601</td>\n",
       "      <td>0.0</td>\n",
       "      <td>30.00</td>\n",
       "      <td>39.0</td>\n",
       "      <td>47.00</td>\n",
       "      <td>50.0</td>\n",
       "    </tr>\n",
       "    <tr>\n",
       "      <th>4116</th>\n",
       "      <td>858.0</td>\n",
       "      <td>31.898601</td>\n",
       "      <td>11.757774</td>\n",
       "      <td>0.0</td>\n",
       "      <td>26.00</td>\n",
       "      <td>33.0</td>\n",
       "      <td>41.00</td>\n",
       "      <td>50.0</td>\n",
       "    </tr>\n",
       "    <tr>\n",
       "      <th>4117</th>\n",
       "      <td>159.0</td>\n",
       "      <td>30.867925</td>\n",
       "      <td>13.446148</td>\n",
       "      <td>0.0</td>\n",
       "      <td>20.00</td>\n",
       "      <td>33.0</td>\n",
       "      <td>42.00</td>\n",
       "      <td>50.0</td>\n",
       "    </tr>\n",
       "    <tr>\n",
       "      <th>4118</th>\n",
       "      <td>133.0</td>\n",
       "      <td>34.112782</td>\n",
       "      <td>13.027741</td>\n",
       "      <td>7.0</td>\n",
       "      <td>24.00</td>\n",
       "      <td>37.0</td>\n",
       "      <td>47.00</td>\n",
       "      <td>50.0</td>\n",
       "    </tr>\n",
       "    <tr>\n",
       "      <th>4119</th>\n",
       "      <td>240.0</td>\n",
       "      <td>34.016667</td>\n",
       "      <td>12.745322</td>\n",
       "      <td>3.0</td>\n",
       "      <td>27.00</td>\n",
       "      <td>37.0</td>\n",
       "      <td>44.00</td>\n",
       "      <td>50.0</td>\n",
       "    </tr>\n",
       "    <tr>\n",
       "      <th>4201</th>\n",
       "      <td>617.0</td>\n",
       "      <td>27.794165</td>\n",
       "      <td>13.500773</td>\n",
       "      <td>0.0</td>\n",
       "      <td>16.00</td>\n",
       "      <td>28.0</td>\n",
       "      <td>40.00</td>\n",
       "      <td>50.0</td>\n",
       "    </tr>\n",
       "    <tr>\n",
       "      <th>4203</th>\n",
       "      <td>1060.0</td>\n",
       "      <td>29.309434</td>\n",
       "      <td>12.890565</td>\n",
       "      <td>0.0</td>\n",
       "      <td>19.00</td>\n",
       "      <td>30.0</td>\n",
       "      <td>40.00</td>\n",
       "      <td>50.0</td>\n",
       "    </tr>\n",
       "    <tr>\n",
       "      <th>4207</th>\n",
       "      <td>1368.0</td>\n",
       "      <td>32.035088</td>\n",
       "      <td>13.046098</td>\n",
       "      <td>0.0</td>\n",
       "      <td>23.00</td>\n",
       "      <td>35.0</td>\n",
       "      <td>42.00</td>\n",
       "      <td>50.0</td>\n",
       "    </tr>\n",
       "    <tr>\n",
       "      <th>4213</th>\n",
       "      <td>1440.0</td>\n",
       "      <td>26.512500</td>\n",
       "      <td>12.899402</td>\n",
       "      <td>0.0</td>\n",
       "      <td>16.00</td>\n",
       "      <td>25.0</td>\n",
       "      <td>38.00</td>\n",
       "      <td>50.0</td>\n",
       "    </tr>\n",
       "    <tr>\n",
       "      <th>7000</th>\n",
       "      <td>3794.0</td>\n",
       "      <td>29.866632</td>\n",
       "      <td>11.615382</td>\n",
       "      <td>0.0</td>\n",
       "      <td>23.00</td>\n",
       "      <td>31.0</td>\n",
       "      <td>38.00</td>\n",
       "      <td>50.0</td>\n",
       "    </tr>\n",
       "    <tr>\n",
       "      <th rowspan=\"12\" valign=\"top\">213</th>\n",
       "      <th>1000</th>\n",
       "      <td>2775.0</td>\n",
       "      <td>73.891892</td>\n",
       "      <td>21.113604</td>\n",
       "      <td>2.0</td>\n",
       "      <td>65.00</td>\n",
       "      <td>79.0</td>\n",
       "      <td>90.00</td>\n",
       "      <td>100.0</td>\n",
       "    </tr>\n",
       "    <tr>\n",
       "      <th>2100</th>\n",
       "      <td>1425.0</td>\n",
       "      <td>72.341053</td>\n",
       "      <td>23.409794</td>\n",
       "      <td>0.0</td>\n",
       "      <td>65.00</td>\n",
       "      <td>80.0</td>\n",
       "      <td>89.00</td>\n",
       "      <td>100.0</td>\n",
       "    </tr>\n",
       "    <tr>\n",
       "      <th>2200</th>\n",
       "      <td>1174.0</td>\n",
       "      <td>65.578365</td>\n",
       "      <td>26.160015</td>\n",
       "      <td>0.0</td>\n",
       "      <td>47.00</td>\n",
       "      <td>70.0</td>\n",
       "      <td>88.00</td>\n",
       "      <td>100.0</td>\n",
       "    </tr>\n",
       "    <tr>\n",
       "      <th>3000</th>\n",
       "      <td>2528.0</td>\n",
       "      <td>74.456883</td>\n",
       "      <td>21.187120</td>\n",
       "      <td>0.0</td>\n",
       "      <td>67.00</td>\n",
       "      <td>80.0</td>\n",
       "      <td>90.00</td>\n",
       "      <td>100.0</td>\n",
       "    </tr>\n",
       "    <tr>\n",
       "      <th>4102</th>\n",
       "      <td>302.0</td>\n",
       "      <td>37.649007</td>\n",
       "      <td>12.086179</td>\n",
       "      <td>0.0</td>\n",
       "      <td>32.25</td>\n",
       "      <td>41.5</td>\n",
       "      <td>47.00</td>\n",
       "      <td>50.0</td>\n",
       "    </tr>\n",
       "    <tr>\n",
       "      <th>4103</th>\n",
       "      <td>182.0</td>\n",
       "      <td>35.576923</td>\n",
       "      <td>13.086289</td>\n",
       "      <td>0.0</td>\n",
       "      <td>28.00</td>\n",
       "      <td>39.0</td>\n",
       "      <td>47.00</td>\n",
       "      <td>50.0</td>\n",
       "    </tr>\n",
       "    <tr>\n",
       "      <th>4107</th>\n",
       "      <td>59.0</td>\n",
       "      <td>35.864407</td>\n",
       "      <td>14.139036</td>\n",
       "      <td>4.0</td>\n",
       "      <td>24.00</td>\n",
       "      <td>41.0</td>\n",
       "      <td>47.00</td>\n",
       "      <td>50.0</td>\n",
       "    </tr>\n",
       "    <tr>\n",
       "      <th>4110</th>\n",
       "      <td>24.0</td>\n",
       "      <td>32.541667</td>\n",
       "      <td>12.258020</td>\n",
       "      <td>6.0</td>\n",
       "      <td>25.75</td>\n",
       "      <td>34.0</td>\n",
       "      <td>43.25</td>\n",
       "      <td>50.0</td>\n",
       "    </tr>\n",
       "    <tr>\n",
       "      <th>4111</th>\n",
       "      <td>555.0</td>\n",
       "      <td>35.129730</td>\n",
       "      <td>11.543096</td>\n",
       "      <td>0.0</td>\n",
       "      <td>29.00</td>\n",
       "      <td>37.0</td>\n",
       "      <td>44.00</td>\n",
       "      <td>50.0</td>\n",
       "    </tr>\n",
       "    <tr>\n",
       "      <th>4116</th>\n",
       "      <td>517.0</td>\n",
       "      <td>34.940039</td>\n",
       "      <td>12.233290</td>\n",
       "      <td>0.0</td>\n",
       "      <td>30.00</td>\n",
       "      <td>37.0</td>\n",
       "      <td>45.00</td>\n",
       "      <td>50.0</td>\n",
       "    </tr>\n",
       "    <tr>\n",
       "      <th>4117</th>\n",
       "      <td>125.0</td>\n",
       "      <td>34.536000</td>\n",
       "      <td>13.811837</td>\n",
       "      <td>2.0</td>\n",
       "      <td>24.00</td>\n",
       "      <td>40.0</td>\n",
       "      <td>47.00</td>\n",
       "      <td>50.0</td>\n",
       "    </tr>\n",
       "    <tr>\n",
       "      <th>4118</th>\n",
       "      <td>84.0</td>\n",
       "      <td>33.988095</td>\n",
       "      <td>14.514217</td>\n",
       "      <td>3.0</td>\n",
       "      <td>22.00</td>\n",
       "      <td>37.0</td>\n",
       "      <td>47.00</td>\n",
       "      <td>50.0</td>\n",
       "    </tr>\n",
       "    <tr>\n",
       "      <th>...</th>\n",
       "      <th>...</th>\n",
       "      <th>...</th>\n",
       "      <td>...</td>\n",
       "      <td>...</td>\n",
       "      <td>...</td>\n",
       "      <td>...</td>\n",
       "      <td>...</td>\n",
       "      <td>...</td>\n",
       "      <td>...</td>\n",
       "      <td>...</td>\n",
       "    </tr>\n",
       "    <tr>\n",
       "      <th rowspan=\"30\" valign=\"top\">2</th>\n",
       "      <th rowspan=\"9\" valign=\"top\">3027</th>\n",
       "      <th>4119</th>\n",
       "      <td>1048.0</td>\n",
       "      <td>31.374046</td>\n",
       "      <td>12.635715</td>\n",
       "      <td>0.0</td>\n",
       "      <td>22.00</td>\n",
       "      <td>34.0</td>\n",
       "      <td>42.00</td>\n",
       "      <td>50.0</td>\n",
       "    </tr>\n",
       "    <tr>\n",
       "      <th>4201</th>\n",
       "      <td>3699.0</td>\n",
       "      <td>31.759394</td>\n",
       "      <td>12.012116</td>\n",
       "      <td>0.0</td>\n",
       "      <td>23.00</td>\n",
       "      <td>33.0</td>\n",
       "      <td>42.00</td>\n",
       "      <td>50.0</td>\n",
       "    </tr>\n",
       "    <tr>\n",
       "      <th>4202</th>\n",
       "      <td>157.0</td>\n",
       "      <td>19.751592</td>\n",
       "      <td>11.120353</td>\n",
       "      <td>0.0</td>\n",
       "      <td>10.00</td>\n",
       "      <td>18.0</td>\n",
       "      <td>29.00</td>\n",
       "      <td>43.0</td>\n",
       "    </tr>\n",
       "    <tr>\n",
       "      <th>4203</th>\n",
       "      <td>5008.0</td>\n",
       "      <td>35.471645</td>\n",
       "      <td>11.904218</td>\n",
       "      <td>0.0</td>\n",
       "      <td>29.00</td>\n",
       "      <td>39.0</td>\n",
       "      <td>45.00</td>\n",
       "      <td>50.0</td>\n",
       "    </tr>\n",
       "    <tr>\n",
       "      <th>4204</th>\n",
       "      <td>168.0</td>\n",
       "      <td>28.077381</td>\n",
       "      <td>12.161585</td>\n",
       "      <td>4.0</td>\n",
       "      <td>15.00</td>\n",
       "      <td>31.0</td>\n",
       "      <td>37.00</td>\n",
       "      <td>47.0</td>\n",
       "    </tr>\n",
       "    <tr>\n",
       "      <th>4207</th>\n",
       "      <td>11283.0</td>\n",
       "      <td>35.309315</td>\n",
       "      <td>11.036629</td>\n",
       "      <td>0.0</td>\n",
       "      <td>29.00</td>\n",
       "      <td>38.0</td>\n",
       "      <td>44.00</td>\n",
       "      <td>50.0</td>\n",
       "    </tr>\n",
       "    <tr>\n",
       "      <th>4208</th>\n",
       "      <td>658.0</td>\n",
       "      <td>30.142857</td>\n",
       "      <td>11.139804</td>\n",
       "      <td>0.0</td>\n",
       "      <td>23.00</td>\n",
       "      <td>33.0</td>\n",
       "      <td>39.00</td>\n",
       "      <td>50.0</td>\n",
       "    </tr>\n",
       "    <tr>\n",
       "      <th>4213</th>\n",
       "      <td>9431.0</td>\n",
       "      <td>28.288835</td>\n",
       "      <td>11.451855</td>\n",
       "      <td>0.0</td>\n",
       "      <td>19.00</td>\n",
       "      <td>29.0</td>\n",
       "      <td>38.00</td>\n",
       "      <td>50.0</td>\n",
       "    </tr>\n",
       "    <tr>\n",
       "      <th>4214</th>\n",
       "      <td>362.0</td>\n",
       "      <td>30.378453</td>\n",
       "      <td>12.449026</td>\n",
       "      <td>0.0</td>\n",
       "      <td>19.25</td>\n",
       "      <td>33.0</td>\n",
       "      <td>41.00</td>\n",
       "      <td>50.0</td>\n",
       "    </tr>\n",
       "    <tr>\n",
       "      <th rowspan=\"21\" valign=\"top\">3028</th>\n",
       "      <th>1000</th>\n",
       "      <td>14267.0</td>\n",
       "      <td>77.106329</td>\n",
       "      <td>17.480440</td>\n",
       "      <td>2.0</td>\n",
       "      <td>71.00</td>\n",
       "      <td>82.0</td>\n",
       "      <td>89.00</td>\n",
       "      <td>100.0</td>\n",
       "    </tr>\n",
       "    <tr>\n",
       "      <th>2100</th>\n",
       "      <td>7337.0</td>\n",
       "      <td>65.629821</td>\n",
       "      <td>15.999338</td>\n",
       "      <td>0.0</td>\n",
       "      <td>59.00</td>\n",
       "      <td>68.0</td>\n",
       "      <td>76.00</td>\n",
       "      <td>100.0</td>\n",
       "    </tr>\n",
       "    <tr>\n",
       "      <th>2200</th>\n",
       "      <td>6425.0</td>\n",
       "      <td>55.900233</td>\n",
       "      <td>18.256479</td>\n",
       "      <td>0.0</td>\n",
       "      <td>45.00</td>\n",
       "      <td>59.0</td>\n",
       "      <td>69.00</td>\n",
       "      <td>100.0</td>\n",
       "    </tr>\n",
       "    <tr>\n",
       "      <th>3000</th>\n",
       "      <td>14020.0</td>\n",
       "      <td>75.835093</td>\n",
       "      <td>14.935453</td>\n",
       "      <td>2.0</td>\n",
       "      <td>70.00</td>\n",
       "      <td>79.0</td>\n",
       "      <td>86.00</td>\n",
       "      <td>100.0</td>\n",
       "    </tr>\n",
       "    <tr>\n",
       "      <th>4102</th>\n",
       "      <td>1422.0</td>\n",
       "      <td>35.829114</td>\n",
       "      <td>12.375530</td>\n",
       "      <td>2.0</td>\n",
       "      <td>29.00</td>\n",
       "      <td>40.0</td>\n",
       "      <td>45.00</td>\n",
       "      <td>50.0</td>\n",
       "    </tr>\n",
       "    <tr>\n",
       "      <th>4103</th>\n",
       "      <td>1235.0</td>\n",
       "      <td>28.500405</td>\n",
       "      <td>9.982917</td>\n",
       "      <td>0.0</td>\n",
       "      <td>22.50</td>\n",
       "      <td>30.0</td>\n",
       "      <td>36.00</td>\n",
       "      <td>50.0</td>\n",
       "    </tr>\n",
       "    <tr>\n",
       "      <th>4107</th>\n",
       "      <td>471.0</td>\n",
       "      <td>41.628450</td>\n",
       "      <td>9.991058</td>\n",
       "      <td>2.0</td>\n",
       "      <td>39.00</td>\n",
       "      <td>45.0</td>\n",
       "      <td>48.00</td>\n",
       "      <td>50.0</td>\n",
       "    </tr>\n",
       "    <tr>\n",
       "      <th>4110</th>\n",
       "      <td>81.0</td>\n",
       "      <td>24.790123</td>\n",
       "      <td>13.914665</td>\n",
       "      <td>2.0</td>\n",
       "      <td>10.00</td>\n",
       "      <td>26.0</td>\n",
       "      <td>37.00</td>\n",
       "      <td>50.0</td>\n",
       "    </tr>\n",
       "    <tr>\n",
       "      <th>4111</th>\n",
       "      <td>3164.0</td>\n",
       "      <td>34.924779</td>\n",
       "      <td>10.222935</td>\n",
       "      <td>0.0</td>\n",
       "      <td>30.00</td>\n",
       "      <td>37.0</td>\n",
       "      <td>42.00</td>\n",
       "      <td>50.0</td>\n",
       "    </tr>\n",
       "    <tr>\n",
       "      <th>4116</th>\n",
       "      <td>3328.0</td>\n",
       "      <td>39.514724</td>\n",
       "      <td>10.335044</td>\n",
       "      <td>2.0</td>\n",
       "      <td>37.00</td>\n",
       "      <td>43.0</td>\n",
       "      <td>47.00</td>\n",
       "      <td>50.0</td>\n",
       "    </tr>\n",
       "    <tr>\n",
       "      <th>4117</th>\n",
       "      <td>806.0</td>\n",
       "      <td>39.512407</td>\n",
       "      <td>11.238541</td>\n",
       "      <td>2.0</td>\n",
       "      <td>35.25</td>\n",
       "      <td>44.0</td>\n",
       "      <td>47.00</td>\n",
       "      <td>50.0</td>\n",
       "    </tr>\n",
       "    <tr>\n",
       "      <th>4118</th>\n",
       "      <td>542.0</td>\n",
       "      <td>40.252768</td>\n",
       "      <td>11.314392</td>\n",
       "      <td>2.0</td>\n",
       "      <td>37.00</td>\n",
       "      <td>44.0</td>\n",
       "      <td>48.00</td>\n",
       "      <td>50.0</td>\n",
       "    </tr>\n",
       "    <tr>\n",
       "      <th>4119</th>\n",
       "      <td>641.0</td>\n",
       "      <td>31.932917</td>\n",
       "      <td>12.331243</td>\n",
       "      <td>2.0</td>\n",
       "      <td>23.00</td>\n",
       "      <td>35.0</td>\n",
       "      <td>42.00</td>\n",
       "      <td>50.0</td>\n",
       "    </tr>\n",
       "    <tr>\n",
       "      <th>4201</th>\n",
       "      <td>2032.0</td>\n",
       "      <td>29.724902</td>\n",
       "      <td>10.855916</td>\n",
       "      <td>0.0</td>\n",
       "      <td>23.00</td>\n",
       "      <td>32.0</td>\n",
       "      <td>38.00</td>\n",
       "      <td>50.0</td>\n",
       "    </tr>\n",
       "    <tr>\n",
       "      <th>4202</th>\n",
       "      <td>84.0</td>\n",
       "      <td>26.857143</td>\n",
       "      <td>12.604401</td>\n",
       "      <td>3.0</td>\n",
       "      <td>14.00</td>\n",
       "      <td>29.0</td>\n",
       "      <td>37.00</td>\n",
       "      <td>48.0</td>\n",
       "    </tr>\n",
       "    <tr>\n",
       "      <th>4203</th>\n",
       "      <td>2691.0</td>\n",
       "      <td>34.633593</td>\n",
       "      <td>10.938128</td>\n",
       "      <td>0.0</td>\n",
       "      <td>29.00</td>\n",
       "      <td>38.0</td>\n",
       "      <td>42.00</td>\n",
       "      <td>50.0</td>\n",
       "    </tr>\n",
       "    <tr>\n",
       "      <th>4204</th>\n",
       "      <td>96.0</td>\n",
       "      <td>24.552083</td>\n",
       "      <td>10.935091</td>\n",
       "      <td>0.0</td>\n",
       "      <td>15.00</td>\n",
       "      <td>25.0</td>\n",
       "      <td>32.00</td>\n",
       "      <td>48.0</td>\n",
       "    </tr>\n",
       "    <tr>\n",
       "      <th>4207</th>\n",
       "      <td>5678.0</td>\n",
       "      <td>36.876541</td>\n",
       "      <td>10.844396</td>\n",
       "      <td>0.0</td>\n",
       "      <td>32.00</td>\n",
       "      <td>39.0</td>\n",
       "      <td>45.00</td>\n",
       "      <td>50.0</td>\n",
       "    </tr>\n",
       "    <tr>\n",
       "      <th>4208</th>\n",
       "      <td>423.0</td>\n",
       "      <td>34.709220</td>\n",
       "      <td>12.625787</td>\n",
       "      <td>0.0</td>\n",
       "      <td>28.00</td>\n",
       "      <td>39.0</td>\n",
       "      <td>45.00</td>\n",
       "      <td>50.0</td>\n",
       "    </tr>\n",
       "    <tr>\n",
       "      <th>4213</th>\n",
       "      <td>4784.0</td>\n",
       "      <td>27.220527</td>\n",
       "      <td>10.503988</td>\n",
       "      <td>0.0</td>\n",
       "      <td>19.00</td>\n",
       "      <td>28.0</td>\n",
       "      <td>35.00</td>\n",
       "      <td>50.0</td>\n",
       "    </tr>\n",
       "    <tr>\n",
       "      <th>4214</th>\n",
       "      <td>227.0</td>\n",
       "      <td>37.083700</td>\n",
       "      <td>12.239030</td>\n",
       "      <td>3.0</td>\n",
       "      <td>34.00</td>\n",
       "      <td>42.0</td>\n",
       "      <td>45.00</td>\n",
       "      <td>50.0</td>\n",
       "    </tr>\n",
       "  </tbody>\n",
       "</table>\n",
       "<p>730 rows × 8 columns</p>\n",
       "</div>"
      ],
      "text/plain": [
       "                          count       mean        std  min    25%   50%  \\\n",
       "EXAMTYPE EXAMNO SUB_CD                                                    \n",
       "1        212    1000     4545.0  73.053465  22.728399  2.0  64.00  79.0   \n",
       "                2100     2404.0  61.522463  24.858616  0.0  48.00  68.0   \n",
       "                2200     1773.0  58.402143  26.687138  0.0  39.00  61.0   \n",
       "                3000     4113.0  70.969122  23.695699  0.0  60.00  78.0   \n",
       "                4102      462.0  30.753247  12.525191  0.0  22.00  32.0   \n",
       "                4103      272.0  36.121324  12.686832  0.0  28.00  40.0   \n",
       "                4107       91.0  34.351648  13.950208  6.0  22.00  38.0   \n",
       "                4110       56.0  32.053571  14.632988  5.0  17.75  36.0   \n",
       "                4111      881.0  36.323496  12.063601  0.0  30.00  39.0   \n",
       "                4116      858.0  31.898601  11.757774  0.0  26.00  33.0   \n",
       "                4117      159.0  30.867925  13.446148  0.0  20.00  33.0   \n",
       "                4118      133.0  34.112782  13.027741  7.0  24.00  37.0   \n",
       "                4119      240.0  34.016667  12.745322  3.0  27.00  37.0   \n",
       "                4201      617.0  27.794165  13.500773  0.0  16.00  28.0   \n",
       "                4203     1060.0  29.309434  12.890565  0.0  19.00  30.0   \n",
       "                4207     1368.0  32.035088  13.046098  0.0  23.00  35.0   \n",
       "                4213     1440.0  26.512500  12.899402  0.0  16.00  25.0   \n",
       "                7000     3794.0  29.866632  11.615382  0.0  23.00  31.0   \n",
       "         213    1000     2775.0  73.891892  21.113604  2.0  65.00  79.0   \n",
       "                2100     1425.0  72.341053  23.409794  0.0  65.00  80.0   \n",
       "                2200     1174.0  65.578365  26.160015  0.0  47.00  70.0   \n",
       "                3000     2528.0  74.456883  21.187120  0.0  67.00  80.0   \n",
       "                4102      302.0  37.649007  12.086179  0.0  32.25  41.5   \n",
       "                4103      182.0  35.576923  13.086289  0.0  28.00  39.0   \n",
       "                4107       59.0  35.864407  14.139036  4.0  24.00  41.0   \n",
       "                4110       24.0  32.541667  12.258020  6.0  25.75  34.0   \n",
       "                4111      555.0  35.129730  11.543096  0.0  29.00  37.0   \n",
       "                4116      517.0  34.940039  12.233290  0.0  30.00  37.0   \n",
       "                4117      125.0  34.536000  13.811837  2.0  24.00  40.0   \n",
       "                4118       84.0  33.988095  14.514217  3.0  22.00  37.0   \n",
       "...                         ...        ...        ...  ...    ...   ...   \n",
       "2        3027   4119     1048.0  31.374046  12.635715  0.0  22.00  34.0   \n",
       "                4201     3699.0  31.759394  12.012116  0.0  23.00  33.0   \n",
       "                4202      157.0  19.751592  11.120353  0.0  10.00  18.0   \n",
       "                4203     5008.0  35.471645  11.904218  0.0  29.00  39.0   \n",
       "                4204      168.0  28.077381  12.161585  4.0  15.00  31.0   \n",
       "                4207    11283.0  35.309315  11.036629  0.0  29.00  38.0   \n",
       "                4208      658.0  30.142857  11.139804  0.0  23.00  33.0   \n",
       "                4213     9431.0  28.288835  11.451855  0.0  19.00  29.0   \n",
       "                4214      362.0  30.378453  12.449026  0.0  19.25  33.0   \n",
       "         3028   1000    14267.0  77.106329  17.480440  2.0  71.00  82.0   \n",
       "                2100     7337.0  65.629821  15.999338  0.0  59.00  68.0   \n",
       "                2200     6425.0  55.900233  18.256479  0.0  45.00  59.0   \n",
       "                3000    14020.0  75.835093  14.935453  2.0  70.00  79.0   \n",
       "                4102     1422.0  35.829114  12.375530  2.0  29.00  40.0   \n",
       "                4103     1235.0  28.500405   9.982917  0.0  22.50  30.0   \n",
       "                4107      471.0  41.628450   9.991058  2.0  39.00  45.0   \n",
       "                4110       81.0  24.790123  13.914665  2.0  10.00  26.0   \n",
       "                4111     3164.0  34.924779  10.222935  0.0  30.00  37.0   \n",
       "                4116     3328.0  39.514724  10.335044  2.0  37.00  43.0   \n",
       "                4117      806.0  39.512407  11.238541  2.0  35.25  44.0   \n",
       "                4118      542.0  40.252768  11.314392  2.0  37.00  44.0   \n",
       "                4119      641.0  31.932917  12.331243  2.0  23.00  35.0   \n",
       "                4201     2032.0  29.724902  10.855916  0.0  23.00  32.0   \n",
       "                4202       84.0  26.857143  12.604401  3.0  14.00  29.0   \n",
       "                4203     2691.0  34.633593  10.938128  0.0  29.00  38.0   \n",
       "                4204       96.0  24.552083  10.935091  0.0  15.00  25.0   \n",
       "                4207     5678.0  36.876541  10.844396  0.0  32.00  39.0   \n",
       "                4208      423.0  34.709220  12.625787  0.0  28.00  39.0   \n",
       "                4213     4784.0  27.220527  10.503988  0.0  19.00  28.0   \n",
       "                4214      227.0  37.083700  12.239030  3.0  34.00  42.0   \n",
       "\n",
       "                          75%    max  \n",
       "EXAMTYPE EXAMNO SUB_CD                \n",
       "1        212    1000    90.00  100.0  \n",
       "                2100    80.00  100.0  \n",
       "                2200    81.00  100.0  \n",
       "                3000    89.00  100.0  \n",
       "                4102    41.00   50.0  \n",
       "                4103    47.00   50.0  \n",
       "                4107    46.00   50.0  \n",
       "                4110    43.25   50.0  \n",
       "                4111    47.00   50.0  \n",
       "                4116    41.00   50.0  \n",
       "                4117    42.00   50.0  \n",
       "                4118    47.00   50.0  \n",
       "                4119    44.00   50.0  \n",
       "                4201    40.00   50.0  \n",
       "                4203    40.00   50.0  \n",
       "                4207    42.00   50.0  \n",
       "                4213    38.00   50.0  \n",
       "                7000    38.00   50.0  \n",
       "         213    1000    90.00  100.0  \n",
       "                2100    89.00  100.0  \n",
       "                2200    88.00  100.0  \n",
       "                3000    90.00  100.0  \n",
       "                4102    47.00   50.0  \n",
       "                4103    47.00   50.0  \n",
       "                4107    47.00   50.0  \n",
       "                4110    43.25   50.0  \n",
       "                4111    44.00   50.0  \n",
       "                4116    45.00   50.0  \n",
       "                4117    47.00   50.0  \n",
       "                4118    47.00   50.0  \n",
       "...                       ...    ...  \n",
       "2        3027   4119    42.00   50.0  \n",
       "                4201    42.00   50.0  \n",
       "                4202    29.00   43.0  \n",
       "                4203    45.00   50.0  \n",
       "                4204    37.00   47.0  \n",
       "                4207    44.00   50.0  \n",
       "                4208    39.00   50.0  \n",
       "                4213    38.00   50.0  \n",
       "                4214    41.00   50.0  \n",
       "         3028   1000    89.00  100.0  \n",
       "                2100    76.00  100.0  \n",
       "                2200    69.00  100.0  \n",
       "                3000    86.00  100.0  \n",
       "                4102    45.00   50.0  \n",
       "                4103    36.00   50.0  \n",
       "                4107    48.00   50.0  \n",
       "                4110    37.00   50.0  \n",
       "                4111    42.00   50.0  \n",
       "                4116    47.00   50.0  \n",
       "                4117    47.00   50.0  \n",
       "                4118    48.00   50.0  \n",
       "                4119    42.00   50.0  \n",
       "                4201    38.00   50.0  \n",
       "                4202    37.00   48.0  \n",
       "                4203    42.00   50.0  \n",
       "                4204    32.00   48.0  \n",
       "                4207    45.00   50.0  \n",
       "                4208    45.00   50.0  \n",
       "                4213    35.00   50.0  \n",
       "                4214    45.00   50.0  \n",
       "\n",
       "[730 rows x 8 columns]"
      ]
     },
     "execution_count": 141,
     "metadata": {},
     "output_type": "execute_result"
    }
   ],
   "source": [
    "BIG3_elidata['SCORE'].groupby([BIG3_elidata['EXAMTYPE'],BIG3_elidata['EXAMNO'],BIG3_elidata['SUB_CD']]).describe()"
   ]
  },
  {
   "cell_type": "markdown",
   "metadata": {},
   "source": [
    "## 이투스는 각 시험당 약 13000명을 가지고 있으며, 모의고사는 약 4000명에 불과함\n"
   ]
  },
  {
   "cell_type": "markdown",
   "metadata": {},
   "source": [
    "# 고려할 것\n",
    "\n",
    ">> 한 학생의 extype==1에 있는 대표등급 -> extype==2에 있는 대표등급의 관계\n",
    "한 사람의 등급 뿐만 아니라 백분위점수를 활용하는 방법도 있다.\n",
    "한 사람의 등급을 무엇으로 설정할 수 있는가? 그사람이 그 과목에서 본 등급의 1. 최빈값 2. 중앙값 3. 평균 4. 최대,최소\n",
    "백분위 점수의 평균\n",
    ">> \n",
    "\n",
    "\n",
    "## 가정\n",
    "1.extype==1인 시험은 모두 난이도가 같고. extype==2 에 대해서도 마찬가지다.\n",
    "\n",
    "2.그 사람의 등급은 대표값이 결정하고, 대표값과 다른 경우는 오류가 생긴 것이다.\n",
    "\n",
    "3.최종 결과의 등급 예측은, 수능에서의 비율이 현재 가진 데이터의 비율(extype=1 와 \n",
    ")과 같다.왜냐? 2type->1type에서의 변환식은 둘의 교집합에 의해서만 변하지만, 등급을 다시 매길때,얼마나 등급이 변경 될지의 비율이 달라지기 때문에, 수능에서도 동일하다고 가정해야한다. 단, 이때 오류가 식에 의한 오류인지, 정말 수능에서의 비율에서 나오는 오차인지 알 수 없다."
   ]
  },
  {
   "cell_type": "code",
   "execution_count": 4,
   "metadata": {},
   "outputs": [],
   "source": [
    "EX_1list=[212,213,216,217,220,221,228,229,232,233,236,237] #222,223, 238,239는 수능 데이터이다.\n",
    "EX_2list=[3002,3004,3005,3008,3009,3011,3013,3014,3021,3022,3023,3024,3025,3026,3027,3028]"
   ]
  },
  {
   "cell_type": "code",
   "execution_count": 5,
   "metadata": {},
   "outputs": [],
   "source": [
    "sampledata = BIG3_elidata.copy()\n",
    "sampledata_ex1=sampledata[sampledata['EXAMTYPE']==1]\n",
    "sampledata_ex2=sampledata[sampledata['EXAMTYPE']==2]"
   ]
  },
  {
   "cell_type": "code",
   "execution_count": 131,
   "metadata": {},
   "outputs": [
    {
     "data": {
      "text/plain": [
       "104"
      ]
     },
     "execution_count": 131,
     "metadata": {},
     "output_type": "execute_result"
    }
   ],
   "source": [
    "len(sampledata[(sampledata['MEM_NO'].isin(intersut)) & (sampledata[\"EXAMNO\"].isin([212,213,216,217,220,221,3002,3004,3005,3008,3009,3011,3013])) & (sampledata[\"SUB_CD\"]==1000)]['MEM_NO'].unique())"
   ]
  },
  {
   "cell_type": "code",
   "execution_count": 130,
   "metadata": {},
   "outputs": [
    {
     "data": {
      "text/plain": [
       "581"
      ]
     },
     "execution_count": 130,
     "metadata": {},
     "output_type": "execute_result"
    }
   ],
   "source": [
    "len(sampledata[(sampledata['MEM_NO'].isin(intersut)) & (sampledata[\"EXAMNO\"].isin([228,229,232,233,236,237,3021,3022,3023,3024,3025,3026,3027,3028]))]['MEM_NO'].unique())"
   ]
  },
  {
   "cell_type": "code",
   "execution_count": null,
   "metadata": {},
   "outputs": [],
   "source": [
    "len(sampledata[(sampledata['MEM_NO'].isin(intersut)) & (sampledata[\"EXAMNO\"].isin([212,213,216,217,220,221]))])"
   ]
  },
  {
   "cell_type": "code",
   "execution_count": 120,
   "metadata": {},
   "outputs": [
    {
     "data": {
      "text/html": [
       "<div>\n",
       "<style scoped>\n",
       "    .dataframe tbody tr th:only-of-type {\n",
       "        vertical-align: middle;\n",
       "    }\n",
       "\n",
       "    .dataframe tbody tr th {\n",
       "        vertical-align: top;\n",
       "    }\n",
       "\n",
       "    .dataframe thead th {\n",
       "        text-align: right;\n",
       "    }\n",
       "</style>\n",
       "<table border=\"1\" class=\"dataframe\">\n",
       "  <thead>\n",
       "    <tr style=\"text-align: right;\">\n",
       "      <th></th>\n",
       "      <th>EXAMTYPE</th>\n",
       "      <th>MEM_NO</th>\n",
       "      <th>SUB_CD</th>\n",
       "      <th>EXAMNO</th>\n",
       "      <th>SCORE</th>\n",
       "      <th>AC_STD</th>\n",
       "      <th>AC_PCT</th>\n",
       "      <th>RATING</th>\n",
       "      <th>CHEONGSOL_YN</th>\n",
       "    </tr>\n",
       "  </thead>\n",
       "  <tbody>\n",
       "    <tr>\n",
       "      <th>0</th>\n",
       "      <td>1</td>\n",
       "      <td>14402</td>\n",
       "      <td>1000</td>\n",
       "      <td>212</td>\n",
       "      <td>47</td>\n",
       "      <td>90.0</td>\n",
       "      <td>31.0</td>\n",
       "      <td>6</td>\n",
       "      <td>0</td>\n",
       "    </tr>\n",
       "    <tr>\n",
       "      <th>1</th>\n",
       "      <td>1</td>\n",
       "      <td>14402</td>\n",
       "      <td>2100</td>\n",
       "      <td>212</td>\n",
       "      <td>30</td>\n",
       "      <td>87.0</td>\n",
       "      <td>32.0</td>\n",
       "      <td>6</td>\n",
       "      <td>0</td>\n",
       "    </tr>\n",
       "    <tr>\n",
       "      <th>2</th>\n",
       "      <td>1</td>\n",
       "      <td>14402</td>\n",
       "      <td>3000</td>\n",
       "      <td>212</td>\n",
       "      <td>50</td>\n",
       "      <td>94.0</td>\n",
       "      <td>38.0</td>\n",
       "      <td>5</td>\n",
       "      <td>0</td>\n",
       "    </tr>\n",
       "    <tr>\n",
       "      <th>3</th>\n",
       "      <td>1</td>\n",
       "      <td>14402</td>\n",
       "      <td>4207</td>\n",
       "      <td>212</td>\n",
       "      <td>21</td>\n",
       "      <td>47.0</td>\n",
       "      <td>44.0</td>\n",
       "      <td>5</td>\n",
       "      <td>0</td>\n",
       "    </tr>\n",
       "    <tr>\n",
       "      <th>4</th>\n",
       "      <td>1</td>\n",
       "      <td>14402</td>\n",
       "      <td>4213</td>\n",
       "      <td>212</td>\n",
       "      <td>15</td>\n",
       "      <td>47.0</td>\n",
       "      <td>44.0</td>\n",
       "      <td>5</td>\n",
       "      <td>0</td>\n",
       "    </tr>\n",
       "  </tbody>\n",
       "</table>\n",
       "</div>"
      ],
      "text/plain": [
       "   EXAMTYPE  MEM_NO  SUB_CD  EXAMNO  SCORE  AC_STD  AC_PCT  RATING  \\\n",
       "0         1   14402    1000     212     47    90.0    31.0       6   \n",
       "1         1   14402    2100     212     30    87.0    32.0       6   \n",
       "2         1   14402    3000     212     50    94.0    38.0       5   \n",
       "3         1   14402    4207     212     21    47.0    44.0       5   \n",
       "4         1   14402    4213     212     15    47.0    44.0       5   \n",
       "\n",
       "   CHEONGSOL_YN  \n",
       "0             0  \n",
       "1             0  \n",
       "2             0  \n",
       "3             0  \n",
       "4             0  "
      ]
     },
     "execution_count": 120,
     "metadata": {},
     "output_type": "execute_result"
    }
   ],
   "source": [
    "sampledata.head()"
   ]
  },
  {
   "cell_type": "markdown",
   "metadata": {},
   "source": [
    "# 시험타입 1과 2의 각각의 멤버의 수"
   ]
  },
  {
   "cell_type": "code",
   "execution_count": 3,
   "metadata": {},
   "outputs": [
    {
     "data": {
      "text/plain": [
       "56369"
      ]
     },
     "execution_count": 3,
     "metadata": {},
     "output_type": "execute_result"
    }
   ],
   "source": [
    "len((list(BIG3_elidata[BIG3_elidata['EXAMTYPE']==1]['MEM_NO'].unique())))"
   ]
  },
  {
   "cell_type": "code",
   "execution_count": 4,
   "metadata": {
    "scrolled": true
   },
   "outputs": [
    {
     "data": {
      "text/plain": [
       "165205"
      ]
     },
     "execution_count": 4,
     "metadata": {},
     "output_type": "execute_result"
    }
   ],
   "source": [
    "len(list(BIG3_elidata[BIG3_elidata['EXAMTYPE']==2]['MEM_NO'].unique()))"
   ]
  },
  {
   "cell_type": "code",
   "execution_count": 6,
   "metadata": {},
   "outputs": [],
   "source": [
    "stulist = set(list(BIG3_elidata[BIG3_elidata['EXAMTYPE']==1]['MEM_NO'].unique())).intersection(set(list(BIG3_elidata[BIG3_elidata['EXAMTYPE']==2]['MEM_NO'].unique())))\n",
    "intersut=list(stulist)"
   ]
  },
  {
   "cell_type": "markdown",
   "metadata": {},
   "source": [
    "## 분석방향 : A시험을 본 사람의 대표적인 등급 -> B시험에서의 대표적인 등급은 어떻게 변화하는가.\n",
    ">\n",
    "해야할것 : \n",
    "\n",
    "등급과 백분위\n",
    "#### 1. 등급은 반드시 정규분포를 따른다.\n",
    "#### 2. 한 사람에 대해 대표 등급을 구한다. -> extype 1에서 하나, 2에서 하나.\n",
    "-> \n",
    "#### 3. 이 대표값들의 extype==1과 2에서의 상관관계를 구한다.\n",
    "#### 4. 상관관계가 없으면 폐기하고, 충분히 강하면, 관계식을 찾는다. 회귀, nn, \n",
    "\n",
    "#### 5. 2에서 1로서의 변환 관계식을 변환 후에, 수능을 본 사람들만을 뽑아 수능 대표값"
   ]
  },
  {
   "cell_type": "code",
   "execution_count": 94,
   "metadata": {},
   "outputs": [],
   "source": [
    "Sumind = sampledata_ex1[sampledata_ex1['MEM_NO']==14402]['AC_STD'].groupby(sampledata_ex1['SUB_CD']).mean().add_suffix('').reset_index()\n",
    "kk=Sumind[Sumind['SUB_CD']==str(1000)]['AC_STD'][0]"
   ]
  },
  {
   "cell_type": "markdown",
   "metadata": {},
   "source": [
    "이 데이터들의 저장을 위해선 멤버 수만큼의 길이와 41개 과목코드의 컬럼이 필요. -> 대표값마다 다른 데이터가 만들어짐."
   ]
  },
  {
   "cell_type": "code",
   "execution_count": 21,
   "metadata": {},
   "outputs": [],
   "source": [
    "SUBLIST= BIG3_elidata['SUB_CD'].unique()\n",
    "SUBLIST = np.sort(SUBLIST)"
   ]
  },
  {
   "cell_type": "code",
   "execution_count": 9,
   "metadata": {},
   "outputs": [],
   "source": [
    "collist=['MEM_NO']\n",
    "for i in np.sort(SUBLIST):\n",
    "    collist.append(str(i))"
   ]
  },
  {
   "cell_type": "code",
   "execution_count": 10,
   "metadata": {},
   "outputs": [
    {
     "data": {
      "text/html": [
       "<div>\n",
       "<style scoped>\n",
       "    .dataframe tbody tr th:only-of-type {\n",
       "        vertical-align: middle;\n",
       "    }\n",
       "\n",
       "    .dataframe tbody tr th {\n",
       "        vertical-align: top;\n",
       "    }\n",
       "\n",
       "    .dataframe thead th {\n",
       "        text-align: right;\n",
       "    }\n",
       "</style>\n",
       "<table border=\"1\" class=\"dataframe\">\n",
       "  <thead>\n",
       "    <tr style=\"text-align: right;\">\n",
       "      <th></th>\n",
       "      <th>MEM_NO</th>\n",
       "      <th>1000</th>\n",
       "      <th>2100</th>\n",
       "      <th>2200</th>\n",
       "      <th>3000</th>\n",
       "      <th>4102</th>\n",
       "      <th>4103</th>\n",
       "      <th>4107</th>\n",
       "      <th>4110</th>\n",
       "      <th>4111</th>\n",
       "      <th>...</th>\n",
       "      <th>5001</th>\n",
       "      <th>5002</th>\n",
       "      <th>5003</th>\n",
       "      <th>5004</th>\n",
       "      <th>5005</th>\n",
       "      <th>5006</th>\n",
       "      <th>5007</th>\n",
       "      <th>5008</th>\n",
       "      <th>5009</th>\n",
       "      <th>7000</th>\n",
       "    </tr>\n",
       "  </thead>\n",
       "  <tbody>\n",
       "    <tr>\n",
       "      <th>0</th>\n",
       "      <td>4007938</td>\n",
       "      <td>NaN</td>\n",
       "      <td>NaN</td>\n",
       "      <td>NaN</td>\n",
       "      <td>NaN</td>\n",
       "      <td>NaN</td>\n",
       "      <td>NaN</td>\n",
       "      <td>NaN</td>\n",
       "      <td>NaN</td>\n",
       "      <td>NaN</td>\n",
       "      <td>...</td>\n",
       "      <td>NaN</td>\n",
       "      <td>NaN</td>\n",
       "      <td>NaN</td>\n",
       "      <td>NaN</td>\n",
       "      <td>NaN</td>\n",
       "      <td>NaN</td>\n",
       "      <td>NaN</td>\n",
       "      <td>NaN</td>\n",
       "      <td>NaN</td>\n",
       "      <td>NaN</td>\n",
       "    </tr>\n",
       "    <tr>\n",
       "      <th>1</th>\n",
       "      <td>5976067</td>\n",
       "      <td>NaN</td>\n",
       "      <td>NaN</td>\n",
       "      <td>NaN</td>\n",
       "      <td>NaN</td>\n",
       "      <td>NaN</td>\n",
       "      <td>NaN</td>\n",
       "      <td>NaN</td>\n",
       "      <td>NaN</td>\n",
       "      <td>NaN</td>\n",
       "      <td>...</td>\n",
       "      <td>NaN</td>\n",
       "      <td>NaN</td>\n",
       "      <td>NaN</td>\n",
       "      <td>NaN</td>\n",
       "      <td>NaN</td>\n",
       "      <td>NaN</td>\n",
       "      <td>NaN</td>\n",
       "      <td>NaN</td>\n",
       "      <td>NaN</td>\n",
       "      <td>NaN</td>\n",
       "    </tr>\n",
       "    <tr>\n",
       "      <th>2</th>\n",
       "      <td>4560904</td>\n",
       "      <td>NaN</td>\n",
       "      <td>NaN</td>\n",
       "      <td>NaN</td>\n",
       "      <td>NaN</td>\n",
       "      <td>NaN</td>\n",
       "      <td>NaN</td>\n",
       "      <td>NaN</td>\n",
       "      <td>NaN</td>\n",
       "      <td>NaN</td>\n",
       "      <td>...</td>\n",
       "      <td>NaN</td>\n",
       "      <td>NaN</td>\n",
       "      <td>NaN</td>\n",
       "      <td>NaN</td>\n",
       "      <td>NaN</td>\n",
       "      <td>NaN</td>\n",
       "      <td>NaN</td>\n",
       "      <td>NaN</td>\n",
       "      <td>NaN</td>\n",
       "      <td>NaN</td>\n",
       "    </tr>\n",
       "    <tr>\n",
       "      <th>3</th>\n",
       "      <td>4730898</td>\n",
       "      <td>NaN</td>\n",
       "      <td>NaN</td>\n",
       "      <td>NaN</td>\n",
       "      <td>NaN</td>\n",
       "      <td>NaN</td>\n",
       "      <td>NaN</td>\n",
       "      <td>NaN</td>\n",
       "      <td>NaN</td>\n",
       "      <td>NaN</td>\n",
       "      <td>...</td>\n",
       "      <td>NaN</td>\n",
       "      <td>NaN</td>\n",
       "      <td>NaN</td>\n",
       "      <td>NaN</td>\n",
       "      <td>NaN</td>\n",
       "      <td>NaN</td>\n",
       "      <td>NaN</td>\n",
       "      <td>NaN</td>\n",
       "      <td>NaN</td>\n",
       "      <td>NaN</td>\n",
       "    </tr>\n",
       "    <tr>\n",
       "      <th>4</th>\n",
       "      <td>5894170</td>\n",
       "      <td>NaN</td>\n",
       "      <td>NaN</td>\n",
       "      <td>NaN</td>\n",
       "      <td>NaN</td>\n",
       "      <td>NaN</td>\n",
       "      <td>NaN</td>\n",
       "      <td>NaN</td>\n",
       "      <td>NaN</td>\n",
       "      <td>NaN</td>\n",
       "      <td>...</td>\n",
       "      <td>NaN</td>\n",
       "      <td>NaN</td>\n",
       "      <td>NaN</td>\n",
       "      <td>NaN</td>\n",
       "      <td>NaN</td>\n",
       "      <td>NaN</td>\n",
       "      <td>NaN</td>\n",
       "      <td>NaN</td>\n",
       "      <td>NaN</td>\n",
       "      <td>NaN</td>\n",
       "    </tr>\n",
       "  </tbody>\n",
       "</table>\n",
       "<p>5 rows × 32 columns</p>\n",
       "</div>"
      ],
      "text/plain": [
       "    MEM_NO 1000 2100 2200 3000 4102 4103 4107 4110 4111 ...  5001 5002 5003  \\\n",
       "0  4007938  NaN  NaN  NaN  NaN  NaN  NaN  NaN  NaN  NaN ...   NaN  NaN  NaN   \n",
       "1  5976067  NaN  NaN  NaN  NaN  NaN  NaN  NaN  NaN  NaN ...   NaN  NaN  NaN   \n",
       "2  4560904  NaN  NaN  NaN  NaN  NaN  NaN  NaN  NaN  NaN ...   NaN  NaN  NaN   \n",
       "3  4730898  NaN  NaN  NaN  NaN  NaN  NaN  NaN  NaN  NaN ...   NaN  NaN  NaN   \n",
       "4  5894170  NaN  NaN  NaN  NaN  NaN  NaN  NaN  NaN  NaN ...   NaN  NaN  NaN   \n",
       "\n",
       "  5004 5005 5006 5007 5008 5009 7000  \n",
       "0  NaN  NaN  NaN  NaN  NaN  NaN  NaN  \n",
       "1  NaN  NaN  NaN  NaN  NaN  NaN  NaN  \n",
       "2  NaN  NaN  NaN  NaN  NaN  NaN  NaN  \n",
       "3  NaN  NaN  NaN  NaN  NaN  NaN  NaN  \n",
       "4  NaN  NaN  NaN  NaN  NaN  NaN  NaN  \n",
       "\n",
       "[5 rows x 32 columns]"
      ]
     },
     "execution_count": 10,
     "metadata": {},
     "output_type": "execute_result"
    }
   ],
   "source": [
    "#위 세가지 결과로 데이터프레임 틀을 만든다.\n",
    "\n",
    "EX1_represent=pd.DataFrame(None,columns = collist)\n",
    "EX1_represent['MEM_NO']= intersut\n",
    "EX1_represent.head()\n",
    "\n"
   ]
  },
  {
   "cell_type": "code",
   "execution_count": 11,
   "metadata": {
    "scrolled": true
   },
   "outputs": [],
   "source": [
    "#멤버 넘버가 같고\n",
    "for mem_no in EX1_represent['MEM_NO']:\n",
    "    Sumind = sampledata_ex1[sampledata_ex1['MEM_NO']==mem_no]['AC_PCT'].groupby(sampledata_ex1['SUB_CD']).mean().add_suffix('').reset_index()\n",
    "    #한 멤버의 대표값을 만들어 임시 리스트에 저장한다\n",
    "    for i in range(len(EX1_represent.columns)):\n",
    "        \n",
    "        #한 사람이 어떤 과목을 봤을지 모르므로 다 확인해 보는게 맞다\n",
    "        if EX1_represent.columns[i] in list(Sumind['SUB_CD']):\n",
    "                    EX1_represent.loc[EX1_represent['MEM_NO']==mem_no,EX1_represent.columns[i]] = Sumind[EX1_represent.columns[i]==Sumind['SUB_CD']]['AC_PCT'].iloc[0] #컬럼과 뽑아낸 과목코드가 같은 것의 값을"
   ]
  },
  {
   "cell_type": "code",
   "execution_count": 12,
   "metadata": {
    "scrolled": true
   },
   "outputs": [
    {
     "data": {
      "text/html": [
       "<div>\n",
       "<style scoped>\n",
       "    .dataframe tbody tr th:only-of-type {\n",
       "        vertical-align: middle;\n",
       "    }\n",
       "\n",
       "    .dataframe tbody tr th {\n",
       "        vertical-align: top;\n",
       "    }\n",
       "\n",
       "    .dataframe thead th {\n",
       "        text-align: right;\n",
       "    }\n",
       "</style>\n",
       "<table border=\"1\" class=\"dataframe\">\n",
       "  <thead>\n",
       "    <tr style=\"text-align: right;\">\n",
       "      <th></th>\n",
       "      <th>MEM_NO</th>\n",
       "      <th>1000</th>\n",
       "      <th>2100</th>\n",
       "      <th>2200</th>\n",
       "      <th>3000</th>\n",
       "      <th>4102</th>\n",
       "      <th>4103</th>\n",
       "      <th>4107</th>\n",
       "      <th>4110</th>\n",
       "      <th>4111</th>\n",
       "      <th>...</th>\n",
       "      <th>5001</th>\n",
       "      <th>5002</th>\n",
       "      <th>5003</th>\n",
       "      <th>5004</th>\n",
       "      <th>5005</th>\n",
       "      <th>5006</th>\n",
       "      <th>5007</th>\n",
       "      <th>5008</th>\n",
       "      <th>5009</th>\n",
       "      <th>7000</th>\n",
       "    </tr>\n",
       "  </thead>\n",
       "  <tbody>\n",
       "    <tr>\n",
       "      <th>0</th>\n",
       "      <td>4007938</td>\n",
       "      <td>17.3333</td>\n",
       "      <td>38</td>\n",
       "      <td>31.3333</td>\n",
       "      <td>52</td>\n",
       "      <td>NaN</td>\n",
       "      <td>NaN</td>\n",
       "      <td>NaN</td>\n",
       "      <td>NaN</td>\n",
       "      <td>NaN</td>\n",
       "      <td>...</td>\n",
       "      <td>NaN</td>\n",
       "      <td>NaN</td>\n",
       "      <td>NaN</td>\n",
       "      <td>NaN</td>\n",
       "      <td>NaN</td>\n",
       "      <td>NaN</td>\n",
       "      <td>NaN</td>\n",
       "      <td>NaN</td>\n",
       "      <td>NaN</td>\n",
       "      <td>39</td>\n",
       "    </tr>\n",
       "    <tr>\n",
       "      <th>1</th>\n",
       "      <td>5976067</td>\n",
       "      <td>62</td>\n",
       "      <td>NaN</td>\n",
       "      <td>47</td>\n",
       "      <td>49</td>\n",
       "      <td>NaN</td>\n",
       "      <td>NaN</td>\n",
       "      <td>NaN</td>\n",
       "      <td>NaN</td>\n",
       "      <td>79</td>\n",
       "      <td>...</td>\n",
       "      <td>NaN</td>\n",
       "      <td>NaN</td>\n",
       "      <td>NaN</td>\n",
       "      <td>NaN</td>\n",
       "      <td>NaN</td>\n",
       "      <td>NaN</td>\n",
       "      <td>NaN</td>\n",
       "      <td>NaN</td>\n",
       "      <td>NaN</td>\n",
       "      <td>39</td>\n",
       "    </tr>\n",
       "    <tr>\n",
       "      <th>2</th>\n",
       "      <td>4560904</td>\n",
       "      <td>85</td>\n",
       "      <td>NaN</td>\n",
       "      <td>NaN</td>\n",
       "      <td>NaN</td>\n",
       "      <td>NaN</td>\n",
       "      <td>NaN</td>\n",
       "      <td>NaN</td>\n",
       "      <td>NaN</td>\n",
       "      <td>NaN</td>\n",
       "      <td>...</td>\n",
       "      <td>NaN</td>\n",
       "      <td>NaN</td>\n",
       "      <td>NaN</td>\n",
       "      <td>NaN</td>\n",
       "      <td>NaN</td>\n",
       "      <td>NaN</td>\n",
       "      <td>NaN</td>\n",
       "      <td>NaN</td>\n",
       "      <td>NaN</td>\n",
       "      <td>NaN</td>\n",
       "    </tr>\n",
       "    <tr>\n",
       "      <th>3</th>\n",
       "      <td>4730898</td>\n",
       "      <td>52</td>\n",
       "      <td>47</td>\n",
       "      <td>NaN</td>\n",
       "      <td>72</td>\n",
       "      <td>NaN</td>\n",
       "      <td>NaN</td>\n",
       "      <td>NaN</td>\n",
       "      <td>NaN</td>\n",
       "      <td>NaN</td>\n",
       "      <td>...</td>\n",
       "      <td>NaN</td>\n",
       "      <td>NaN</td>\n",
       "      <td>NaN</td>\n",
       "      <td>NaN</td>\n",
       "      <td>NaN</td>\n",
       "      <td>NaN</td>\n",
       "      <td>NaN</td>\n",
       "      <td>NaN</td>\n",
       "      <td>NaN</td>\n",
       "      <td>32</td>\n",
       "    </tr>\n",
       "    <tr>\n",
       "      <th>4</th>\n",
       "      <td>5894170</td>\n",
       "      <td>77.5</td>\n",
       "      <td>NaN</td>\n",
       "      <td>90</td>\n",
       "      <td>75.5</td>\n",
       "      <td>88.5</td>\n",
       "      <td>95</td>\n",
       "      <td>NaN</td>\n",
       "      <td>NaN</td>\n",
       "      <td>NaN</td>\n",
       "      <td>...</td>\n",
       "      <td>25</td>\n",
       "      <td>NaN</td>\n",
       "      <td>NaN</td>\n",
       "      <td>NaN</td>\n",
       "      <td>NaN</td>\n",
       "      <td>NaN</td>\n",
       "      <td>NaN</td>\n",
       "      <td>NaN</td>\n",
       "      <td>NaN</td>\n",
       "      <td>85.5</td>\n",
       "    </tr>\n",
       "  </tbody>\n",
       "</table>\n",
       "<p>5 rows × 32 columns</p>\n",
       "</div>"
      ],
      "text/plain": [
       "    MEM_NO     1000 2100     2200  3000  4102 4103 4107 4110 4111  ...  5001  \\\n",
       "0  4007938  17.3333   38  31.3333    52   NaN  NaN  NaN  NaN  NaN  ...   NaN   \n",
       "1  5976067       62  NaN       47    49   NaN  NaN  NaN  NaN   79  ...   NaN   \n",
       "2  4560904       85  NaN      NaN   NaN   NaN  NaN  NaN  NaN  NaN  ...   NaN   \n",
       "3  4730898       52   47      NaN    72   NaN  NaN  NaN  NaN  NaN  ...   NaN   \n",
       "4  5894170     77.5  NaN       90  75.5  88.5   95  NaN  NaN  NaN  ...    25   \n",
       "\n",
       "  5002 5003 5004 5005 5006 5007 5008 5009  7000  \n",
       "0  NaN  NaN  NaN  NaN  NaN  NaN  NaN  NaN    39  \n",
       "1  NaN  NaN  NaN  NaN  NaN  NaN  NaN  NaN    39  \n",
       "2  NaN  NaN  NaN  NaN  NaN  NaN  NaN  NaN   NaN  \n",
       "3  NaN  NaN  NaN  NaN  NaN  NaN  NaN  NaN    32  \n",
       "4  NaN  NaN  NaN  NaN  NaN  NaN  NaN  NaN  85.5  \n",
       "\n",
       "[5 rows x 32 columns]"
      ]
     },
     "execution_count": 12,
     "metadata": {},
     "output_type": "execute_result"
    }
   ],
   "source": [
    "EX1_represent.head()"
   ]
  },
  {
   "cell_type": "code",
   "execution_count": 13,
   "metadata": {},
   "outputs": [],
   "source": [
    "EX2_represent=pd.DataFrame(None,columns = collist)\n",
    "EX2_represent['MEM_NO']= intersut\n"
   ]
  },
  {
   "cell_type": "code",
   "execution_count": 14,
   "metadata": {},
   "outputs": [],
   "source": [
    "#멤버 넘버가 같고\n",
    "for mem_no in EX2_represent['MEM_NO']:\n",
    "    Sumind = sampledata_ex2[sampledata_ex2['MEM_NO']==mem_no]['AC_PCT'].groupby(sampledata_ex2['SUB_CD']).mean().add_suffix('').reset_index()\n",
    "    #한 멤버의 대표값을 만들어 임시 리스트에 저장한다\n",
    "    for i in range(len(EX2_represent.columns)):\n",
    "        \n",
    "        #한 사람이 어떤 과목을 봤을지 모르므로 다 확인해 보는게 맞다\n",
    "        if EX2_represent.columns[i] in list(Sumind['SUB_CD']):\n",
    "                    EX2_represent.loc[EX2_represent['MEM_NO']==mem_no,EX2_represent.columns[i]] = Sumind[EX2_represent.columns[i]==Sumind['SUB_CD']]['AC_PCT'].iloc[0] #컬럼과 뽑아낸 과목코드가 같은 것의 값을"
   ]
  },
  {
   "cell_type": "code",
   "execution_count": 15,
   "metadata": {},
   "outputs": [
    {
     "data": {
      "text/html": [
       "<div>\n",
       "<style scoped>\n",
       "    .dataframe tbody tr th:only-of-type {\n",
       "        vertical-align: middle;\n",
       "    }\n",
       "\n",
       "    .dataframe tbody tr th {\n",
       "        vertical-align: top;\n",
       "    }\n",
       "\n",
       "    .dataframe thead th {\n",
       "        text-align: right;\n",
       "    }\n",
       "</style>\n",
       "<table border=\"1\" class=\"dataframe\">\n",
       "  <thead>\n",
       "    <tr style=\"text-align: right;\">\n",
       "      <th></th>\n",
       "      <th>MEM_NO</th>\n",
       "      <th>1000</th>\n",
       "      <th>2100</th>\n",
       "      <th>2200</th>\n",
       "      <th>3000</th>\n",
       "      <th>4102</th>\n",
       "      <th>4103</th>\n",
       "      <th>4107</th>\n",
       "      <th>4110</th>\n",
       "      <th>4111</th>\n",
       "      <th>...</th>\n",
       "      <th>5001</th>\n",
       "      <th>5002</th>\n",
       "      <th>5003</th>\n",
       "      <th>5004</th>\n",
       "      <th>5005</th>\n",
       "      <th>5006</th>\n",
       "      <th>5007</th>\n",
       "      <th>5008</th>\n",
       "      <th>5009</th>\n",
       "      <th>7000</th>\n",
       "    </tr>\n",
       "  </thead>\n",
       "  <tbody>\n",
       "    <tr>\n",
       "      <th>0</th>\n",
       "      <td>4007938</td>\n",
       "      <td>18</td>\n",
       "      <td>NaN</td>\n",
       "      <td>67</td>\n",
       "      <td>40</td>\n",
       "      <td>NaN</td>\n",
       "      <td>NaN</td>\n",
       "      <td>NaN</td>\n",
       "      <td>NaN</td>\n",
       "      <td>NaN</td>\n",
       "      <td>...</td>\n",
       "      <td>NaN</td>\n",
       "      <td>NaN</td>\n",
       "      <td>NaN</td>\n",
       "      <td>NaN</td>\n",
       "      <td>NaN</td>\n",
       "      <td>NaN</td>\n",
       "      <td>NaN</td>\n",
       "      <td>NaN</td>\n",
       "      <td>NaN</td>\n",
       "      <td>NaN</td>\n",
       "    </tr>\n",
       "    <tr>\n",
       "      <th>1</th>\n",
       "      <td>5976067</td>\n",
       "      <td>51</td>\n",
       "      <td>NaN</td>\n",
       "      <td>7</td>\n",
       "      <td>80</td>\n",
       "      <td>NaN</td>\n",
       "      <td>NaN</td>\n",
       "      <td>NaN</td>\n",
       "      <td>NaN</td>\n",
       "      <td>59</td>\n",
       "      <td>...</td>\n",
       "      <td>NaN</td>\n",
       "      <td>NaN</td>\n",
       "      <td>NaN</td>\n",
       "      <td>NaN</td>\n",
       "      <td>NaN</td>\n",
       "      <td>NaN</td>\n",
       "      <td>NaN</td>\n",
       "      <td>NaN</td>\n",
       "      <td>NaN</td>\n",
       "      <td>NaN</td>\n",
       "    </tr>\n",
       "    <tr>\n",
       "      <th>2</th>\n",
       "      <td>4560904</td>\n",
       "      <td>67</td>\n",
       "      <td>58</td>\n",
       "      <td>NaN</td>\n",
       "      <td>60</td>\n",
       "      <td>NaN</td>\n",
       "      <td>NaN</td>\n",
       "      <td>NaN</td>\n",
       "      <td>NaN</td>\n",
       "      <td>NaN</td>\n",
       "      <td>...</td>\n",
       "      <td>NaN</td>\n",
       "      <td>NaN</td>\n",
       "      <td>NaN</td>\n",
       "      <td>NaN</td>\n",
       "      <td>NaN</td>\n",
       "      <td>NaN</td>\n",
       "      <td>NaN</td>\n",
       "      <td>NaN</td>\n",
       "      <td>NaN</td>\n",
       "      <td>NaN</td>\n",
       "    </tr>\n",
       "    <tr>\n",
       "      <th>3</th>\n",
       "      <td>4730898</td>\n",
       "      <td>50.8</td>\n",
       "      <td>27.8</td>\n",
       "      <td>NaN</td>\n",
       "      <td>92</td>\n",
       "      <td>NaN</td>\n",
       "      <td>NaN</td>\n",
       "      <td>NaN</td>\n",
       "      <td>NaN</td>\n",
       "      <td>NaN</td>\n",
       "      <td>...</td>\n",
       "      <td>NaN</td>\n",
       "      <td>NaN</td>\n",
       "      <td>NaN</td>\n",
       "      <td>NaN</td>\n",
       "      <td>NaN</td>\n",
       "      <td>NaN</td>\n",
       "      <td>NaN</td>\n",
       "      <td>NaN</td>\n",
       "      <td>NaN</td>\n",
       "      <td>NaN</td>\n",
       "    </tr>\n",
       "    <tr>\n",
       "      <th>4</th>\n",
       "      <td>5894170</td>\n",
       "      <td>55.5</td>\n",
       "      <td>NaN</td>\n",
       "      <td>70.625</td>\n",
       "      <td>92.5</td>\n",
       "      <td>64.5</td>\n",
       "      <td>76.625</td>\n",
       "      <td>NaN</td>\n",
       "      <td>NaN</td>\n",
       "      <td>NaN</td>\n",
       "      <td>...</td>\n",
       "      <td>NaN</td>\n",
       "      <td>NaN</td>\n",
       "      <td>NaN</td>\n",
       "      <td>NaN</td>\n",
       "      <td>NaN</td>\n",
       "      <td>NaN</td>\n",
       "      <td>NaN</td>\n",
       "      <td>NaN</td>\n",
       "      <td>NaN</td>\n",
       "      <td>NaN</td>\n",
       "    </tr>\n",
       "  </tbody>\n",
       "</table>\n",
       "<p>5 rows × 32 columns</p>\n",
       "</div>"
      ],
      "text/plain": [
       "    MEM_NO  1000  2100    2200  3000  4102    4103 4107 4110 4111 ...  5001  \\\n",
       "0  4007938    18   NaN      67    40   NaN     NaN  NaN  NaN  NaN ...   NaN   \n",
       "1  5976067    51   NaN       7    80   NaN     NaN  NaN  NaN   59 ...   NaN   \n",
       "2  4560904    67    58     NaN    60   NaN     NaN  NaN  NaN  NaN ...   NaN   \n",
       "3  4730898  50.8  27.8     NaN    92   NaN     NaN  NaN  NaN  NaN ...   NaN   \n",
       "4  5894170  55.5   NaN  70.625  92.5  64.5  76.625  NaN  NaN  NaN ...   NaN   \n",
       "\n",
       "  5002 5003 5004 5005 5006 5007 5008 5009 7000  \n",
       "0  NaN  NaN  NaN  NaN  NaN  NaN  NaN  NaN  NaN  \n",
       "1  NaN  NaN  NaN  NaN  NaN  NaN  NaN  NaN  NaN  \n",
       "2  NaN  NaN  NaN  NaN  NaN  NaN  NaN  NaN  NaN  \n",
       "3  NaN  NaN  NaN  NaN  NaN  NaN  NaN  NaN  NaN  \n",
       "4  NaN  NaN  NaN  NaN  NaN  NaN  NaN  NaN  NaN  \n",
       "\n",
       "[5 rows x 32 columns]"
      ]
     },
     "execution_count": 15,
     "metadata": {},
     "output_type": "execute_result"
    }
   ],
   "source": [
    "EX2_represent.head()"
   ]
  },
  {
   "cell_type": "markdown",
   "metadata": {},
   "source": [
    "# 교집합에 대한 과목별 대표값을 모아놓은 곳"
   ]
  },
  {
   "cell_type": "code",
   "execution_count": 17,
   "metadata": {},
   "outputs": [],
   "source": [
    "#EX1_represent.to_csv(r'C:\\Users\\74857\\데이콘야구\\동국대\\EX1_inter.csv',header=True,index=False)\n",
    "#EX2_represent.to_csv(r'C:\\Users\\74857\\데이콘야구\\동국대\\EX2_inter.csv',header=True,index=False)\n",
    "#EX1_represent = pd.read_csv(r'C:\\Users\\74857\\데이콘야구\\동국대\\EX1_inter.csv',engine='python')\n",
    "#EX2_represent = pd.read_csv(r'C:\\Users\\74857\\데이콘야구\\동국대\\EX2_inter.csv',engine='python')"
   ]
  },
  {
   "cell_type": "code",
   "execution_count": 22,
   "metadata": {},
   "outputs": [
    {
     "name": "stdout",
     "output_type": "stream",
     "text": [
      "과목코드1000의 상관관계는 0.59\n",
      "과목코드2100의 상관관계는 0.587\n",
      "과목코드2200의 상관관계는 0.542\n",
      "과목코드3000의 상관관계는 0.508\n",
      "과목코드4102의 상관관계는 0.565\n",
      "과목코드4103의 상관관계는 0.481\n",
      "과목코드4107의 상관관계는 0.743\n",
      "과목코드4110의 상관관계는 0.937\n",
      "과목코드4111의 상관관계는 0.518\n",
      "과목코드4116의 상관관계는 0.302\n",
      "과목코드4117의 상관관계는 0.555\n",
      "과목코드4118의 상관관계는 0.745\n",
      "과목코드4119의 상관관계는 0.409\n",
      "과목코드4201의 상관관계는 0.486\n",
      "과목코드4202의 상관관계는 0.257\n",
      "과목코드4203의 상관관계는 0.408\n",
      "과목코드4204의 상관관계는 0.232\n",
      "과목코드4207의 상관관계는 0.526\n",
      "과목코드4208의 상관관계는 0.683\n",
      "과목코드4213의 상관관계는 0.449\n",
      "과목코드4214의 상관관계는 0.216\n",
      "과목코드5001의 상관관계는 nan\n",
      "과목코드5002의 상관관계는 nan\n",
      "과목코드5003의 상관관계는 nan\n",
      "과목코드5004의 상관관계는 nan\n",
      "과목코드5005의 상관관계는 nan\n",
      "과목코드5006의 상관관계는 nan\n",
      "과목코드5007의 상관관계는 nan\n",
      "과목코드5008의 상관관계는 nan\n",
      "과목코드5009의 상관관계는 nan\n",
      "과목코드7000의 상관관계는 nan\n"
     ]
    }
   ],
   "source": [
    "for j in SUBLIST:\n",
    "    j = str(j)\n",
    "    print(\"과목코드\"+str(j)+\"의 상관관계는 \" \n",
    "          + str(np.round(EX1_represent[j].astype('float64').corr(EX2_represent[j].astype('float64')),3)))"
   ]
  },
  {
   "cell_type": "code",
   "execution_count": 23,
   "metadata": {},
   "outputs": [],
   "source": [
    "from sklearn.ensemble import RandomForestRegressor\n"
   ]
  },
  {
   "cell_type": "code",
   "execution_count": 32,
   "metadata": {
    "collapsed": true
   },
   "outputs": [],
   "source": [
    "rd.seed(1234)\n",
    "train_number = rd.sample(range(len(intersut)),round(len(intersut)*0.75))\n",
    "test_number = []\n",
    "for i in range(len(intersut)):\n",
    "    if i not in train_number:\n",
    "        test_number.append(i)\n",
    "\n",
    "train_data_ex1, train_data_ex2 = EX1_represent.loc[train_number] , EX2_represent.loc[train_number]\n",
    "\n",
    "test_data_ex1, train_test_ex2 = EX1_represent.loc[test_number] , EX2_represent.loc[test_number]"
   ]
  },
  {
   "cell_type": "code",
   "execution_count": 33,
   "metadata": {
    "collapsed": true
   },
   "outputs": [
    {
     "name": "stdout",
     "output_type": "stream",
     "text": [
      "과목코드1000의 상관관계는 0.608\n",
      "과목코드2100의 상관관계는 0.571\n",
      "과목코드2200의 상관관계는 0.661\n",
      "과목코드3000의 상관관계는 0.512\n",
      "과목코드4102의 상관관계는 0.525\n",
      "과목코드4103의 상관관계는 0.474\n",
      "과목코드4107의 상관관계는 0.73\n",
      "과목코드4110의 상관관계는 0.938\n",
      "과목코드4111의 상관관계는 0.566\n",
      "과목코드4116의 상관관계는 0.34\n",
      "과목코드4117의 상관관계는 0.558\n",
      "과목코드4118의 상관관계는 0.745\n",
      "과목코드4119의 상관관계는 0.584\n",
      "과목코드4201의 상관관계는 0.493\n",
      "과목코드4202의 상관관계는 0.264\n",
      "과목코드4203의 상관관계는 0.375\n",
      "과목코드4204의 상관관계는 0.476\n",
      "과목코드4207의 상관관계는 0.472\n",
      "과목코드4208의 상관관계는 0.523\n",
      "과목코드4213의 상관관계는 0.558\n",
      "과목코드4214의 상관관계는 0.096\n",
      "과목코드5001의 상관관계는 nan\n",
      "과목코드5002의 상관관계는 nan\n",
      "과목코드5003의 상관관계는 nan\n",
      "과목코드5004의 상관관계는 nan\n",
      "과목코드5005의 상관관계는 nan\n",
      "과목코드5006의 상관관계는 nan\n",
      "과목코드5007의 상관관계는 nan\n",
      "과목코드5008의 상관관계는 nan\n",
      "과목코드5009의 상관관계는 nan\n",
      "과목코드7000의 상관관계는 nan\n"
     ]
    }
   ],
   "source": [
    "for j in SUBLIST:\n",
    "    j = str(j)\n",
    "    print(\"과목코드\"+str(j)+\"의 상관관계는 \" \n",
    "          + str(np.round(train_data_ex1[j].astype('float64').corr(train_data_ex2[j].astype('float64')),3)))"
   ]
  },
  {
   "cell_type": "code",
   "execution_count": 50,
   "metadata": {
    "collapsed": true
   },
   "outputs": [
    {
     "data": {
      "text/plain": [
       "MEM_NO      0\n",
       "1000       37\n",
       "2100      200\n",
       "2200      277\n",
       "3000       49\n",
       "4102      385\n",
       "4103      403\n",
       "4107      425\n",
       "4110      432\n",
       "4111      354\n",
       "4116      362\n",
       "4117      417\n",
       "4118      422\n",
       "4119      411\n",
       "4201      365\n",
       "4202      430\n",
       "4203      350\n",
       "4204      432\n",
       "4207      257\n",
       "4208      420\n",
       "4213      282\n",
       "4214      427\n",
       "5001      370\n",
       "5002      434\n",
       "5003      435\n",
       "5004      436\n",
       "5005      435\n",
       "5006      433\n",
       "5007      436\n",
       "5008      435\n",
       "5009      433\n",
       "7000       61\n",
       "dtype: int64"
      ]
     },
     "execution_count": 50,
     "metadata": {},
     "output_type": "execute_result"
    }
   ],
   "source": [
    "train_data_ex1.isnull().sum()"
   ]
  },
  {
   "cell_type": "code",
   "execution_count": 47,
   "metadata": {
    "collapsed": true
   },
   "outputs": [
    {
     "data": {
      "text/plain": [
       "MEM_NO      0\n",
       "1000        0\n",
       "2100      174\n",
       "2200      263\n",
       "3000        0\n",
       "4102      384\n",
       "4103      400\n",
       "4107      423\n",
       "4110      433\n",
       "4111      351\n",
       "4116      363\n",
       "4117      416\n",
       "4118      417\n",
       "4119      408\n",
       "4201      362\n",
       "4202      430\n",
       "4203      353\n",
       "4204      432\n",
       "4207      239\n",
       "4208      418\n",
       "4213      275\n",
       "4214      427\n",
       "5001      436\n",
       "5002      436\n",
       "5003      436\n",
       "5004      436\n",
       "5005      436\n",
       "5006      436\n",
       "5007      436\n",
       "5008      436\n",
       "5009      436\n",
       "7000      436\n",
       "dtype: int64"
      ]
     },
     "execution_count": 47,
     "metadata": {},
     "output_type": "execute_result"
    }
   ],
   "source": [
    "train_data_ex2.isnull().sum()"
   ]
  },
  {
   "cell_type": "code",
   "execution_count": 99,
   "metadata": {},
   "outputs": [],
   "source": [
    "train_datalist = []\n",
    "for i in SUBLIST:\n",
    "    train_datalist.append(pd.merge(pd.DataFrame({'ex2_'+str(i) : train_data_ex2[str(i)]}),pd.DataFrame({'ex1_'+str(i): train_data_ex1[str(i)]}),left_index= True,right_index=True).dropna())\n",
    "    "
   ]
  },
  {
   "cell_type": "code",
   "execution_count": 60,
   "metadata": {},
   "outputs": [
    {
     "data": {
      "text/plain": [
       "399"
      ]
     },
     "execution_count": 60,
     "metadata": {},
     "output_type": "execute_result"
    }
   ],
   "source": [
    "len(train_data_1000.dropna())"
   ]
  },
  {
   "cell_type": "code",
   "execution_count": 112,
   "metadata": {},
   "outputs": [
    {
     "data": {
      "image/png": "[encoded data removed]",
      "text/plain": [
       "<Figure size 432x288 with 1 Axes>"
      ]
     },
     "metadata": {
      "needs_background": "light"
     },
     "output_type": "display_data"
    },
    {
     "data": {
      "image/png": "[encoded data removed]",
      "text/plain": [
       "<Figure size 432x288 with 1 Axes>"
      ]
     },
     "metadata": {
      "needs_background": "light"
     },
     "output_type": "display_data"
    },
    {
     "data": {
      "image/png": "[encoded data removed]",
      "text/plain": [
       "<Figure size 432x288 with 1 Axes>"
      ]
     },
     "metadata": {
      "needs_background": "light"
     },
     "output_type": "display_data"
    },
    {
     "data": {
      "image/png": "[encoded data removed]",
      "text/plain": [
       "<Figure size 432x288 with 1 Axes>"
      ]
     },
     "metadata": {
      "needs_background": "light"
     },
     "output_type": "display_data"
    },
    {
     "data": {
      "image/png": "[encoded data removed]",
      "text/plain": [
       "<Figure size 432x288 with 1 Axes>"
      ]
     },
     "metadata": {
      "needs_background": "light"
     },
     "output_type": "display_data"
    },
    {
     "data": {
      "image/png": "[encoded data removed]",
      "text/plain": [
       "<Figure size 432x288 with 1 Axes>"
      ]
     },
     "metadata": {
      "needs_background": "light"
     },
     "output_type": "display_data"
    },
    {
     "data": {
      "image/png": "[encoded data removed]",
      "text/plain": [
       "<Figure size 432x288 with 1 Axes>"
      ]
     },
     "metadata": {
      "needs_background": "light"
     },
     "output_type": "display_data"
    },
    {
     "data": {
      "image/png": "[encoded data removed]",
      "text/plain": [
       "<Figure size 432x288 with 1 Axes>"
      ]
     },
     "metadata": {
      "needs_background": "light"
     },
     "output_type": "display_data"
    },
    {
     "data": {
      "image/png": "[encoded data removed]",
      "text/plain": [
       "<Figure size 432x288 with 1 Axes>"
      ]
     },
     "metadata": {
      "needs_background": "light"
     },
     "output_type": "display_data"
    },
    {
     "data": {
      "image/png": "[encoded data removed]",
      "text/plain": [
       "<Figure size 432x288 with 1 Axes>"
      ]
     },
     "metadata": {
      "needs_background": "light"
     },
     "output_type": "display_data"
    },
    {
     "data": {
      "image/png": "[encoded data removed]",
      "text/plain": [
       "<Figure size 432x288 with 1 Axes>"
      ]
     },
     "metadata": {
      "needs_background": "light"
     },
     "output_type": "display_data"
    },
    {
     "data": {
      "image/png": "[encoded data removed]",
      "text/plain": [
       "<Figure size 432x288 with 1 Axes>"
      ]
     },
     "metadata": {
      "needs_background": "light"
     },
     "output_type": "display_data"
    },
    {
     "data": {
      "image/png": "[encoded data removed]",
      "text/plain": [
       "<Figure size 432x288 with 1 Axes>"
      ]
     },
     "metadata": {
      "needs_background": "light"
     },
     "output_type": "display_data"
    },
    {
     "data": {
      "image/png": "[encoded data removed]",
      "text/plain": [
       "<Figure size 432x288 with 1 Axes>"
      ]
     },
     "metadata": {
      "needs_background": "light"
     },
     "output_type": "display_data"
    },
    {
     "data": {
      "image/png": "[encoded data removed]",
      "text/plain": [
       "<Figure size 432x288 with 1 Axes>"
      ]
     },
     "metadata": {
      "needs_background": "light"
     },
     "output_type": "display_data"
    },
    {
     "data": {
      "image/png": "[encoded data removed]",
      "text/plain": [
       "<Figure size 432x288 with 1 Axes>"
      ]
     },
     "metadata": {
      "needs_background": "light"
     },
     "output_type": "display_data"
    },
    {
     "data": {
      "image/png": "[encoded data removed]",
      "text/plain": [
       "<Figure size 432x288 with 1 Axes>"
      ]
     },
     "metadata": {
      "needs_background": "light"
     },
     "output_type": "display_data"
    },
    {
     "data": {
      "image/png": "[encoded data removed]",
      "text/plain": [
       "<Figure size 432x288 with 1 Axes>"
      ]
     },
     "metadata": {
      "needs_background": "light"
     },
     "output_type": "display_data"
    },
    {
     "data": {
      "image/png": "[encoded data removed]",
      "text/plain": [
       "<Figure size 432x288 with 1 Axes>"
      ]
     },
     "metadata": {
      "needs_background": "light"
     },
     "output_type": "display_data"
    },
    {
     "data": {
      "image/png": "[encoded data removed]",
      "text/plain": [
       "<Figure size 432x288 with 1 Axes>"
      ]
     },
     "metadata": {
      "needs_background": "light"
     },
     "output_type": "display_data"
    },
    {
     "data": {
      "image/png": "[encoded data removed]",
      "text/plain": [
       "<Figure size 432x288 with 1 Axes>"
      ]
     },
     "metadata": {
      "needs_background": "light"
     },
     "output_type": "display_data"
    },
    {
     "data": {
      "image/png": "[encoded data removed]",
      "text/plain": [
       "<Figure size 432x288 with 1 Axes>"
      ]
     },
     "metadata": {
      "needs_background": "light"
     },
     "output_type": "display_data"
    },
    {
     "data": {
      "image/png": "[encoded data removed]",
      "text/plain": [
       "<Figure size 432x288 with 1 Axes>"
      ]
     },
     "metadata": {
      "needs_background": "light"
     },
     "output_type": "display_data"
    },
    {
     "data": {
      "image/png": "[encoded data removed]",
      "text/plain": [
       "<Figure size 432x288 with 1 Axes>"
      ]
     },
     "metadata": {
      "needs_background": "light"
     },
     "output_type": "display_data"
    },
    {
     "data": {
      "image/png": "[encoded data removed]",
      "text/plain": [
       "<Figure size 432x288 with 1 Axes>"
      ]
     },
     "metadata": {
      "needs_background": "light"
     },
     "output_type": "display_data"
    },
    {
     "data": {
      "image/png": "[encoded data removed]",
      "text/plain": [
       "<Figure size 432x288 with 1 Axes>"
      ]
     },
     "metadata": {
      "needs_background": "light"
     },
     "output_type": "display_data"
    },
    {
     "data": {
      "image/png": "[encoded data removed]",
      "text/plain": [
       "<Figure size 432x288 with 1 Axes>"
      ]
     },
     "metadata": {
      "needs_background": "light"
     },
     "output_type": "display_data"
    },
    {
     "data": {
      "image/png": "[encoded data removed]",
      "text/plain": [
       "<Figure size 432x288 with 1 Axes>"
      ]
     },
     "metadata": {
      "needs_background": "light"
     },
     "output_type": "display_data"
    },
    {
     "data": {
      "image/png": "[encoded data removed]",
      "text/plain": [
       "<Figure size 432x288 with 1 Axes>"
      ]
     },
     "metadata": {
      "needs_background": "light"
     },
     "output_type": "display_data"
    },
    {
     "data": {
      "image/png": "[encoded data removed]",
      "text/plain": [
       "<Figure size 432x288 with 1 Axes>"
      ]
     },
     "metadata": {
      "needs_background": "light"
     },
     "output_type": "display_data"
    },
    {
     "data": {
      "image/png": "[encoded data removed]",
      "text/plain": [
       "<Figure size 432x288 with 1 Axes>"
      ]
     },
     "metadata": {
      "needs_background": "light"
     },
     "output_type": "display_data"
    }
   ],
   "source": [
    "for i in range(len(SUBLIST)):\n",
    "    plt.plot(train_datalist[i].iloc[:,0],train_datalist[i].iloc[:,1],'o')\n",
    "    plt.xlabel(str(SUBLIST[i])+ \"s plot\")\n",
    "    plt.show()"
   ]
  },
  {
   "cell_type": "markdown",
   "metadata": {},
   "source": [
    "# 반드시 이상치 제거를 하고 넘어가야 하는데... 잘 모르겠다."
   ]
  },
  {
   "cell_type": "code",
   "execution_count": 82,
   "metadata": {
    "scrolled": true
   },
   "outputs": [
    {
     "data": {
      "text/plain": [
       "RandomForestRegressor(bootstrap=True, criterion='mse', max_depth=1,\n",
       "           max_features='auto', max_leaf_nodes=None,\n",
       "           min_impurity_decrease=0.0, min_impurity_split=None,\n",
       "           min_samples_leaf=1, min_samples_split=2,\n",
       "           min_weight_fraction_leaf=0.0, n_estimators=200, n_jobs=None,\n",
       "           oob_score=False, random_state=0, verbose=0, warm_start=False)"
      ]
     },
     "execution_count": 82,
     "metadata": {},
     "output_type": "execute_result"
    }
   ],
   "source": [
    "regr = RandomForestRegressor(max_depth=1, random_state=0, n_estimators=200)\n",
    "regr.fit(np.array(train_data_1000.dropna()['ex2_1000']).reshape(-1, 1), np.array(train_data_1000.dropna()['ex1_1000']))"
   ]
  },
  {
   "cell_type": "code",
   "execution_count": 117,
   "metadata": {},
   "outputs": [
    {
     "data": {
      "text/plain": [
       "array([85.67536601])"
      ]
     },
     "execution_count": 117,
     "metadata": {},
     "output_type": "execute_result"
    }
   ],
   "source": [
    "regr.predict(np.array(71).reshape(-1,1))"
   ]
  },
  {
   "cell_type": "code",
   "execution_count": 116,
   "metadata": {
    "scrolled": true
   },
   "outputs": [
    {
     "data": {
      "text/html": [
       "<div>\n",
       "<style scoped>\n",
       "    .dataframe tbody tr th:only-of-type {\n",
       "        vertical-align: middle;\n",
       "    }\n",
       "\n",
       "    .dataframe tbody tr th {\n",
       "        vertical-align: top;\n",
       "    }\n",
       "\n",
       "    .dataframe thead th {\n",
       "        text-align: right;\n",
       "    }\n",
       "</style>\n",
       "<table border=\"1\" class=\"dataframe\">\n",
       "  <thead>\n",
       "    <tr style=\"text-align: right;\">\n",
       "      <th></th>\n",
       "      <th>ex2_1000</th>\n",
       "      <th>ex1_1000</th>\n",
       "    </tr>\n",
       "  </thead>\n",
       "  <tbody>\n",
       "    <tr>\n",
       "      <th>451</th>\n",
       "      <td>83.5</td>\n",
       "      <td>91</td>\n",
       "    </tr>\n",
       "    <tr>\n",
       "      <th>119</th>\n",
       "      <td>71</td>\n",
       "      <td>75</td>\n",
       "    </tr>\n",
       "    <tr>\n",
       "      <th>7</th>\n",
       "      <td>92</td>\n",
       "      <td>88.5</td>\n",
       "    </tr>\n",
       "    <tr>\n",
       "      <th>92</th>\n",
       "      <td>40</td>\n",
       "      <td>49.25</td>\n",
       "    </tr>\n",
       "    <tr>\n",
       "      <th>35</th>\n",
       "      <td>81</td>\n",
       "      <td>73.75</td>\n",
       "    </tr>\n",
       "  </tbody>\n",
       "</table>\n",
       "</div>"
      ],
      "text/plain": [
       "    ex2_1000 ex1_1000\n",
       "451     83.5       91\n",
       "119       71       75\n",
       "7         92     88.5\n",
       "92        40    49.25\n",
       "35        81    73.75"
      ]
     },
     "execution_count": 116,
     "metadata": {},
     "output_type": "execute_result"
    }
   ],
   "source": [
    "train_datalist[0].head()"
   ]
  },
  {
   "cell_type": "markdown",
   "metadata": {},
   "source": [
    "# 이상치를 제거하지 않은 경우, 별로 안맞음. 정보가 이것밖에 없는데 어떡할까?"
   ]
  },
  {
   "cell_type": "markdown",
   "metadata": {},
   "source": [
    "# 이상치를 제거하고 실행할 것"
   ]
  },
  {
   "cell_type": "code",
   "execution_count": null,
   "metadata": {},
   "outputs": [],
   "source": [
    "# 예측기의 list를 만들어 두는 페이지\n",
    "forestlist = []\n",
    "j=0\n",
    "for i in range(len(SUBLIST)):\n",
    "    forestlist.append(RandomForestRegressor(max_depth=2, random_state=0, n_estimators=500).fit(train_datalist[i].iloc[:,0],train_datalist[i].iloc[:,1]))"
   ]
  },
  {
   "cell_type": "code",
   "execution_count": 28,
   "metadata": {},
   "outputs": [
    {
     "data": {
      "text/plain": [
       "145"
      ]
     },
     "execution_count": 28,
     "metadata": {},
     "output_type": "execute_result"
    }
   ],
   "source": [
    "len(test_number)"
   ]
  },
  {
   "cell_type": "code",
   "execution_count": 166,
   "metadata": {},
   "outputs": [
    {
     "data": {
      "text/plain": [
       "60.5"
      ]
     },
     "execution_count": 166,
     "metadata": {},
     "output_type": "execute_result"
    }
   ],
   "source": [
    "Sumind[EX1_represent_Ac_std.columns[i]==Sumind['SUB_CD']]['AC_STD'].iloc[0]"
   ]
  },
  {
   "cell_type": "markdown",
   "metadata": {},
   "source": [
    "관계식 도출 후에, 교집합의 수능과의 비교시에 각 집단을 몇퍼센트씩 섞었는가의 경우에 따라 가장 오류가 적어지는 비율이 있을 것이다.\n",
    "\n",
    "예) 10%씩 끊어서 70:30 , 60: 40, 50:50, 40:60, 30:70 으로 변화한다.\n",
    "\n",
    "가장 작은 오류를 보이는 곳에서 1%씩 변화하여 가장 오류가 작은 비율로 수능 데이터의 비율을 추정한다.\n",
    "\n",
    "-> 이 비율에서 관계식의 변화를 추정한다."
   ]
  },
  {
   "cell_type": "code",
   "execution_count": null,
   "metadata": {},
   "outputs": [],
   "source": []
  },
  {
   "cell_type": "code",
   "execution_count": 83,
   "metadata": {},
   "outputs": [
    {
     "data": {
      "text/plain": [
       "32"
      ]
     },
     "execution_count": 83,
     "metadata": {},
     "output_type": "execute_result"
    }
   ],
   "source": [
    "len(EX1_represent_Ac_std.columns)"
   ]
  },
  {
   "cell_type": "code",
   "execution_count": 182,
   "metadata": {
    "scrolled": true
   },
   "outputs": [
    {
     "ename": "IndexError",
     "evalue": "cannot do a non-empty take from an empty axes.",
     "output_type": "error",
     "traceback": [
      "\u001b[1;31m---------------------------------------------------------------------------\u001b[0m",
      "\u001b[1;31mIndexError\u001b[0m                                Traceback (most recent call last)",
      "\u001b[1;32m<ipython-input-182-5a964d388a40>\u001b[0m in \u001b[0;36m<module>\u001b[1;34m\u001b[0m\n\u001b[0;32m      7\u001b[0m \u001b[1;31m#비학원생의 데이터집합을 만든다\u001b[0m\u001b[1;33m\u001b[0m\u001b[1;33m\u001b[0m\u001b[1;33m\u001b[0m\u001b[0m\n\u001b[0;32m      8\u001b[0m \u001b[1;33m\u001b[0m\u001b[0m\n\u001b[1;32m----> 9\u001b[1;33m \u001b[0mdataDF_0\u001b[0m \u001b[1;33m=\u001b[0m \u001b[0mConcept_Rating\u001b[0m\u001b[1;33m(\u001b[0m\u001b[0mdataDF_0\u001b[0m\u001b[1;33m)\u001b[0m\u001b[1;33m\u001b[0m\u001b[1;33m\u001b[0m\u001b[0m\n\u001b[0m\u001b[0;32m     10\u001b[0m \"\"\"\n\u001b[0;32m     11\u001b[0m \u001b[1;31m#비학원생끼리 다시 점수를 기반으로 레이팅한다. ->함수화\u001b[0m\u001b[1;33m\u001b[0m\u001b[1;33m\u001b[0m\u001b[1;33m\u001b[0m\u001b[0m\n",
      "\u001b[1;32m<ipython-input-133-62ec822053e0>\u001b[0m in \u001b[0;36mConcept_Rating\u001b[1;34m(data, col_name)\u001b[0m\n\u001b[0;32m      1\u001b[0m \u001b[1;32mdef\u001b[0m \u001b[0mConcept_Rating\u001b[0m\u001b[1;33m(\u001b[0m\u001b[0mdata\u001b[0m\u001b[1;33m,\u001b[0m\u001b[0mcol_name\u001b[0m\u001b[1;33m=\u001b[0m\u001b[1;34m'PURE_RATING'\u001b[0m\u001b[1;33m)\u001b[0m\u001b[1;33m:\u001b[0m\u001b[1;33m\u001b[0m\u001b[1;33m\u001b[0m\u001b[0m\n\u001b[1;32m----> 2\u001b[1;33m     SOCRE_percentile_list = [np.percentile(data['SCORE'],96),\n\u001b[0m\u001b[0;32m      3\u001b[0m                          \u001b[0mnp\u001b[0m\u001b[1;33m.\u001b[0m\u001b[0mpercentile\u001b[0m\u001b[1;33m(\u001b[0m\u001b[0mdata\u001b[0m\u001b[1;33m[\u001b[0m\u001b[1;34m'SCORE'\u001b[0m\u001b[1;33m]\u001b[0m\u001b[1;33m,\u001b[0m\u001b[1;36m89\u001b[0m\u001b[1;33m)\u001b[0m\u001b[1;33m,\u001b[0m\u001b[1;33m\u001b[0m\u001b[1;33m\u001b[0m\u001b[0m\n\u001b[0;32m      4\u001b[0m                          \u001b[0mnp\u001b[0m\u001b[1;33m.\u001b[0m\u001b[0mpercentile\u001b[0m\u001b[1;33m(\u001b[0m\u001b[0mdata\u001b[0m\u001b[1;33m[\u001b[0m\u001b[1;34m'SCORE'\u001b[0m\u001b[1;33m]\u001b[0m\u001b[1;33m,\u001b[0m\u001b[1;36m77\u001b[0m\u001b[1;33m)\u001b[0m\u001b[1;33m,\u001b[0m\u001b[1;33m\u001b[0m\u001b[1;33m\u001b[0m\u001b[0m\n\u001b[0;32m      5\u001b[0m                          \u001b[0mnp\u001b[0m\u001b[1;33m.\u001b[0m\u001b[0mpercentile\u001b[0m\u001b[1;33m(\u001b[0m\u001b[0mdata\u001b[0m\u001b[1;33m[\u001b[0m\u001b[1;34m'SCORE'\u001b[0m\u001b[1;33m]\u001b[0m\u001b[1;33m,\u001b[0m\u001b[1;36m60\u001b[0m\u001b[1;33m)\u001b[0m\u001b[1;33m,\u001b[0m\u001b[1;33m\u001b[0m\u001b[1;33m\u001b[0m\u001b[0m\n",
      "\u001b[1;32m~\\Anaconda3\\lib\\site-packages\\numpy\\lib\\function_base.py\u001b[0m in \u001b[0;36mpercentile\u001b[1;34m(a, q, axis, out, overwrite_input, interpolation, keepdims)\u001b[0m\n\u001b[0;32m   3705\u001b[0m         \u001b[1;32mraise\u001b[0m \u001b[0mValueError\u001b[0m\u001b[1;33m(\u001b[0m\u001b[1;34m\"Percentiles must be in the range [0, 100]\"\u001b[0m\u001b[1;33m)\u001b[0m\u001b[1;33m\u001b[0m\u001b[1;33m\u001b[0m\u001b[0m\n\u001b[0;32m   3706\u001b[0m     return _quantile_unchecked(\n\u001b[1;32m-> 3707\u001b[1;33m         a, q, axis, out, overwrite_input, interpolation, keepdims)\n\u001b[0m\u001b[0;32m   3708\u001b[0m \u001b[1;33m\u001b[0m\u001b[0m\n\u001b[0;32m   3709\u001b[0m \u001b[1;33m\u001b[0m\u001b[0m\n",
      "\u001b[1;32m~\\Anaconda3\\lib\\site-packages\\numpy\\lib\\function_base.py\u001b[0m in \u001b[0;36m_quantile_unchecked\u001b[1;34m(a, q, axis, out, overwrite_input, interpolation, keepdims)\u001b[0m\n\u001b[0;32m   3824\u001b[0m     r, k = _ureduce(a, func=_quantile_ureduce_func, q=q, axis=axis, out=out,\n\u001b[0;32m   3825\u001b[0m                     \u001b[0moverwrite_input\u001b[0m\u001b[1;33m=\u001b[0m\u001b[0moverwrite_input\u001b[0m\u001b[1;33m,\u001b[0m\u001b[1;33m\u001b[0m\u001b[1;33m\u001b[0m\u001b[0m\n\u001b[1;32m-> 3826\u001b[1;33m                     interpolation=interpolation)\n\u001b[0m\u001b[0;32m   3827\u001b[0m     \u001b[1;32mif\u001b[0m \u001b[0mkeepdims\u001b[0m\u001b[1;33m:\u001b[0m\u001b[1;33m\u001b[0m\u001b[1;33m\u001b[0m\u001b[0m\n\u001b[0;32m   3828\u001b[0m         \u001b[1;32mreturn\u001b[0m \u001b[0mr\u001b[0m\u001b[1;33m.\u001b[0m\u001b[0mreshape\u001b[0m\u001b[1;33m(\u001b[0m\u001b[0mq\u001b[0m\u001b[1;33m.\u001b[0m\u001b[0mshape\u001b[0m \u001b[1;33m+\u001b[0m \u001b[0mk\u001b[0m\u001b[1;33m)\u001b[0m\u001b[1;33m\u001b[0m\u001b[1;33m\u001b[0m\u001b[0m\n",
      "\u001b[1;32m~\\Anaconda3\\lib\\site-packages\\numpy\\lib\\function_base.py\u001b[0m in \u001b[0;36m_ureduce\u001b[1;34m(a, func, **kwargs)\u001b[0m\n\u001b[0;32m   3403\u001b[0m         \u001b[0mkeepdim\u001b[0m \u001b[1;33m=\u001b[0m \u001b[1;33m(\u001b[0m\u001b[1;36m1\u001b[0m\u001b[1;33m,\u001b[0m\u001b[1;33m)\u001b[0m \u001b[1;33m*\u001b[0m \u001b[0ma\u001b[0m\u001b[1;33m.\u001b[0m\u001b[0mndim\u001b[0m\u001b[1;33m\u001b[0m\u001b[1;33m\u001b[0m\u001b[0m\n\u001b[0;32m   3404\u001b[0m \u001b[1;33m\u001b[0m\u001b[0m\n\u001b[1;32m-> 3405\u001b[1;33m     \u001b[0mr\u001b[0m \u001b[1;33m=\u001b[0m \u001b[0mfunc\u001b[0m\u001b[1;33m(\u001b[0m\u001b[0ma\u001b[0m\u001b[1;33m,\u001b[0m \u001b[1;33m**\u001b[0m\u001b[0mkwargs\u001b[0m\u001b[1;33m)\u001b[0m\u001b[1;33m\u001b[0m\u001b[1;33m\u001b[0m\u001b[0m\n\u001b[0m\u001b[0;32m   3406\u001b[0m     \u001b[1;32mreturn\u001b[0m \u001b[0mr\u001b[0m\u001b[1;33m,\u001b[0m \u001b[0mkeepdim\u001b[0m\u001b[1;33m\u001b[0m\u001b[1;33m\u001b[0m\u001b[0m\n\u001b[0;32m   3407\u001b[0m \u001b[1;33m\u001b[0m\u001b[0m\n",
      "\u001b[1;32m~\\Anaconda3\\lib\\site-packages\\numpy\\lib\\function_base.py\u001b[0m in \u001b[0;36m_quantile_ureduce_func\u001b[1;34m(a, q, axis, out, overwrite_input, interpolation, keepdims)\u001b[0m\n\u001b[0;32m   3939\u001b[0m             \u001b[0mn\u001b[0m \u001b[1;33m=\u001b[0m \u001b[0mnp\u001b[0m\u001b[1;33m.\u001b[0m\u001b[0misnan\u001b[0m\u001b[1;33m(\u001b[0m\u001b[0map\u001b[0m\u001b[1;33m[\u001b[0m\u001b[1;33m-\u001b[0m\u001b[1;36m1\u001b[0m\u001b[1;33m:\u001b[0m\u001b[1;33m,\u001b[0m \u001b[1;33m...\u001b[0m\u001b[1;33m]\u001b[0m\u001b[1;33m)\u001b[0m\u001b[1;33m\u001b[0m\u001b[1;33m\u001b[0m\u001b[0m\n\u001b[0;32m   3940\u001b[0m \u001b[1;33m\u001b[0m\u001b[0m\n\u001b[1;32m-> 3941\u001b[1;33m         \u001b[0mx1\u001b[0m \u001b[1;33m=\u001b[0m \u001b[0mtake\u001b[0m\u001b[1;33m(\u001b[0m\u001b[0map\u001b[0m\u001b[1;33m,\u001b[0m \u001b[0mindices_below\u001b[0m\u001b[1;33m,\u001b[0m \u001b[0maxis\u001b[0m\u001b[1;33m=\u001b[0m\u001b[0maxis\u001b[0m\u001b[1;33m)\u001b[0m \u001b[1;33m*\u001b[0m \u001b[0mweights_below\u001b[0m\u001b[1;33m\u001b[0m\u001b[1;33m\u001b[0m\u001b[0m\n\u001b[0m\u001b[0;32m   3942\u001b[0m         \u001b[0mx2\u001b[0m \u001b[1;33m=\u001b[0m \u001b[0mtake\u001b[0m\u001b[1;33m(\u001b[0m\u001b[0map\u001b[0m\u001b[1;33m,\u001b[0m \u001b[0mindices_above\u001b[0m\u001b[1;33m,\u001b[0m \u001b[0maxis\u001b[0m\u001b[1;33m=\u001b[0m\u001b[0maxis\u001b[0m\u001b[1;33m)\u001b[0m \u001b[1;33m*\u001b[0m \u001b[0mweights_above\u001b[0m\u001b[1;33m\u001b[0m\u001b[1;33m\u001b[0m\u001b[0m\n\u001b[0;32m   3943\u001b[0m \u001b[1;33m\u001b[0m\u001b[0m\n",
      "\u001b[1;32m~\\Anaconda3\\lib\\site-packages\\numpy\\core\\fromnumeric.py\u001b[0m in \u001b[0;36mtake\u001b[1;34m(a, indices, axis, out, mode)\u001b[0m\n\u001b[0;32m    187\u001b[0m            [5, 7]])\n\u001b[0;32m    188\u001b[0m     \"\"\"\n\u001b[1;32m--> 189\u001b[1;33m     \u001b[1;32mreturn\u001b[0m \u001b[0m_wrapfunc\u001b[0m\u001b[1;33m(\u001b[0m\u001b[0ma\u001b[0m\u001b[1;33m,\u001b[0m \u001b[1;34m'take'\u001b[0m\u001b[1;33m,\u001b[0m \u001b[0mindices\u001b[0m\u001b[1;33m,\u001b[0m \u001b[0maxis\u001b[0m\u001b[1;33m=\u001b[0m\u001b[0maxis\u001b[0m\u001b[1;33m,\u001b[0m \u001b[0mout\u001b[0m\u001b[1;33m=\u001b[0m\u001b[0mout\u001b[0m\u001b[1;33m,\u001b[0m \u001b[0mmode\u001b[0m\u001b[1;33m=\u001b[0m\u001b[0mmode\u001b[0m\u001b[1;33m)\u001b[0m\u001b[1;33m\u001b[0m\u001b[1;33m\u001b[0m\u001b[0m\n\u001b[0m\u001b[0;32m    190\u001b[0m \u001b[1;33m\u001b[0m\u001b[0m\n\u001b[0;32m    191\u001b[0m \u001b[1;33m\u001b[0m\u001b[0m\n",
      "\u001b[1;32m~\\Anaconda3\\lib\\site-packages\\numpy\\core\\fromnumeric.py\u001b[0m in \u001b[0;36m_wrapfunc\u001b[1;34m(obj, method, *args, **kwds)\u001b[0m\n\u001b[0;32m     54\u001b[0m \u001b[1;32mdef\u001b[0m \u001b[0m_wrapfunc\u001b[0m\u001b[1;33m(\u001b[0m\u001b[0mobj\u001b[0m\u001b[1;33m,\u001b[0m \u001b[0mmethod\u001b[0m\u001b[1;33m,\u001b[0m \u001b[1;33m*\u001b[0m\u001b[0margs\u001b[0m\u001b[1;33m,\u001b[0m \u001b[1;33m**\u001b[0m\u001b[0mkwds\u001b[0m\u001b[1;33m)\u001b[0m\u001b[1;33m:\u001b[0m\u001b[1;33m\u001b[0m\u001b[1;33m\u001b[0m\u001b[0m\n\u001b[0;32m     55\u001b[0m     \u001b[1;32mtry\u001b[0m\u001b[1;33m:\u001b[0m\u001b[1;33m\u001b[0m\u001b[1;33m\u001b[0m\u001b[0m\n\u001b[1;32m---> 56\u001b[1;33m         \u001b[1;32mreturn\u001b[0m \u001b[0mgetattr\u001b[0m\u001b[1;33m(\u001b[0m\u001b[0mobj\u001b[0m\u001b[1;33m,\u001b[0m \u001b[0mmethod\u001b[0m\u001b[1;33m)\u001b[0m\u001b[1;33m(\u001b[0m\u001b[1;33m*\u001b[0m\u001b[0margs\u001b[0m\u001b[1;33m,\u001b[0m \u001b[1;33m**\u001b[0m\u001b[0mkwds\u001b[0m\u001b[1;33m)\u001b[0m\u001b[1;33m\u001b[0m\u001b[1;33m\u001b[0m\u001b[0m\n\u001b[0m\u001b[0;32m     57\u001b[0m \u001b[1;33m\u001b[0m\u001b[0m\n\u001b[0;32m     58\u001b[0m     \u001b[1;31m# An AttributeError occurs if the object does not have\u001b[0m\u001b[1;33m\u001b[0m\u001b[1;33m\u001b[0m\u001b[1;33m\u001b[0m\u001b[0m\n",
      "\u001b[1;31mIndexError\u001b[0m: cannot do a non-empty take from an empty axes."
     ]
    }
   ],
   "source": [
    "\"\"\"\n",
    "dataDF= small_data[small_data['SUB_CD']==1000]\n",
    "#시험 코드 대로 데이터프레임을 하나 만든다.\n",
    "\n",
    "dataDF_0 = dataDF[dataDF['CHEONGSOL_YN']==0]\n",
    "dataDF_1 = dataDF[dataDF['CHEONGSOL_YN']==1]\n",
    "#비학원생의 데이터집합을 만든다\n",
    "\n",
    "dataDF_0 = Concept_Rating(dataDF_0)\n",
    "\n",
    "#비학원생끼리 다시 점수를 기반으로 레이팅한다. ->함수화\n",
    "N_rate= 0.95 #비학원생이 95%면 좋겠다는 뜻\n",
    "rate_len = int(np.round(len(dataDF_0)*(1-N_rate)/(N_rate)))\n",
    "\n",
    "dataDF_X= pd.concat([dataDF_0,dataDF_1.iloc[rd.sample(range(len(dataDF_1)),rate_len),]])\n",
    "\n",
    "dataDF_X = Concept_Rating(dataDF_X,'N95:Y5')\n",
    "\"\"\"\n",
    "\n",
    "\n",
    "Rating_Change_Matrix = np.zeros((9,9))\n",
    "for i in range(1,10):\n",
    "    for j in range(1,10):\n",
    "        Rating_Change_Matrix[i-1][j-1]=round(len(dataDF_X[~(dataDF_X['PURE_RATING'].isnull()) & (dataDF_X['PURE_RATING']==i) & (dataDF_X['N95:Y5']==j)]\n",
    "                                          )/len(dataDF_X[~(dataDF_X['PURE_RATING'].isnull()) & (dataDF_X['PURE_RATING']==i)])\n",
    "                                      \n",
    "\n",
    "        \n",
    "#비율에 따라 몇프로가 이동했는지 계산한다.\n",
    "#예시 ) 비학생 95% + 학원생 5% : nameming 'N95:Y5 RATING'\n",
    "#1. 학원생을 추가한다\n",
    "#2. 레이팅한다.\n",
    "#3. 그것을 PURE_RATING이 NULL이 아닌것만 골라낸다.\n",
    "#4. 1)원래 1이 몇이나 남아있는지 센다. 2) 원래 2는 몇이나 2가 됐는지 센다..\n"
   ]
  },
  {
   "cell_type": "code",
   "execution_count": 173,
   "metadata": {},
   "outputs": [
    {
     "name": "stdout",
     "output_type": "stream",
     "text": [
      "[[1.   0.   0.   0.   0.   0.   0.   0.   0.  ]\n",
      " [0.   1.   0.   0.   0.   0.   0.   0.   0.  ]\n",
      " [0.   0.   1.   0.   0.   0.   0.   0.   0.  ]\n",
      " [0.   0.   0.   1.   0.   0.   0.   0.   0.  ]\n",
      " [0.   0.   0.   0.   1.   0.   0.   0.   0.  ]\n",
      " [0.   0.   0.   0.   0.   0.93 0.07 0.   0.  ]\n",
      " [0.   0.   0.   0.   0.   0.   0.94 0.06 0.  ]\n",
      " [0.   0.   0.   0.   0.   0.   0.   1.   0.  ]\n",
      " [0.   0.   0.   0.   0.   0.   0.   0.   1.  ]]\n"
     ]
    }
   ],
   "source": [
    "for i in range(1,10):\n",
    "    for j in range(1,10):\n",
    "        Rating_Change_Matrix[i-1][j-1]=round(Rating_Change_Matrix[i-1][j-1],2)\n",
    "print(Rating_Change_Matrix)"
   ]
  },
  {
   "cell_type": "code",
   "execution_count": 154,
   "metadata": {},
   "outputs": [
    {
     "data": {
      "text/plain": [
       "1446"
      ]
     },
     "execution_count": 154,
     "metadata": {},
     "output_type": "execute_result"
    }
   ],
   "source": [
    "len(dataDF_X[~(dataDF_X['PURE_RATING'].isnull()) & (dataDF_X['PURE_RATING']==6)])"
   ]
  },
  {
   "cell_type": "code",
   "execution_count": 232,
   "metadata": {},
   "outputs": [],
   "source": [
    "def MakeRank_by_rating(data,SUB_CODE):\n",
    "    dataDF= data[data['SUB_CD']==SUB_CODE]\n",
    "    #시험 코드 대로 데이터프레임을 하나 만든다.\n",
    "\n",
    "    dataDF_0 = dataDF[dataDF['CHEONGSOL_YN']==0]\n",
    "    dataDF_1 = dataDF[dataDF['CHEONGSOL_YN']==1]\n",
    "    #비학원생의 데이터집합을 만든다\n",
    "    dataDF_0 = Concept_Rating(dataDF_0)\n",
    "    #비학원생끼리 다시 점수를 기반으로 레이팅한다. ->함수화\n",
    "    \n",
    "    N_rate = 0.7 #최대치\n",
    "    already_sample = rd.sample(range(len(dataDF_1)),int(np.round(len(dataDF_0)*(1-N_rate)/(N_rate))))\n",
    "    \n",
    "    N_rate = 0.95 #비학원생이 95%면 좋겠다는 뜻\n",
    "    rate_len1 = int(np.round(len(dataDF_0)*(1-N_rate)/(N_rate)))\n",
    "    Compare = 'N'+str(int(N_rate*100))+':Y'+str(100-int(N_rate*100))\n",
    "    dataDF_X= pd.concat([dataDF_0,dataDF_1.iloc[already_sample[:rate_len1]]])\n",
    "    dataDF_X = Concept_Rating(dataDF_X,Compare)\n",
    "    \n",
    "    \n",
    "    N_rate = 0.9 #비학원생이 90%면 좋겠다는 뜻\n",
    "    rate_len2 = int(np.round(len(dataDF_0)*(1-N_rate)/(N_rate)))-rate_len1\n",
    "    Compare = 'N'+str(int(N_rate*100))+':Y'+str(100-int(N_rate*100))\n",
    "    dataDF_X= pd.concat([dataDF_X,dataDF_1.iloc[already_sample[rate_len1:rate_len2]]])#여기서 이미 추가된 애들을 제외한다.\n",
    "    dataDF_X = Concept_Rating(dataDF_X,Compare)\n",
    "    \n",
    "    N_rate = 0.85 \n",
    "    rate_len3 = int(np.round(len(dataDF_0)*(1-N_rate)/(N_rate)))-rate_len2\n",
    "    Compare = 'N'+str(int(N_rate*100))+':Y'+str(100-int(N_rate*100))\n",
    "    dataDF_X= pd.concat([dataDF_X,dataDF_1.iloc[already_sample[rate_len2:rate_len3]]])#여기서 이미 추가된 애들을 제외한다.\n",
    "    dataDF_X = Concept_Rating(dataDF_X,Compare)\n",
    "    \n",
    "    N_rate = 0.8 \n",
    "    rate_len4 = int(np.round(len(dataDF_0)*(1-N_rate)/(N_rate)))-rate_len3\n",
    "    Compare = 'N'+str(int(N_rate*100))+':Y'+str(100-int(N_rate*100))\n",
    "    dataDF_X= pd.concat([dataDF_X,dataDF_1.iloc[already_sample[rate_len3:rate_len4]]])#여기서 이미 추가된 애들을 제외한다.\n",
    "    dataDF_X = Concept_Rating(dataDF_X,Compare)\n",
    "    \n",
    "    N_rate = 0.75\n",
    "    rate_len5 = int(np.round(len(dataDF_0)*(1-N_rate)/(N_rate)))-rate_len4\n",
    "    Compare = 'N'+str(int(N_rate*100))+':Y'+str(100-int(N_rate*100))\n",
    "    dataDF_X= pd.concat([dataDF_X,dataDF_1.iloc[already_sample[rate_len4:rate_len5]]])#여기서 이미 추가된 애들을 제외한다.\n",
    "    dataDF_X = Concept_Rating(dataDF_X,Compare)\n",
    "    \n",
    "    N_rate = 0.7 \n",
    "    rate_len6 = int(np.round(len(dataDF_0)*(1-N_rate)/(N_rate)))-rate_len5\n",
    "    Compare = 'N'+str(int(N_rate*100))+':Y'+str(100-int(N_rate*100))\n",
    "    dataDF_X= pd.concat([dataDF_X,dataDF_1.iloc[already_sample[rate_len5:rate_len6]]])#여기서 이미 추가된 애들을 제외한다.\n",
    "    dataDF_X = Concept_Rating(dataDF_X,Compare)\n",
    "    \n",
    "    return dataDF_X\n",
    "\n",
    "def MakeTSMatrix(dataDF_X ,Compare ,colname='PURE_RATING'):\n",
    "    Rating_Change_Matrix = np.zeros((9,9))\n",
    "    for i in range(1,10):\n",
    "        for j in range(1,10):\n",
    "            Rating_Change_Matrix[i-1][j-1]=round(len(dataDF_X[(dataDF_X['CHEONGSOL_YN']==0) & (dataDF_X[colname]==i) & (dataDF_X[Compare]==j)]\n",
    "                                              )/len(dataDF_X[(dataDF_X['CHEONGSOL_YN']==0) & (dataDF_X[colname]==i)]),2)\n",
    "    \n",
    "    return Rating_Change_Matrix"
   ]
  },
  {
   "cell_type": "code",
   "execution_count": 96,
   "metadata": {
    "scrolled": true
   },
   "outputs": [
    {
     "data": {
      "text/html": [
       "<div>\n",
       "<style scoped>\n",
       "    .dataframe tbody tr th:only-of-type {\n",
       "        vertical-align: middle;\n",
       "    }\n",
       "\n",
       "    .dataframe tbody tr th {\n",
       "        vertical-align: top;\n",
       "    }\n",
       "\n",
       "    .dataframe thead th {\n",
       "        text-align: right;\n",
       "    }\n",
       "</style>\n",
       "<table border=\"1\" class=\"dataframe\">\n",
       "  <thead>\n",
       "    <tr style=\"text-align: right;\">\n",
       "      <th></th>\n",
       "      <th>EXAMTYPE</th>\n",
       "      <th>MEM_NO</th>\n",
       "      <th>SUB_CD</th>\n",
       "      <th>EXAMNO</th>\n",
       "      <th>SCORE</th>\n",
       "      <th>AC_STD</th>\n",
       "      <th>AC_PCT</th>\n",
       "      <th>RATING</th>\n",
       "      <th>CHEONGSOL_YN</th>\n",
       "    </tr>\n",
       "  </thead>\n",
       "  <tbody>\n",
       "    <tr>\n",
       "      <th>2074493</th>\n",
       "      <td>2</td>\n",
       "      <td>1826646314021</td>\n",
       "      <td>4116</td>\n",
       "      <td>3028</td>\n",
       "      <td>41</td>\n",
       "      <td>51.0</td>\n",
       "      <td>41.0</td>\n",
       "      <td>5</td>\n",
       "      <td>1</td>\n",
       "    </tr>\n",
       "  </tbody>\n",
       "</table>\n",
       "</div>"
      ],
      "text/plain": [
       "         EXAMTYPE         MEM_NO  SUB_CD  EXAMNO  SCORE  AC_STD  AC_PCT  \\\n",
       "2074493         2  1826646314021    4116    3028     41    51.0    41.0   \n",
       "\n",
       "         RATING  CHEONGSOL_YN  \n",
       "2074493       5             1  "
      ]
     },
     "execution_count": 96,
     "metadata": {},
     "output_type": "execute_result"
    }
   ],
   "source": [
    "small_data.iloc[rd.sample(range(len(small_data)),1),]"
   ]
  },
  {
   "cell_type": "code",
   "execution_count": 104,
   "metadata": {},
   "outputs": [
    {
     "data": {
      "text/plain": [
       "0.9499999999999998"
      ]
     },
     "execution_count": 104,
     "metadata": {},
     "output_type": "execute_result"
    }
   ],
   "source": [
    "len(small_data)/(len(small_data)+len(small_data)*(1-N_rate)/(N_rate))"
   ]
  },
  {
   "cell_type": "code",
   "execution_count": 70,
   "metadata": {
    "scrolled": false
   },
   "outputs": [
    {
     "data": {
      "text/plain": [
       "82.0"
      ]
     },
     "execution_count": 70,
     "metadata": {},
     "output_type": "execute_result"
    }
   ],
   "source": [
    "np.percentile(small_data[small_data['SUB_CD']==1000]['SCORE'],)"
   ]
  },
  {
   "cell_type": "code",
   "execution_count": 177,
   "metadata": {},
   "outputs": [
    {
     "name": "stdout",
     "output_type": "stream",
     "text": [
      "N95:Y5\n"
     ]
    }
   ],
   "source": [
    "k_rate = 0.95\n",
    "print('N'+str(int(k_rate*100))+':Y'+str(int(100*(1-k_rate))))"
   ]
  },
  {
   "cell_type": "code",
   "execution_count": 1,
   "metadata": {},
   "outputs": [],
   "source": [
    "def Concept_Rating(data,col_name='PURE_RATING' ,SCORE='SCORE'):\n",
    "    SOCRE_percentile_list = [np.nanpercentile(data[SCORE],96),\n",
    "                         np.nanpercentile(data[SCORE],89),\n",
    "                         np.nanpercentile(data[SCORE],77),\n",
    "                         np.nanpercentile(data[SCORE],60),\n",
    "                         np.nanpercentile(data[SCORE],40),\n",
    "                         np.nanpercentile(data[SCORE],23),\n",
    "                         np.nanpercentile(data[SCORE],11),\n",
    "                         np.nanpercentile(data[SCORE],4),\n",
    "                        ]\n",
    "    data[col_name] = None\n",
    "    data.loc[data[SCORE]>=SOCRE_percentile_list[0],col_name]=1\n",
    "    data.loc[(data[SCORE]<SOCRE_percentile_list[0]) & (data[SCORE]>=SOCRE_percentile_list[1]),col_name]=2\n",
    "    data.loc[(data[SCORE]<SOCRE_percentile_list[1]) & (data[SCORE]>=SOCRE_percentile_list[2]),col_name]=3\n",
    "    data.loc[(data[SCORE]<SOCRE_percentile_list[2]) & (data[SCORE]>=SOCRE_percentile_list[3]),col_name]=4\n",
    "    data.loc[(data[SCORE]<SOCRE_percentile_list[3]) & (data[SCORE]>=SOCRE_percentile_list[4]),col_name]=5\n",
    "    data.loc[(data[SCORE]<SOCRE_percentile_list[4]) & (data[SCORE]>=SOCRE_percentile_list[5]),col_name]=6\n",
    "    data.loc[(data[SCORE]<SOCRE_percentile_list[5]) & (data[SCORE]>=SOCRE_percentile_list[6]),col_name]=7\n",
    "    data.loc[(data[SCORE]<SOCRE_percentile_list[6]) & (data[SCORE]>=SOCRE_percentile_list[7]),col_name]=8\n",
    "    data.loc[data[SCORE]<SOCRE_percentile_list[7],col_name]=9\n",
    "    \n",
    "    return data"
   ]
  },
  {
   "cell_type": "code",
   "execution_count": 216,
   "metadata": {
    "collapsed": true
   },
   "outputs": [
    {
     "name": "stderr",
     "output_type": "stream",
     "text": [
      "C:\\Users\\74857\\Anaconda3\\lib\\site-packages\\ipykernel_launcher.py:11: SettingWithCopyWarning: \n",
      "A value is trying to be set on a copy of a slice from a DataFrame.\n",
      "Try using .loc[row_indexer,col_indexer] = value instead\n",
      "\n",
      "See the caveats in the documentation: http://pandas.pydata.org/pandas-docs/stable/indexing.html#indexing-view-versus-copy\n",
      "  # This is added back by InteractiveShellApp.init_path()\n",
      "C:\\Users\\74857\\Anaconda3\\lib\\site-packages\\ipykernel_launcher.py:17: FutureWarning: Sorting because non-concatenation axis is not aligned. A future version\n",
      "of pandas will change to not sort by default.\n",
      "\n",
      "To accept the future behavior, pass 'sort=False'.\n",
      "\n",
      "To retain the current behavior and silence the warning, pass 'sort=True'.\n",
      "\n",
      "C:\\Users\\74857\\Anaconda3\\lib\\site-packages\\ipykernel_launcher.py:24: FutureWarning: Sorting because non-concatenation axis is not aligned. A future version\n",
      "of pandas will change to not sort by default.\n",
      "\n",
      "To accept the future behavior, pass 'sort=False'.\n",
      "\n",
      "To retain the current behavior and silence the warning, pass 'sort=True'.\n",
      "\n",
      "C:\\Users\\74857\\Anaconda3\\lib\\site-packages\\ipykernel_launcher.py:30: FutureWarning: Sorting because non-concatenation axis is not aligned. A future version\n",
      "of pandas will change to not sort by default.\n",
      "\n",
      "To accept the future behavior, pass 'sort=False'.\n",
      "\n",
      "To retain the current behavior and silence the warning, pass 'sort=True'.\n",
      "\n",
      "C:\\Users\\74857\\Anaconda3\\lib\\site-packages\\ipykernel_launcher.py:36: FutureWarning: Sorting because non-concatenation axis is not aligned. A future version\n",
      "of pandas will change to not sort by default.\n",
      "\n",
      "To accept the future behavior, pass 'sort=False'.\n",
      "\n",
      "To retain the current behavior and silence the warning, pass 'sort=True'.\n",
      "\n",
      "C:\\Users\\74857\\Anaconda3\\lib\\site-packages\\ipykernel_launcher.py:42: FutureWarning: Sorting because non-concatenation axis is not aligned. A future version\n",
      "of pandas will change to not sort by default.\n",
      "\n",
      "To accept the future behavior, pass 'sort=False'.\n",
      "\n",
      "To retain the current behavior and silence the warning, pass 'sort=True'.\n",
      "\n",
      "C:\\Users\\74857\\Anaconda3\\lib\\site-packages\\ipykernel_launcher.py:48: FutureWarning: Sorting because non-concatenation axis is not aligned. A future version\n",
      "of pandas will change to not sort by default.\n",
      "\n",
      "To accept the future behavior, pass 'sort=False'.\n",
      "\n",
      "To retain the current behavior and silence the warning, pass 'sort=True'.\n",
      "\n"
     ]
    },
    {
     "ename": "ZeroDivisionError",
     "evalue": "division by zero",
     "output_type": "error",
     "traceback": [
      "\u001b[1;31m---------------------------------------------------------------------------\u001b[0m",
      "\u001b[1;31mZeroDivisionError\u001b[0m                         Traceback (most recent call last)",
      "\u001b[1;32m<ipython-input-216-78a37486b998>\u001b[0m in \u001b[0;36m<module>\u001b[1;34m\u001b[0m\n\u001b[0;32m      3\u001b[0m \u001b[1;31m#-> 처음부터 모두 만든다\u001b[0m\u001b[1;33m\u001b[0m\u001b[1;33m\u001b[0m\u001b[1;33m\u001b[0m\u001b[0m\n\u001b[0;32m      4\u001b[0m \u001b[1;33m\u001b[0m\u001b[0m\n\u001b[1;32m----> 5\u001b[1;33m \u001b[0mCheck_mat\u001b[0m \u001b[1;33m=\u001b[0m\u001b[0mMakeTSMatrix\u001b[0m\u001b[1;33m(\u001b[0m\u001b[0mTest_data\u001b[0m\u001b[1;33m,\u001b[0m\u001b[1;34m'N80:Y20'\u001b[0m\u001b[1;33m)\u001b[0m\u001b[1;33m\u001b[0m\u001b[1;33m\u001b[0m\u001b[0m\n\u001b[0m\u001b[0;32m      6\u001b[0m \u001b[0mprint\u001b[0m\u001b[1;33m(\u001b[0m\u001b[0mCheck_mat\u001b[0m\u001b[1;33m)\u001b[0m\u001b[1;33m\u001b[0m\u001b[1;33m\u001b[0m\u001b[0m\n",
      "\u001b[1;32m<ipython-input-215-8882058dca8c>\u001b[0m in \u001b[0;36mMakeTSMatrix\u001b[1;34m(dataDF_X, Compare, colname)\u001b[0m\n\u001b[0;32m     56\u001b[0m         \u001b[1;32mfor\u001b[0m \u001b[0mj\u001b[0m \u001b[1;32min\u001b[0m \u001b[0mrange\u001b[0m\u001b[1;33m(\u001b[0m\u001b[1;36m1\u001b[0m\u001b[1;33m,\u001b[0m\u001b[1;36m10\u001b[0m\u001b[1;33m)\u001b[0m\u001b[1;33m:\u001b[0m\u001b[1;33m\u001b[0m\u001b[1;33m\u001b[0m\u001b[0m\n\u001b[0;32m     57\u001b[0m             Rating_Change_Matrix[i-1][j-1]=round(len(dataDF_X[(dataDF['CHEONGSOL_YN']==0) & (dataDF_X[colname]==i) & (dataDF_X[Compare]==j)]\n\u001b[1;32m---> 58\u001b[1;33m                                               )/len(dataDF_X[(dataDF['CHEONGSOL_YN']==0) & (dataDF_X[colname]==i)]),2)\n\u001b[0m\u001b[0;32m     59\u001b[0m \u001b[1;33m\u001b[0m\u001b[0m\n\u001b[0;32m     60\u001b[0m     \u001b[1;32mreturn\u001b[0m \u001b[0mRating_Change_Matrix\u001b[0m\u001b[1;33m\u001b[0m\u001b[1;33m\u001b[0m\u001b[0m\n",
      "\u001b[1;31mZeroDivisionError\u001b[0m: division by zero"
     ]
    }
   ],
   "source": [
    "#Test_data = MakeRank_by_rating(small_data,SUB_CODE=3000) #재학생 100% 행\n",
    "\n",
    "#-> 처음부터 모두 만든다\n",
    "\n",
    "Check_mat = MakeTSMatrix(Test_data,'N80:Y20')\n",
    "print(Check_mat)"
   ]
  },
  {
   "cell_type": "code",
   "execution_count": 230,
   "metadata": {},
   "outputs": [
    {
     "data": {
      "text/plain": [
       "366"
      ]
     },
     "execution_count": 230,
     "metadata": {},
     "output_type": "execute_result"
    }
   ],
   "source": [
    "len(Test_data[(Test_data['CHEONGSOL_YN']==0) & (Test_data['N80:Y20']==9)])"
   ]
  },
  {
   "cell_type": "code",
   "execution_count": 233,
   "metadata": {},
   "outputs": [
    {
     "name": "stdout",
     "output_type": "stream",
     "text": [
      "[[0.79 0.21 0.   0.   0.   0.   0.   0.   0.  ]\n",
      " [0.   0.67 0.33 0.   0.   0.   0.   0.   0.  ]\n",
      " [0.   0.   1.   0.   0.   0.   0.   0.   0.  ]\n",
      " [0.   0.   0.   0.83 0.17 0.   0.   0.   0.  ]\n",
      " [0.   0.   0.   0.   0.87 0.13 0.   0.   0.  ]\n",
      " [0.   0.   0.   0.   0.   0.92 0.08 0.   0.  ]\n",
      " [0.   0.   0.   0.   0.   0.   0.94 0.06 0.  ]\n",
      " [0.   0.   0.   0.   0.   0.   0.   0.93 0.07]\n",
      " [0.   0.   0.   0.   0.   0.   0.   0.   1.  ]]\n"
     ]
    }
   ],
   "source": [
    "Check_mat = MakeTSMatrix(Test_data,'N80:Y20')\n",
    "print(Check_mat)"
   ]
  },
  {
   "cell_type": "code",
   "execution_count": 234,
   "metadata": {},
   "outputs": [
    {
     "name": "stdout",
     "output_type": "stream",
     "text": [
      "[[1.   0.   0.   0.   0.   0.   0.   0.   0.  ]\n",
      " [0.   1.   0.   0.   0.   0.   0.   0.   0.  ]\n",
      " [0.   0.   0.78 0.22 0.   0.   0.   0.   0.  ]\n",
      " [0.   0.   0.   1.   0.   0.   0.   0.   0.  ]\n",
      " [0.   0.   0.   0.   0.86 0.14 0.   0.   0.  ]\n",
      " [0.   0.   0.   0.   0.   0.9  0.1  0.   0.  ]\n",
      " [0.   0.   0.   0.   0.   0.   0.88 0.12 0.  ]\n",
      " [0.   0.   0.   0.   0.   0.   0.   0.95 0.05]\n",
      " [0.   0.   0.   0.   0.   0.   0.   0.   1.  ]]\n"
     ]
    }
   ],
   "source": [
    "Check_mat = MakeTSMatrix(Test_data,'N70:Y30','N80:Y20')\n",
    "print(Check_mat)"
   ]
  },
  {
   "cell_type": "code",
   "execution_count": 220,
   "metadata": {},
   "outputs": [
    {
     "data": {
      "text/html": [
       "<div>\n",
       "<style scoped>\n",
       "    .dataframe tbody tr th:only-of-type {\n",
       "        vertical-align: middle;\n",
       "    }\n",
       "\n",
       "    .dataframe tbody tr th {\n",
       "        vertical-align: top;\n",
       "    }\n",
       "\n",
       "    .dataframe thead th {\n",
       "        text-align: right;\n",
       "    }\n",
       "</style>\n",
       "<table border=\"1\" class=\"dataframe\">\n",
       "  <thead>\n",
       "    <tr style=\"text-align: right;\">\n",
       "      <th></th>\n",
       "      <th>AC_PCT</th>\n",
       "      <th>AC_STD</th>\n",
       "      <th>CHEONGSOL_YN</th>\n",
       "      <th>EXAMNO</th>\n",
       "      <th>EXAMTYPE</th>\n",
       "      <th>MEM_NO</th>\n",
       "      <th>N75:Y25</th>\n",
       "      <th>N80:Y20</th>\n",
       "      <th>N85:Y15</th>\n",
       "      <th>N90:Y10</th>\n",
       "      <th>N95:Y5</th>\n",
       "      <th>PURE_RATING</th>\n",
       "      <th>RATING</th>\n",
       "      <th>SCORE</th>\n",
       "      <th>SUB_CD</th>\n",
       "      <th>N70:Y30</th>\n",
       "    </tr>\n",
       "  </thead>\n",
       "  <tbody>\n",
       "    <tr>\n",
       "      <th>2042741</th>\n",
       "      <td>95.0</td>\n",
       "      <td>125.0</td>\n",
       "      <td>0</td>\n",
       "      <td>3028</td>\n",
       "      <td>2</td>\n",
       "      <td>1811401301001</td>\n",
       "      <td>4.0</td>\n",
       "      <td>4.0</td>\n",
       "      <td>4.0</td>\n",
       "      <td>4.0</td>\n",
       "      <td>4.0</td>\n",
       "      <td>4.0</td>\n",
       "      <td>2</td>\n",
       "      <td>80</td>\n",
       "      <td>3000</td>\n",
       "      <td>4</td>\n",
       "    </tr>\n",
       "    <tr>\n",
       "      <th>2042745</th>\n",
       "      <td>90.0</td>\n",
       "      <td>120.0</td>\n",
       "      <td>0</td>\n",
       "      <td>3028</td>\n",
       "      <td>2</td>\n",
       "      <td>1811401301002</td>\n",
       "      <td>5.0</td>\n",
       "      <td>5.0</td>\n",
       "      <td>5.0</td>\n",
       "      <td>5.0</td>\n",
       "      <td>5.0</td>\n",
       "      <td>5.0</td>\n",
       "      <td>3</td>\n",
       "      <td>77</td>\n",
       "      <td>3000</td>\n",
       "      <td>5</td>\n",
       "    </tr>\n",
       "    <tr>\n",
       "      <th>2042749</th>\n",
       "      <td>80.0</td>\n",
       "      <td>110.0</td>\n",
       "      <td>0</td>\n",
       "      <td>3028</td>\n",
       "      <td>2</td>\n",
       "      <td>1811401301003</td>\n",
       "      <td>6.0</td>\n",
       "      <td>6.0</td>\n",
       "      <td>6.0</td>\n",
       "      <td>6.0</td>\n",
       "      <td>6.0</td>\n",
       "      <td>6.0</td>\n",
       "      <td>4</td>\n",
       "      <td>66</td>\n",
       "      <td>3000</td>\n",
       "      <td>6</td>\n",
       "    </tr>\n",
       "    <tr>\n",
       "      <th>2042753</th>\n",
       "      <td>90.0</td>\n",
       "      <td>120.0</td>\n",
       "      <td>0</td>\n",
       "      <td>3028</td>\n",
       "      <td>2</td>\n",
       "      <td>1811401301004</td>\n",
       "      <td>5.0</td>\n",
       "      <td>5.0</td>\n",
       "      <td>5.0</td>\n",
       "      <td>5.0</td>\n",
       "      <td>5.0</td>\n",
       "      <td>5.0</td>\n",
       "      <td>3</td>\n",
       "      <td>77</td>\n",
       "      <td>3000</td>\n",
       "      <td>5</td>\n",
       "    </tr>\n",
       "    <tr>\n",
       "      <th>2042757</th>\n",
       "      <td>80.0</td>\n",
       "      <td>110.0</td>\n",
       "      <td>0</td>\n",
       "      <td>3028</td>\n",
       "      <td>2</td>\n",
       "      <td>1811401301005</td>\n",
       "      <td>6.0</td>\n",
       "      <td>6.0</td>\n",
       "      <td>6.0</td>\n",
       "      <td>6.0</td>\n",
       "      <td>6.0</td>\n",
       "      <td>6.0</td>\n",
       "      <td>4</td>\n",
       "      <td>67</td>\n",
       "      <td>3000</td>\n",
       "      <td>6</td>\n",
       "    </tr>\n",
       "  </tbody>\n",
       "</table>\n",
       "</div>"
      ],
      "text/plain": [
       "         AC_PCT  AC_STD  CHEONGSOL_YN  EXAMNO  EXAMTYPE         MEM_NO  \\\n",
       "2042741    95.0   125.0             0    3028         2  1811401301001   \n",
       "2042745    90.0   120.0             0    3028         2  1811401301002   \n",
       "2042749    80.0   110.0             0    3028         2  1811401301003   \n",
       "2042753    90.0   120.0             0    3028         2  1811401301004   \n",
       "2042757    80.0   110.0             0    3028         2  1811401301005   \n",
       "\n",
       "         N75:Y25  N80:Y20  N85:Y15  N90:Y10  N95:Y5  PURE_RATING  RATING  \\\n",
       "2042741      4.0      4.0      4.0      4.0     4.0          4.0       2   \n",
       "2042745      5.0      5.0      5.0      5.0     5.0          5.0       3   \n",
       "2042749      6.0      6.0      6.0      6.0     6.0          6.0       4   \n",
       "2042753      5.0      5.0      5.0      5.0     5.0          5.0       3   \n",
       "2042757      6.0      6.0      6.0      6.0     6.0          6.0       4   \n",
       "\n",
       "         SCORE  SUB_CD  N70:Y30  \n",
       "2042741     80    3000        4  \n",
       "2042745     77    3000        5  \n",
       "2042749     66    3000        6  \n",
       "2042753     77    3000        5  \n",
       "2042757     67    3000        6  "
      ]
     },
     "execution_count": 220,
     "metadata": {},
     "output_type": "execute_result"
    }
   ],
   "source": [
    "#Test_data=Concept_Rating(small_data[small_data['SUB_CD']==3000],'N80:Y20')\n",
    "\n",
    "Test_data.head()"
   ]
  }
 ],
 "metadata": {
  "kernelspec": {
   "display_name": "Python 3",
   "language": "python",
   "name": "python3"
  },
  "language_info": {
   "codemirror_mode": {
    "name": "ipython",
    "version": 3
   },
   "file_extension": ".py",
   "mimetype": "text/x-python",
   "name": "python",
   "nbconvert_exporter": "python",
   "pygments_lexer": "ipython3",
   "version": "3.7.1"
  }
 },
 "nbformat": 4,
 "nbformat_minor": 2
}
